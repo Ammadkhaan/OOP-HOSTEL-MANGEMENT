{
 "cells": [
  {
   "cell_type": "markdown",
   "id": "8d1b2883-fe9b-4675-878c-23b140858a0d",
   "metadata": {},
   "source": [
    "## Python Lists"
   ]
  },
  {
   "cell_type": "code",
   "execution_count": 2,
   "id": "96ac4ec1-d94f-40ae-a0e6-0b841617831e",
   "metadata": {},
   "outputs": [],
   "source": [
    "# Ordered Collection\n",
    "# Indexed\n",
    "# Mutable\n",
    "# Duplicates Elements Allow \n",
    "# Compound Data Type \n",
    "# Reference Type "
   ]
  },
  {
   "cell_type": "code",
   "execution_count": 3,
   "id": "0712410c-bd0c-45aa-ad63-e59a6da23829",
   "metadata": {},
   "outputs": [],
   "source": [
    "values = [[3, 6, 7], [2, 4, 6]]"
   ]
  },
  {
   "cell_type": "code",
   "execution_count": 4,
   "id": "e3d94e74-906f-430a-a5b7-f9c51dc684ae",
   "metadata": {},
   "outputs": [],
   "source": [
    "value = values[0]"
   ]
  },
  {
   "cell_type": "code",
   "execution_count": 5,
   "id": "610d3035-4765-42ae-8ae6-51942e9a2c55",
   "metadata": {},
   "outputs": [
    {
     "data": {
      "text/plain": [
       "[3, 6, 7]"
      ]
     },
     "execution_count": 5,
     "metadata": {},
     "output_type": "execute_result"
    }
   ],
   "source": [
    "value"
   ]
  },
  {
   "cell_type": "code",
   "execution_count": null,
   "id": "ebd46226-0121-4fd6-82b0-106c1ac34d02",
   "metadata": {},
   "outputs": [],
   "source": []
  },
  {
   "cell_type": "code",
   "execution_count": 6,
   "id": "2e4aeaf4-baf0-41b9-ab53-f412b44d58be",
   "metadata": {},
   "outputs": [],
   "source": [
    "import keyword"
   ]
  },
  {
   "cell_type": "code",
   "execution_count": 7,
   "id": "7910ba79-ad95-414e-8adc-271a826b3130",
   "metadata": {},
   "outputs": [
    {
     "data": {
      "text/plain": [
       "True"
      ]
     },
     "execution_count": 7,
     "metadata": {},
     "output_type": "execute_result"
    }
   ],
   "source": [
    "keyword.iskeyword('lambda')"
   ]
  },
  {
   "cell_type": "code",
   "execution_count": null,
   "id": "50a78057-4871-4312-8767-6eea5162516d",
   "metadata": {},
   "outputs": [],
   "source": []
  },
  {
   "cell_type": "code",
   "execution_count": 8,
   "id": "90a6fa9a-8751-47f3-8144-1d0c8c6e688b",
   "metadata": {},
   "outputs": [],
   "source": [
    "values = [[3, 6, 7], [2, 4, 6]]  # 2D List or Matrix "
   ]
  },
  {
   "cell_type": "code",
   "execution_count": 9,
   "id": "3a47304c-939d-41b0-ad9e-47ceda259884",
   "metadata": {},
   "outputs": [
    {
     "data": {
      "text/plain": [
       "[[2, 4, 6], [3, 6, 7]]"
      ]
     },
     "execution_count": 9,
     "metadata": {},
     "output_type": "execute_result"
    }
   ],
   "source": [
    "sorted(values, key=lambda value: value[2])   "
   ]
  },
  {
   "cell_type": "code",
   "execution_count": null,
   "id": "8fc35de8-9cdf-42f0-bdaf-9e34941490a0",
   "metadata": {},
   "outputs": [],
   "source": []
  },
  {
   "cell_type": "code",
   "execution_count": 10,
   "id": "cffbd1cb-4f5a-442c-8915-b9a438a3e74b",
   "metadata": {},
   "outputs": [],
   "source": [
    "users = [\"usman\", \"hassan\", \"ali\"]  "
   ]
  },
  {
   "cell_type": "code",
   "execution_count": 11,
   "id": "4ca84066-5a7b-4fa9-bdd7-6e9fce05714b",
   "metadata": {},
   "outputs": [],
   "source": [
    "users.sort(key=lambda user: len(user), reverse=True)  # 6, 5, 3 "
   ]
  },
  {
   "cell_type": "code",
   "execution_count": 12,
   "id": "6c482eb5-43b5-4115-8b13-16bb094212c9",
   "metadata": {},
   "outputs": [
    {
     "data": {
      "text/plain": [
       "['hassan', 'usman', 'ali']"
      ]
     },
     "execution_count": 12,
     "metadata": {},
     "output_type": "execute_result"
    }
   ],
   "source": [
    "users"
   ]
  },
  {
   "cell_type": "code",
   "execution_count": null,
   "id": "0e493963-cbff-4595-bf46-5c4d4a33fc0c",
   "metadata": {},
   "outputs": [],
   "source": []
  },
  {
   "cell_type": "code",
   "execution_count": 54,
   "id": "ea977aa0-677d-49ef-93b8-d54918f3e2c8",
   "metadata": {},
   "outputs": [],
   "source": [
    "# ord('a')  "
   ]
  },
  {
   "cell_type": "code",
   "execution_count": 55,
   "id": "afca73ca-a0ea-4e49-9445-124fde4fc84c",
   "metadata": {},
   "outputs": [],
   "source": [
    "# chr(65)"
   ]
  },
  {
   "cell_type": "code",
   "execution_count": null,
   "id": "fcc65b34-b6f4-4388-bb0a-fe817450e3dc",
   "metadata": {},
   "outputs": [],
   "source": []
  },
  {
   "cell_type": "code",
   "execution_count": 13,
   "id": "5213e4a3-b4be-4908-91fd-2dc999c5850c",
   "metadata": {},
   "outputs": [],
   "source": [
    "# 3D List   "
   ]
  },
  {
   "cell_type": "code",
   "execution_count": 14,
   "id": "612ab56e-5ce0-4948-8bfb-aafc9f13b6dd",
   "metadata": {},
   "outputs": [],
   "source": [
    "data = [\n",
    "    [\n",
    "      [2, 5, 5],\n",
    "      [1, 6, 7]\n",
    "    ],\n",
    "    [\n",
    "      [1, 5, 1],\n",
    "      [4, 6, 4]\n",
    "    ]\n",
    "]"
   ]
  },
  {
   "cell_type": "code",
   "execution_count": 15,
   "id": "4ce451bb-48f2-403c-a28b-3ad4046a84f3",
   "metadata": {},
   "outputs": [],
   "source": [
    "data[-1][0][-1] = 50  # update "
   ]
  },
  {
   "cell_type": "code",
   "execution_count": 16,
   "id": "c7edddac-a5f7-4be5-927c-f576ff77184c",
   "metadata": {},
   "outputs": [
    {
     "data": {
      "text/plain": [
       "[[1, 5, 50], [4, 6, 4]]"
      ]
     },
     "execution_count": 16,
     "metadata": {},
     "output_type": "execute_result"
    }
   ],
   "source": [
    "data[1]"
   ]
  },
  {
   "cell_type": "code",
   "execution_count": null,
   "id": "d6380959-a7d2-4729-8287-cafe55876b3f",
   "metadata": {},
   "outputs": [],
   "source": []
  },
  {
   "cell_type": "code",
   "execution_count": 17,
   "id": "148ef7c6-1f35-4705-a7e6-41958b6e9cab",
   "metadata": {},
   "outputs": [],
   "source": [
    "x = [3, 6, 8]"
   ]
  },
  {
   "cell_type": "code",
   "execution_count": 18,
   "id": "38ffbb7c-8918-43ef-9e55-ce2dba95454f",
   "metadata": {},
   "outputs": [
    {
     "data": {
      "text/plain": [
       "[3, 6, 8, 3]"
      ]
     },
     "execution_count": 18,
     "metadata": {},
     "output_type": "execute_result"
    }
   ],
   "source": [
    "x + [3]"
   ]
  },
  {
   "cell_type": "code",
   "execution_count": 19,
   "id": "57a5caed-8f26-489a-80bd-e58192c88d7b",
   "metadata": {},
   "outputs": [
    {
     "data": {
      "text/plain": [
       "[3, 6, 8, 3, 6, 8, 3, 6, 8]"
      ]
     },
     "execution_count": 19,
     "metadata": {},
     "output_type": "execute_result"
    }
   ],
   "source": [
    "x * 3"
   ]
  },
  {
   "cell_type": "code",
   "execution_count": 20,
   "id": "398ba957-ea5f-4d3f-9a9d-89700d3a8ae6",
   "metadata": {},
   "outputs": [
    {
     "data": {
      "text/plain": [
       "[3, 6, 8]"
      ]
     },
     "execution_count": 20,
     "metadata": {},
     "output_type": "execute_result"
    }
   ],
   "source": [
    "x"
   ]
  },
  {
   "cell_type": "code",
   "execution_count": 21,
   "id": "dec585cc-5aa5-44c8-9b7e-dbaaa43fc45c",
   "metadata": {},
   "outputs": [
    {
     "data": {
      "text/plain": [
       "True"
      ]
     },
     "execution_count": 21,
     "metadata": {},
     "output_type": "execute_result"
    }
   ],
   "source": [
    "3 in x"
   ]
  },
  {
   "cell_type": "code",
   "execution_count": null,
   "id": "2f01df77-5f44-42d9-a796-5a7c6a9fdfcd",
   "metadata": {},
   "outputs": [],
   "source": []
  },
  {
   "cell_type": "code",
   "execution_count": 22,
   "id": "1297e489-3840-461e-b2db-b144815f775a",
   "metadata": {},
   "outputs": [],
   "source": [
    "x = [2, 5, 7, 8, 6, 7, 1]"
   ]
  },
  {
   "cell_type": "code",
   "execution_count": 23,
   "id": "16ee32cf-0cb7-40ab-85ae-0ecc34d77711",
   "metadata": {},
   "outputs": [],
   "source": [
    "# list.remove()\n",
    "# list.pop()\n",
    "# list.clear()\n",
    "# del "
   ]
  },
  {
   "cell_type": "code",
   "execution_count": 24,
   "id": "2d244cb3-8b8d-445d-af70-5b318834c288",
   "metadata": {},
   "outputs": [],
   "source": [
    "# del x"
   ]
  },
  {
   "cell_type": "code",
   "execution_count": 25,
   "id": "7ce868f1-951c-4fd9-a9f4-32565a68cc0a",
   "metadata": {},
   "outputs": [],
   "source": [
    "# x"
   ]
  },
  {
   "cell_type": "code",
   "execution_count": 26,
   "id": "b813533e-86a5-47d3-8a21-4506e2cc97a9",
   "metadata": {},
   "outputs": [],
   "source": [
    "del x[:]"
   ]
  },
  {
   "cell_type": "code",
   "execution_count": 29,
   "id": "0fa9e92e-11e4-475a-8c2b-bc0cd40d0d9a",
   "metadata": {},
   "outputs": [],
   "source": [
    "# del x[0::2]"
   ]
  },
  {
   "cell_type": "code",
   "execution_count": 30,
   "id": "4be85c43-ae75-4e01-a155-3ccbd99c681f",
   "metadata": {},
   "outputs": [],
   "source": [
    "# x"
   ]
  },
  {
   "cell_type": "code",
   "execution_count": 31,
   "id": "28277241-1ccc-416d-a06b-9d88ebe42af1",
   "metadata": {},
   "outputs": [],
   "source": [
    "# x.clear()"
   ]
  },
  {
   "cell_type": "code",
   "execution_count": 33,
   "id": "afe6f6d6-e456-4f88-b59f-575e6b70a751",
   "metadata": {},
   "outputs": [],
   "source": [
    "# x.pop(2)  "
   ]
  },
  {
   "cell_type": "code",
   "execution_count": 34,
   "id": "59219061-bd65-4d87-b837-4c521cf35b65",
   "metadata": {},
   "outputs": [],
   "source": [
    "# x.remove(7)"
   ]
  },
  {
   "cell_type": "code",
   "execution_count": 35,
   "id": "fc018763-bd37-4483-85c0-9f37dee0a9fc",
   "metadata": {},
   "outputs": [],
   "source": [
    "# x"
   ]
  },
  {
   "cell_type": "code",
   "execution_count": null,
   "id": "54bb1cb3-2ee1-4f72-bffa-2b2818b6dd8e",
   "metadata": {},
   "outputs": [],
   "source": []
  },
  {
   "cell_type": "markdown",
   "id": "d878b561-06a3-4f51-aaa3-54d13dc145e0",
   "metadata": {},
   "source": [
    "### Python Array, Range, Tuple, Dict, Set, Frozenset"
   ]
  },
  {
   "cell_type": "markdown",
   "id": "a58f2183-a2bd-483e-8f9f-0f87d53d75df",
   "metadata": {},
   "source": [
    "#### Python Array "
   ]
  },
  {
   "cell_type": "code",
   "execution_count": 36,
   "id": "7e7486ff-8633-4c26-bcd4-b7400567c417",
   "metadata": {},
   "outputs": [],
   "source": [
    "from array import array"
   ]
  },
  {
   "cell_type": "code",
   "execution_count": 37,
   "id": "6f165792-1c46-4015-9865-7b2cadbffc36",
   "metadata": {},
   "outputs": [
    {
     "data": {
      "text/plain": [
       "type"
      ]
     },
     "execution_count": 37,
     "metadata": {},
     "output_type": "execute_result"
    }
   ],
   "source": [
    "type(array)"
   ]
  },
  {
   "cell_type": "code",
   "execution_count": 39,
   "id": "fb70e3b3-7575-4aaf-92d6-0bdc13a874ca",
   "metadata": {},
   "outputs": [],
   "source": [
    "# array?"
   ]
  },
  {
   "cell_type": "code",
   "execution_count": 40,
   "id": "749ca753-af5f-44ae-8e10-216a8f10c5c5",
   "metadata": {},
   "outputs": [],
   "source": [
    "data_1 = array('b', [2, 5, 7, 3])  # -128 to 127"
   ]
  },
  {
   "cell_type": "code",
   "execution_count": 41,
   "id": "4697abb6-3347-4e6f-80be-c0403cb86af4",
   "metadata": {},
   "outputs": [],
   "source": [
    "x = data_1"
   ]
  },
  {
   "cell_type": "code",
   "execution_count": 42,
   "id": "478690ec-4fbc-45f6-aa13-0930fecc81c0",
   "metadata": {},
   "outputs": [],
   "source": [
    "x[1] = 50"
   ]
  },
  {
   "cell_type": "code",
   "execution_count": 43,
   "id": "db3e48f1-1599-400b-be04-45168a3089af",
   "metadata": {},
   "outputs": [
    {
     "data": {
      "text/plain": [
       "array('b', [2, 50, 7, 3])"
      ]
     },
     "execution_count": 43,
     "metadata": {},
     "output_type": "execute_result"
    }
   ],
   "source": [
    "x"
   ]
  },
  {
   "cell_type": "code",
   "execution_count": 44,
   "id": "ea6f311a-2b2e-4904-b965-eac10cea81c5",
   "metadata": {},
   "outputs": [
    {
     "data": {
      "text/plain": [
       "array('b', [2, 50, 7, 3])"
      ]
     },
     "execution_count": 44,
     "metadata": {},
     "output_type": "execute_result"
    }
   ],
   "source": [
    "data_1"
   ]
  },
  {
   "cell_type": "code",
   "execution_count": null,
   "id": "0b33672a-fe96-4f9b-b64d-c280dd7f092b",
   "metadata": {},
   "outputs": [],
   "source": []
  },
  {
   "cell_type": "code",
   "execution_count": 46,
   "id": "2727f4d7-b2b1-463d-bef8-8fa4b3123895",
   "metadata": {},
   "outputs": [],
   "source": [
    "data_2 = array('b', [2, 5, 7, 3])"
   ]
  },
  {
   "cell_type": "code",
   "execution_count": 47,
   "id": "b76ad463-4dec-467e-8d22-1e1a8c1e3ccb",
   "metadata": {},
   "outputs": [],
   "source": [
    "data_2.append(2)"
   ]
  },
  {
   "cell_type": "code",
   "execution_count": 48,
   "id": "af535ee9-21c7-49a7-ba24-bdd133656a06",
   "metadata": {},
   "outputs": [
    {
     "data": {
      "text/plain": [
       "array('b', [2, 5, 7, 3, 2])"
      ]
     },
     "execution_count": 48,
     "metadata": {},
     "output_type": "execute_result"
    }
   ],
   "source": [
    "data_2"
   ]
  },
  {
   "cell_type": "code",
   "execution_count": null,
   "id": "d1ffd1ef-4836-4d1e-9015-f4ca1b0039fc",
   "metadata": {},
   "outputs": [],
   "source": []
  },
  {
   "cell_type": "markdown",
   "id": "6b4e605f-2970-4d74-aeb6-0f58adb53b9a",
   "metadata": {},
   "source": [
    "#### Python Range"
   ]
  },
  {
   "cell_type": "code",
   "execution_count": 49,
   "id": "91fa16e4-d494-4eac-8852-7b34a1fe45f0",
   "metadata": {},
   "outputs": [],
   "source": [
    "x = range(5)"
   ]
  },
  {
   "cell_type": "code",
   "execution_count": 50,
   "id": "8989e629-5da6-4a47-8d0b-285ba4c93ab4",
   "metadata": {},
   "outputs": [
    {
     "data": {
      "text/plain": [
       "{0, 1, 2, 3, 4}"
      ]
     },
     "execution_count": 50,
     "metadata": {},
     "output_type": "execute_result"
    }
   ],
   "source": [
    "set(x)"
   ]
  },
  {
   "cell_type": "code",
   "execution_count": 51,
   "id": "2ca38367-0b13-4a88-a7d0-ce888bfa248b",
   "metadata": {},
   "outputs": [
    {
     "data": {
      "text/plain": [
       "[0, 1, 2, 3, 4]"
      ]
     },
     "execution_count": 51,
     "metadata": {},
     "output_type": "execute_result"
    }
   ],
   "source": [
    "list(x)"
   ]
  },
  {
   "cell_type": "code",
   "execution_count": 52,
   "id": "01923960-829c-41ee-b395-69a8f3817d56",
   "metadata": {},
   "outputs": [
    {
     "data": {
      "text/plain": [
       "(0, 1, 2, 3, 4)"
      ]
     },
     "execution_count": 52,
     "metadata": {},
     "output_type": "execute_result"
    }
   ],
   "source": [
    "tuple(x)"
   ]
  },
  {
   "cell_type": "code",
   "execution_count": 53,
   "id": "c4594fca-7d7a-4dde-b4a5-1ab8f99ae402",
   "metadata": {},
   "outputs": [],
   "source": [
    "x = range(1, 11, 2)"
   ]
  },
  {
   "cell_type": "code",
   "execution_count": 54,
   "id": "b7c614be-9fee-4ce0-9d81-5473f919555c",
   "metadata": {},
   "outputs": [
    {
     "data": {
      "text/plain": [
       "[1, 3, 5, 7, 9]"
      ]
     },
     "execution_count": 54,
     "metadata": {},
     "output_type": "execute_result"
    }
   ],
   "source": [
    "list(x)"
   ]
  },
  {
   "cell_type": "code",
   "execution_count": 55,
   "id": "65b3d467-6acf-4fd7-8211-3743f53540ef",
   "metadata": {},
   "outputs": [],
   "source": [
    "x = range(-10, -5)"
   ]
  },
  {
   "cell_type": "code",
   "execution_count": 56,
   "id": "a44ca1ba-d47a-4600-9f08-245a8e6c66b9",
   "metadata": {},
   "outputs": [
    {
     "data": {
      "text/plain": [
       "[-10, -9, -8, -7, -6]"
      ]
     },
     "execution_count": 56,
     "metadata": {},
     "output_type": "execute_result"
    }
   ],
   "source": [
    "list(x)"
   ]
  },
  {
   "cell_type": "code",
   "execution_count": 193,
   "id": "80b6a67e-093b-4415-bbae-c6195af1d8b9",
   "metadata": {},
   "outputs": [],
   "source": [
    "# 10 to 1"
   ]
  },
  {
   "cell_type": "code",
   "execution_count": 58,
   "id": "ef05bc33-4aa7-4a4a-b1d2-04235d1035c1",
   "metadata": {},
   "outputs": [
    {
     "data": {
      "text/plain": [
       "[10, 9, 8, 7, 6, 5, 4, 3, 2, 1]"
      ]
     },
     "execution_count": 58,
     "metadata": {},
     "output_type": "execute_result"
    }
   ],
   "source": [
    "list(range(10, 0, -1))"
   ]
  },
  {
   "cell_type": "code",
   "execution_count": null,
   "id": "1f1eae14-a52e-4103-9433-0c28182188bc",
   "metadata": {},
   "outputs": [],
   "source": []
  },
  {
   "cell_type": "markdown",
   "id": "ac0dc820-9087-4cc3-83f0-23db3a7af88a",
   "metadata": {},
   "source": [
    "### Python Tuple "
   ]
  },
  {
   "cell_type": "code",
   "execution_count": 59,
   "id": "79d4cf2d-1c63-4bf4-9112-1bec7629af3d",
   "metadata": {},
   "outputs": [],
   "source": [
    "t1 = (4,)"
   ]
  },
  {
   "cell_type": "code",
   "execution_count": 60,
   "id": "9d6bed2d-cbc5-430a-a210-34bca8e39bcb",
   "metadata": {},
   "outputs": [
    {
     "data": {
      "text/plain": [
       "tuple"
      ]
     },
     "execution_count": 60,
     "metadata": {},
     "output_type": "execute_result"
    }
   ],
   "source": [
    "type(t1)"
   ]
  },
  {
   "cell_type": "code",
   "execution_count": 61,
   "id": "792385f9-afce-4472-b117-6e41467fbd31",
   "metadata": {},
   "outputs": [],
   "source": [
    "t2 = tuple((2, 4, 5))"
   ]
  },
  {
   "cell_type": "code",
   "execution_count": 62,
   "id": "8e43629f-2f46-40dd-89c7-4e3d61244417",
   "metadata": {},
   "outputs": [
    {
     "data": {
      "text/plain": [
       "tuple"
      ]
     },
     "execution_count": 62,
     "metadata": {},
     "output_type": "execute_result"
    }
   ],
   "source": [
    "type(t2)"
   ]
  },
  {
   "cell_type": "code",
   "execution_count": 63,
   "id": "ff78d2a7-731e-46ee-8f1c-2024bd9ab856",
   "metadata": {},
   "outputs": [],
   "source": [
    "t3 = 3, 5, 6   # tuple packing "
   ]
  },
  {
   "cell_type": "code",
   "execution_count": 64,
   "id": "aefcecc2-1e72-4f29-a818-ac21a13193a3",
   "metadata": {},
   "outputs": [],
   "source": [
    "a, b, c = t3   # tuple unpacking "
   ]
  },
  {
   "cell_type": "code",
   "execution_count": 65,
   "id": "5ce51180-ca94-46fb-8f6b-c8f43c1cf89e",
   "metadata": {},
   "outputs": [],
   "source": [
    "*a, b = t3"
   ]
  },
  {
   "cell_type": "code",
   "execution_count": 66,
   "id": "610f9950-3d91-4d9e-84fb-95f358741788",
   "metadata": {},
   "outputs": [
    {
     "data": {
      "text/plain": [
       "[3, 5]"
      ]
     },
     "execution_count": 66,
     "metadata": {},
     "output_type": "execute_result"
    }
   ],
   "source": [
    "a"
   ]
  },
  {
   "cell_type": "code",
   "execution_count": 67,
   "id": "f4c516dc-7d34-4a54-85f3-c720940a0d68",
   "metadata": {},
   "outputs": [
    {
     "data": {
      "text/plain": [
       "6"
      ]
     },
     "execution_count": 67,
     "metadata": {},
     "output_type": "execute_result"
    }
   ],
   "source": [
    "b"
   ]
  },
  {
   "cell_type": "code",
   "execution_count": null,
   "id": "9c8df326-1976-4838-9083-5d762f093f03",
   "metadata": {},
   "outputs": [],
   "source": []
  },
  {
   "cell_type": "code",
   "execution_count": 68,
   "id": "3af79042-2cb2-425b-b9e6-f33e168c8f36",
   "metadata": {},
   "outputs": [],
   "source": [
    "t4 = (2, 5, 7)"
   ]
  },
  {
   "cell_type": "code",
   "execution_count": 69,
   "id": "02a478ab-257e-4766-acdb-d942d3136cfb",
   "metadata": {},
   "outputs": [],
   "source": [
    "# Indexing \n",
    "# Slicing "
   ]
  },
  {
   "cell_type": "code",
   "execution_count": 70,
   "id": "b89e2937-ca56-4899-a0f6-9abd70623f21",
   "metadata": {},
   "outputs": [],
   "source": [
    "# t4[-1] = 50   # Error "
   ]
  },
  {
   "cell_type": "code",
   "execution_count": 71,
   "id": "4d97b57e-035e-4c3e-bbe4-0db601fd24e5",
   "metadata": {},
   "outputs": [],
   "source": [
    "# Remove X\n",
    "# Update X\n",
    "# Append X"
   ]
  },
  {
   "cell_type": "code",
   "execution_count": 72,
   "id": "07bf825d-5bc6-44c7-8048-0a59851bfea6",
   "metadata": {},
   "outputs": [],
   "source": [
    "# index()\n",
    "# count()"
   ]
  },
  {
   "cell_type": "code",
   "execution_count": 73,
   "id": "cf9696b7-72d0-48d4-b323-21520bd1477b",
   "metadata": {},
   "outputs": [],
   "source": [
    "t5 = (3, 6, 7)"
   ]
  },
  {
   "cell_type": "code",
   "execution_count": 74,
   "id": "6ed88d7d-55eb-445f-8f74-0fff76e8599a",
   "metadata": {},
   "outputs": [
    {
     "data": {
      "text/plain": [
       "(3, 6, 7, 2, 6)"
      ]
     },
     "execution_count": 74,
     "metadata": {},
     "output_type": "execute_result"
    }
   ],
   "source": [
    "t5 + (2, 6)"
   ]
  },
  {
   "cell_type": "code",
   "execution_count": 75,
   "id": "6618d7e1-1f91-4007-8d61-c7b31cdd9a04",
   "metadata": {},
   "outputs": [
    {
     "data": {
      "text/plain": [
       "(3, 6, 7, 3, 6, 7)"
      ]
     },
     "execution_count": 75,
     "metadata": {},
     "output_type": "execute_result"
    }
   ],
   "source": [
    "t5 * 2"
   ]
  },
  {
   "cell_type": "code",
   "execution_count": 76,
   "id": "387d821a-640f-4d80-af6d-f8f9c7950bcb",
   "metadata": {},
   "outputs": [
    {
     "data": {
      "text/plain": [
       "(3, 6, 7)"
      ]
     },
     "execution_count": 76,
     "metadata": {},
     "output_type": "execute_result"
    }
   ],
   "source": [
    "t5"
   ]
  },
  {
   "cell_type": "code",
   "execution_count": 77,
   "id": "7139172e-0138-4f5f-8b1c-f1afd50b49b7",
   "metadata": {},
   "outputs": [
    {
     "data": {
      "text/plain": [
       "True"
      ]
     },
     "execution_count": 77,
     "metadata": {},
     "output_type": "execute_result"
    }
   ],
   "source": [
    "6 in t5"
   ]
  },
  {
   "cell_type": "code",
   "execution_count": null,
   "id": "1f02a05d-554e-4bdc-b3f0-be24b7af8394",
   "metadata": {},
   "outputs": [],
   "source": []
  },
  {
   "cell_type": "code",
   "execution_count": 78,
   "id": "dd67ba42-c14b-4195-864e-8c0d5765b0fb",
   "metadata": {},
   "outputs": [],
   "source": [
    "t6 = ((2, 4), (2, 8), (2, 9))"
   ]
  },
  {
   "cell_type": "code",
   "execution_count": 79,
   "id": "8e726772-70fb-4a34-958b-938d2635796a",
   "metadata": {},
   "outputs": [],
   "source": [
    "a, b = t6[-1]"
   ]
  },
  {
   "cell_type": "code",
   "execution_count": 80,
   "id": "86c91a33-4fe3-49b1-a5d7-40db3dc8ef82",
   "metadata": {},
   "outputs": [],
   "source": [
    "# del t6[0]"
   ]
  },
  {
   "cell_type": "code",
   "execution_count": 81,
   "id": "a0f534f1-6ed9-46e3-9f59-41e55ac1507b",
   "metadata": {},
   "outputs": [],
   "source": [
    "t7 = (3, 5.7, \"xyz\", [5, 8, 9])"
   ]
  },
  {
   "cell_type": "code",
   "execution_count": 82,
   "id": "9806905c-d8a7-4611-a870-6fdeb6b435b1",
   "metadata": {},
   "outputs": [
    {
     "data": {
      "text/plain": [
       "(3, 5.7, 'xyz', [5, 8, 9])"
      ]
     },
     "execution_count": 82,
     "metadata": {},
     "output_type": "execute_result"
    }
   ],
   "source": [
    "t7"
   ]
  },
  {
   "cell_type": "code",
   "execution_count": 83,
   "id": "dea5d9d4-b23b-4553-89de-df0b30391036",
   "metadata": {},
   "outputs": [],
   "source": [
    "t7[-1].append(10)"
   ]
  },
  {
   "cell_type": "code",
   "execution_count": 84,
   "id": "3bd1d088-17b8-422a-a294-84a1dfb98e75",
   "metadata": {},
   "outputs": [
    {
     "data": {
      "text/plain": [
       "(3, 5.7, 'xyz', [5, 8, 9, 10])"
      ]
     },
     "execution_count": 84,
     "metadata": {},
     "output_type": "execute_result"
    }
   ],
   "source": [
    "t7"
   ]
  },
  {
   "cell_type": "code",
   "execution_count": 85,
   "id": "d810e141-1662-4e55-bec6-593d33cbdfe6",
   "metadata": {},
   "outputs": [
    {
     "data": {
      "text/plain": [
       "'XYZ'"
      ]
     },
     "execution_count": 85,
     "metadata": {},
     "output_type": "execute_result"
    }
   ],
   "source": [
    "t7[2].upper()"
   ]
  },
  {
   "cell_type": "code",
   "execution_count": 86,
   "id": "222e0a7f-5449-4f14-a05f-033ca7044f2b",
   "metadata": {},
   "outputs": [
    {
     "data": {
      "text/plain": [
       "(3, 5.7, 'xyz', [5, 8, 9, 10])"
      ]
     },
     "execution_count": 86,
     "metadata": {},
     "output_type": "execute_result"
    }
   ],
   "source": [
    "t7"
   ]
  },
  {
   "cell_type": "code",
   "execution_count": 87,
   "id": "fffbc151-89b2-4eb0-99e8-1187379f63ef",
   "metadata": {},
   "outputs": [],
   "source": [
    "t7[-1].sort(reverse=True)"
   ]
  },
  {
   "cell_type": "code",
   "execution_count": 88,
   "id": "876e4043-0d36-43a5-921f-ef4bbee2e9d2",
   "metadata": {},
   "outputs": [
    {
     "data": {
      "text/plain": [
       "(3, 5.7, 'xyz', [10, 9, 8, 5])"
      ]
     },
     "execution_count": 88,
     "metadata": {},
     "output_type": "execute_result"
    }
   ],
   "source": [
    "t7"
   ]
  },
  {
   "cell_type": "code",
   "execution_count": null,
   "id": "70a3c229-f2c4-4e9d-9d33-68efc68e26b6",
   "metadata": {},
   "outputs": [],
   "source": []
  },
  {
   "cell_type": "code",
   "execution_count": 89,
   "id": "4e8e06f8-1317-4a79-a1ac-56b3e7220059",
   "metadata": {},
   "outputs": [],
   "source": [
    "t1 = (2, 5, 8)"
   ]
  },
  {
   "cell_type": "code",
   "execution_count": 90,
   "id": "23ba1b9e-21e3-4ef2-b491-a75070038e6e",
   "metadata": {},
   "outputs": [],
   "source": [
    "# t2 = t1  "
   ]
  },
  {
   "cell_type": "code",
   "execution_count": null,
   "id": "2eacfcf2-9015-4b20-a659-d4a60f6747e9",
   "metadata": {},
   "outputs": [],
   "source": []
  },
  {
   "cell_type": "code",
   "execution_count": 91,
   "id": "14f86104-de5a-48df-b187-8cba3b7e4f1f",
   "metadata": {},
   "outputs": [],
   "source": [
    "t8 = (2, 7, 1, 2, 8)"
   ]
  },
  {
   "cell_type": "code",
   "execution_count": 92,
   "id": "ae7a5774-c454-4c1d-94ff-2c301ca187c4",
   "metadata": {},
   "outputs": [
    {
     "data": {
      "text/plain": [
       "1"
      ]
     },
     "execution_count": 92,
     "metadata": {},
     "output_type": "execute_result"
    }
   ],
   "source": [
    "t8.index(7)"
   ]
  },
  {
   "cell_type": "code",
   "execution_count": null,
   "id": "14ddd6b0-e400-40a7-9e60-ac9450affa54",
   "metadata": {},
   "outputs": [],
   "source": []
  },
  {
   "cell_type": "code",
   "execution_count": 93,
   "id": "3a179918-c59a-4daf-a20a-17bcebced9cd",
   "metadata": {},
   "outputs": [],
   "source": [
    "# print(3, 4, 6) # "
   ]
  },
  {
   "cell_type": "code",
   "execution_count": 94,
   "id": "8f4b92ba-3201-45b3-a159-2b3837f4364c",
   "metadata": {},
   "outputs": [],
   "source": [
    "# str.format?"
   ]
  },
  {
   "cell_type": "code",
   "execution_count": 95,
   "id": "566c1123-e1b5-45de-9093-2e6b29bd4cc9",
   "metadata": {},
   "outputs": [],
   "source": [
    "# \"value 1: {}, value 2: {}\".format(5)"
   ]
  },
  {
   "cell_type": "code",
   "execution_count": null,
   "id": "daa17509-da75-41ed-a4cb-0b62a75b455a",
   "metadata": {},
   "outputs": [],
   "source": []
  },
  {
   "cell_type": "code",
   "execution_count": 96,
   "id": "308a38c2-3ab0-47a4-9201-02c6badb46f2",
   "metadata": {},
   "outputs": [],
   "source": [
    "t9 = (1, 6, 8, 9)"
   ]
  },
  {
   "cell_type": "code",
   "execution_count": 97,
   "id": "c160b950-cc6e-42ce-908b-4f2b89d6de84",
   "metadata": {},
   "outputs": [],
   "source": [
    "# t9[5]"
   ]
  },
  {
   "cell_type": "code",
   "execution_count": null,
   "id": "e1a9efd9-7b44-4da9-ba82-f79105dddfc0",
   "metadata": {},
   "outputs": [],
   "source": []
  },
  {
   "cell_type": "code",
   "execution_count": 98,
   "id": "c73b98d2-de5e-4c24-bfa2-f142e5ca230e",
   "metadata": {},
   "outputs": [],
   "source": [
    "t = 3,"
   ]
  },
  {
   "cell_type": "code",
   "execution_count": 99,
   "id": "77200d24-af99-41d5-b2ff-3c11145588d8",
   "metadata": {},
   "outputs": [
    {
     "data": {
      "text/plain": [
       "tuple"
      ]
     },
     "execution_count": 99,
     "metadata": {},
     "output_type": "execute_result"
    }
   ],
   "source": [
    "type(t)"
   ]
  },
  {
   "cell_type": "code",
   "execution_count": null,
   "id": "a4d451da-7f7a-49ee-81e1-f259f1063b76",
   "metadata": {},
   "outputs": [],
   "source": []
  },
  {
   "cell_type": "markdown",
   "id": "40bc53c4-5db2-4cb4-a8fe-a08e6f6847c0",
   "metadata": {},
   "source": [
    "### Python Sets"
   ]
  },
  {
   "cell_type": "code",
   "execution_count": 100,
   "id": "0d19b3c7-cb90-4937-b2c9-d0b28f6b96d6",
   "metadata": {},
   "outputs": [],
   "source": [
    "s1 = set()"
   ]
  },
  {
   "cell_type": "code",
   "execution_count": 101,
   "id": "61ecd3f6-925f-4932-b19f-72a04fd31407",
   "metadata": {},
   "outputs": [
    {
     "data": {
      "text/plain": [
       "set"
      ]
     },
     "execution_count": 101,
     "metadata": {},
     "output_type": "execute_result"
    }
   ],
   "source": [
    "type(s1)"
   ]
  },
  {
   "cell_type": "code",
   "execution_count": 102,
   "id": "c6f67e4b-40bf-47ea-a749-bc7d5c5f752a",
   "metadata": {},
   "outputs": [],
   "source": [
    "s2 = {5}"
   ]
  },
  {
   "cell_type": "code",
   "execution_count": 103,
   "id": "8af94b58-eba1-4d8e-bca0-b6fcbf4a0ced",
   "metadata": {},
   "outputs": [
    {
     "data": {
      "text/plain": [
       "set"
      ]
     },
     "execution_count": 103,
     "metadata": {},
     "output_type": "execute_result"
    }
   ],
   "source": [
    "type(s2)"
   ]
  },
  {
   "cell_type": "code",
   "execution_count": 104,
   "id": "f7806dec-a041-4173-ac73-4ed5cd68afbe",
   "metadata": {},
   "outputs": [],
   "source": [
    "s3 = {2, 6, 7, 8, 1, 6}"
   ]
  },
  {
   "cell_type": "code",
   "execution_count": 105,
   "id": "37535fcb-a1d9-435a-96ab-c4913d9b8138",
   "metadata": {},
   "outputs": [
    {
     "name": "stdout",
     "output_type": "stream",
     "text": [
      "{1, 2, 6, 7, 8}\n"
     ]
    }
   ],
   "source": [
    "print(s3)"
   ]
  },
  {
   "cell_type": "code",
   "execution_count": null,
   "id": "f2a65e6a-52ea-41f5-98ce-11603de2fa04",
   "metadata": {},
   "outputs": [],
   "source": []
  },
  {
   "cell_type": "code",
   "execution_count": 106,
   "id": "747843c0-f9bd-467b-9e38-4c146d57359c",
   "metadata": {},
   "outputs": [],
   "source": [
    "users = [\"ali\", \"usman\", \"ali\"]"
   ]
  },
  {
   "cell_type": "code",
   "execution_count": 107,
   "id": "a6f60431-ca5a-4a6c-9619-19dee67594df",
   "metadata": {},
   "outputs": [
    {
     "data": {
      "text/plain": [
       "['usman', 'ali']"
      ]
     },
     "execution_count": 107,
     "metadata": {},
     "output_type": "execute_result"
    }
   ],
   "source": [
    "list(set(users))"
   ]
  },
  {
   "cell_type": "code",
   "execution_count": 108,
   "id": "5336feea-d162-4f5f-ab1b-9647ec22e9ef",
   "metadata": {},
   "outputs": [],
   "source": [
    "data_users = {\"ali\", \"usman\", \"ali\"}"
   ]
  },
  {
   "cell_type": "code",
   "execution_count": 109,
   "id": "98a72577-86f9-42c4-93c5-83cc09579189",
   "metadata": {},
   "outputs": [],
   "source": [
    "data_users.add(\"anas\")"
   ]
  },
  {
   "cell_type": "code",
   "execution_count": 110,
   "id": "02806c70-dcf0-49cc-ac02-0271e90b50e9",
   "metadata": {},
   "outputs": [
    {
     "data": {
      "text/plain": [
       "{'ali', 'anas', 'usman'}"
      ]
     },
     "execution_count": 110,
     "metadata": {},
     "output_type": "execute_result"
    }
   ],
   "source": [
    "data_users"
   ]
  },
  {
   "cell_type": "code",
   "execution_count": 111,
   "id": "3669463d-d154-4813-a0b0-8cf026534eb7",
   "metadata": {},
   "outputs": [],
   "source": [
    "# data_users[0]"
   ]
  },
  {
   "cell_type": "code",
   "execution_count": 112,
   "id": "a51c619e-e01a-4c5c-9bff-441205024049",
   "metadata": {},
   "outputs": [],
   "source": [
    "new_users = list(data_users)"
   ]
  },
  {
   "cell_type": "code",
   "execution_count": 113,
   "id": "8883b4fe-934c-4a5f-9d84-1854b167f93e",
   "metadata": {},
   "outputs": [],
   "source": [
    "new_users[-1] = \"xyz\""
   ]
  },
  {
   "cell_type": "code",
   "execution_count": null,
   "id": "88d2ae4b-b730-49d0-ac9a-e62d485555cc",
   "metadata": {},
   "outputs": [],
   "source": []
  },
  {
   "cell_type": "code",
   "execution_count": 114,
   "id": "aa3f3756-9d1e-44ab-acdc-4858b2c9462b",
   "metadata": {},
   "outputs": [],
   "source": [
    "# union        |\n",
    "# intersection & \n",
    "# difference   -\n",
    "# s.d          ^"
   ]
  },
  {
   "cell_type": "code",
   "execution_count": 115,
   "id": "f40a03a6-93ff-4891-a60a-f5d61b6cb28b",
   "metadata": {},
   "outputs": [],
   "source": [
    "s1 = {3, 7, 1, 5, 2}"
   ]
  },
  {
   "cell_type": "code",
   "execution_count": 116,
   "id": "c1014d92-4056-4a6b-ae50-8d16f93e928f",
   "metadata": {},
   "outputs": [],
   "source": [
    "s2 = {8, 4, 3, 7, 6}"
   ]
  },
  {
   "cell_type": "code",
   "execution_count": 117,
   "id": "6ae0f7e5-a9de-4662-a505-589141d6132a",
   "metadata": {},
   "outputs": [
    {
     "data": {
      "text/plain": [
       "{1, 2, 5}"
      ]
     },
     "execution_count": 117,
     "metadata": {},
     "output_type": "execute_result"
    }
   ],
   "source": [
    "s1 - s2"
   ]
  },
  {
   "cell_type": "code",
   "execution_count": 118,
   "id": "cf6c5b9a-c075-451f-90b9-5cf0c5424000",
   "metadata": {},
   "outputs": [
    {
     "data": {
      "text/plain": [
       "{1, 2, 5}"
      ]
     },
     "execution_count": 118,
     "metadata": {},
     "output_type": "execute_result"
    }
   ],
   "source": [
    "s1.difference(s2)"
   ]
  },
  {
   "cell_type": "code",
   "execution_count": null,
   "id": "4aaa95d2-0f06-48b2-a350-5005ee62b65b",
   "metadata": {},
   "outputs": [],
   "source": []
  },
  {
   "cell_type": "code",
   "execution_count": 119,
   "id": "02795284-c6c0-4e42-b3bd-e573bff76476",
   "metadata": {},
   "outputs": [
    {
     "data": {
      "text/plain": [
       "{1, 2, 4, 5, 6, 8}"
      ]
     },
     "execution_count": 119,
     "metadata": {},
     "output_type": "execute_result"
    }
   ],
   "source": [
    "s1 ^ s2"
   ]
  },
  {
   "cell_type": "code",
   "execution_count": 120,
   "id": "8ed9a8e2-d657-4ca4-bee3-07e35fa97067",
   "metadata": {},
   "outputs": [
    {
     "data": {
      "text/plain": [
       "{1, 2, 4, 5, 6, 8}"
      ]
     },
     "execution_count": 120,
     "metadata": {},
     "output_type": "execute_result"
    }
   ],
   "source": [
    "s1.symmetric_difference(s2)"
   ]
  },
  {
   "cell_type": "code",
   "execution_count": null,
   "id": "852e13c0-9089-46f5-bccd-cc696e9875f2",
   "metadata": {},
   "outputs": [],
   "source": []
  },
  {
   "cell_type": "code",
   "execution_count": 121,
   "id": "d7627391-a8aa-437e-b230-b74766bd79d8",
   "metadata": {},
   "outputs": [
    {
     "data": {
      "text/plain": [
       "{3, 7}"
      ]
     },
     "execution_count": 121,
     "metadata": {},
     "output_type": "execute_result"
    }
   ],
   "source": [
    "s1.intersection(s2)"
   ]
  },
  {
   "cell_type": "code",
   "execution_count": 122,
   "id": "9ab5c8f5-9cbf-4691-aca3-cf17a1395655",
   "metadata": {},
   "outputs": [
    {
     "data": {
      "text/plain": [
       "{3, 7}"
      ]
     },
     "execution_count": 122,
     "metadata": {},
     "output_type": "execute_result"
    }
   ],
   "source": [
    "s1 & s2"
   ]
  },
  {
   "cell_type": "code",
   "execution_count": null,
   "id": "74e7e2c0-a49c-4012-aab6-1fbbbfe86255",
   "metadata": {},
   "outputs": [],
   "source": []
  },
  {
   "cell_type": "code",
   "execution_count": 123,
   "id": "c6814b64-7028-4271-b52e-1b77af604ce2",
   "metadata": {},
   "outputs": [
    {
     "data": {
      "text/plain": [
       "{1, 2, 3, 4, 5, 6, 7, 8}"
      ]
     },
     "execution_count": 123,
     "metadata": {},
     "output_type": "execute_result"
    }
   ],
   "source": [
    "s1 | s2"
   ]
  },
  {
   "cell_type": "code",
   "execution_count": 124,
   "id": "62d718da-6758-43a5-92db-bc639296584d",
   "metadata": {},
   "outputs": [
    {
     "data": {
      "text/plain": [
       "{1, 2, 3, 4, 5, 6, 7, 8}"
      ]
     },
     "execution_count": 124,
     "metadata": {},
     "output_type": "execute_result"
    }
   ],
   "source": [
    "s1.union(s2)"
   ]
  },
  {
   "cell_type": "code",
   "execution_count": 125,
   "id": "9db5f9b7-a0ea-4161-9775-9a83777dc771",
   "metadata": {},
   "outputs": [
    {
     "data": {
      "text/plain": [
       "{1, 2, 3, 4, 5, 6, 7, 8}"
      ]
     },
     "execution_count": 125,
     "metadata": {},
     "output_type": "execute_result"
    }
   ],
   "source": [
    "s2.union(s1)"
   ]
  },
  {
   "cell_type": "code",
   "execution_count": null,
   "id": "a9b8c6dd-e16c-49e7-b7ae-c66acc5bcddd",
   "metadata": {},
   "outputs": [],
   "source": []
  },
  {
   "cell_type": "code",
   "execution_count": 126,
   "id": "5062a0a4-049c-4955-a63d-abec7680807b",
   "metadata": {},
   "outputs": [],
   "source": [
    "s1 = {2, 6, 7}"
   ]
  },
  {
   "cell_type": "code",
   "execution_count": 127,
   "id": "ab7a75d7-5e0b-4968-8d04-0811a5c319c8",
   "metadata": {},
   "outputs": [],
   "source": [
    "s1.update({1, 7, 9})"
   ]
  },
  {
   "cell_type": "code",
   "execution_count": 128,
   "id": "60e2d7d4-0e60-4fc3-863c-f32bce79dc8e",
   "metadata": {},
   "outputs": [
    {
     "data": {
      "text/plain": [
       "{1, 2, 6, 7, 9}"
      ]
     },
     "execution_count": 128,
     "metadata": {},
     "output_type": "execute_result"
    }
   ],
   "source": [
    "s1"
   ]
  },
  {
   "cell_type": "code",
   "execution_count": null,
   "id": "4cf4ba3b-4551-4d99-8c7d-253b0706d233",
   "metadata": {},
   "outputs": [],
   "source": []
  },
  {
   "cell_type": "code",
   "execution_count": 130,
   "id": "8dec7058-db01-486f-ac45-e4ae6f7cce74",
   "metadata": {},
   "outputs": [
    {
     "data": {
      "text/plain": [
       "1"
      ]
     },
     "execution_count": 130,
     "metadata": {},
     "output_type": "execute_result"
    }
   ],
   "source": [
    "s1.pop()"
   ]
  },
  {
   "cell_type": "code",
   "execution_count": 131,
   "id": "439b5601-7533-4a4e-8fd3-4eb15d3431ab",
   "metadata": {},
   "outputs": [
    {
     "data": {
      "text/plain": [
       "{2, 6, 7, 9}"
      ]
     },
     "execution_count": 131,
     "metadata": {},
     "output_type": "execute_result"
    }
   ],
   "source": [
    "s1"
   ]
  },
  {
   "cell_type": "code",
   "execution_count": null,
   "id": "dbc1980a-70e8-462d-8f31-c319f5e39f05",
   "metadata": {},
   "outputs": [],
   "source": []
  },
  {
   "cell_type": "code",
   "execution_count": 132,
   "id": "e4491b43-43b9-4abb-ad3a-4e15c94d2c17",
   "metadata": {},
   "outputs": [],
   "source": [
    "s1 = {2, 6, 7, 9}"
   ]
  },
  {
   "cell_type": "code",
   "execution_count": 133,
   "id": "377fa84c-f634-4331-9631-9836c4c9868c",
   "metadata": {},
   "outputs": [
    {
     "data": {
      "text/plain": [
       "{2, 6, 7, 9}"
      ]
     },
     "execution_count": 133,
     "metadata": {},
     "output_type": "execute_result"
    }
   ],
   "source": [
    "s1"
   ]
  },
  {
   "cell_type": "code",
   "execution_count": 136,
   "id": "7f5915b6-1e79-42d7-885f-9c93659cbe60",
   "metadata": {},
   "outputs": [],
   "source": [
    "# s1.remove(10)"
   ]
  },
  {
   "cell_type": "code",
   "execution_count": 137,
   "id": "d892840c-8cbd-41fe-9780-e59ae7398997",
   "metadata": {},
   "outputs": [],
   "source": [
    "# s1"
   ]
  },
  {
   "cell_type": "code",
   "execution_count": 138,
   "id": "b4fae4e9-8e68-479a-97f1-38e7b2c3c8aa",
   "metadata": {},
   "outputs": [],
   "source": [
    "# s1 * 2"
   ]
  },
  {
   "cell_type": "code",
   "execution_count": 139,
   "id": "ab8c5042-2078-43e1-a388-7780171d9dcc",
   "metadata": {},
   "outputs": [],
   "source": [
    "# {2, 5} * {1, 4}  # Error"
   ]
  },
  {
   "cell_type": "code",
   "execution_count": null,
   "id": "10e0616c-8445-44a3-9e9a-6457ed9e1d7b",
   "metadata": {},
   "outputs": [],
   "source": []
  },
  {
   "cell_type": "markdown",
   "id": "ce86e084-6a75-4169-a173-26cc0a157b2e",
   "metadata": {},
   "source": [
    "#### Python Frozensets"
   ]
  },
  {
   "cell_type": "code",
   "execution_count": 140,
   "id": "7b9b151f-07b1-491e-9fce-2ef2b047958b",
   "metadata": {},
   "outputs": [],
   "source": [
    "fs1 = frozenset({3, 7, 8, 7, 1, 9})"
   ]
  },
  {
   "cell_type": "code",
   "execution_count": 141,
   "id": "8795d07b-af1f-4b29-8882-779b8746989c",
   "metadata": {},
   "outputs": [
    {
     "data": {
      "text/plain": [
       "frozenset({1, 3, 7, 8, 9})"
      ]
     },
     "execution_count": 141,
     "metadata": {},
     "output_type": "execute_result"
    }
   ],
   "source": [
    "fs1"
   ]
  },
  {
   "cell_type": "code",
   "execution_count": 142,
   "id": "695dd014-bf3a-4c9a-8d97-26d536bff2af",
   "metadata": {},
   "outputs": [
    {
     "data": {
      "text/plain": [
       "frozenset({1, 2, 3, 4, 7, 8, 9})"
      ]
     },
     "execution_count": 142,
     "metadata": {},
     "output_type": "execute_result"
    }
   ],
   "source": [
    "fs1.union({3, 2, 4})"
   ]
  },
  {
   "cell_type": "code",
   "execution_count": null,
   "id": "e25caa87-517e-4a03-b2b1-b93d1cc532ab",
   "metadata": {},
   "outputs": [],
   "source": []
  },
  {
   "cell_type": "markdown",
   "id": "893dc69a-361b-4a90-bb8b-bca3c4696a32",
   "metadata": {},
   "source": [
    "### Happy Learning :)"
   ]
  }
 ],
 "metadata": {
  "kernelspec": {
   "display_name": "Python 3 (ipykernel)",
   "language": "python",
   "name": "python3"
  },
  "language_info": {
   "codemirror_mode": {
    "name": "ipython",
    "version": 3
   },
   "file_extension": ".py",
   "mimetype": "text/x-python",
   "name": "python",
   "nbconvert_exporter": "python",
   "pygments_lexer": "ipython3",
   "version": "3.9.7"
  }
 },
 "nbformat": 4,
 "nbformat_minor": 5
}
