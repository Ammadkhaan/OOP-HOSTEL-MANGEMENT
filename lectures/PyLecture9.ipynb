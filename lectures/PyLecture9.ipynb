{
 "cells": [
  {
   "cell_type": "markdown",
   "id": "ab2719e0-5b2d-45d2-b4ec-bae8545e3ddc",
   "metadata": {},
   "source": [
    "### Python Dictionary "
   ]
  },
  {
   "cell_type": "code",
   "execution_count": 2,
   "id": "0fb1a3f8-eee3-4a32-8fb3-e3a0f271ec47",
   "metadata": {},
   "outputs": [],
   "source": [
    "# zip?"
   ]
  },
  {
   "cell_type": "code",
   "execution_count": 17,
   "id": "123315ad-768a-408c-9a3c-dd373abd37ba",
   "metadata": {},
   "outputs": [],
   "source": [
    "x = ['x', 'y', 'z']\n",
    "y = [1, 2, [2, 7, 1]]"
   ]
  },
  {
   "cell_type": "code",
   "execution_count": 20,
   "id": "dc65672f-3c74-43da-9686-0191b17d1db2",
   "metadata": {},
   "outputs": [],
   "source": [
    "# z = dict(zip(x, y))"
   ]
  },
  {
   "cell_type": "code",
   "execution_count": 21,
   "id": "85cb079d-a1d3-49aa-a2fa-b8f297d43adc",
   "metadata": {},
   "outputs": [],
   "source": [
    "# z"
   ]
  },
  {
   "cell_type": "code",
   "execution_count": null,
   "id": "be846270-be12-4716-b524-2110c13e8993",
   "metadata": {},
   "outputs": [],
   "source": []
  },
  {
   "cell_type": "code",
   "execution_count": 29,
   "id": "c7a7379a-f227-4a90-b70b-158b758f5c62",
   "metadata": {},
   "outputs": [],
   "source": [
    "d1 = {\n",
    "    'k1': 50,\n",
    "    'k2': 30,\n",
    "    'k3': 40\n",
    "}"
   ]
  },
  {
   "cell_type": "code",
   "execution_count": 30,
   "id": "57ded67f-947b-4c7a-9dc1-687b78c52419",
   "metadata": {},
   "outputs": [],
   "source": [
    "d2 = {\n",
    "    'k4': 60,\n",
    "    'k3': 90\n",
    "}"
   ]
  },
  {
   "cell_type": "code",
   "execution_count": 28,
   "id": "0a4ef051-e48f-4cf3-832a-08a3eb4b60d3",
   "metadata": {},
   "outputs": [],
   "source": [
    "# d1.update(d2) "
   ]
  },
  {
   "cell_type": "code",
   "execution_count": 31,
   "id": "2e0de3bf-8575-43bc-aac8-5ba346f909ef",
   "metadata": {},
   "outputs": [],
   "source": [
    "d3 = {**d1, **d2}  "
   ]
  },
  {
   "cell_type": "code",
   "execution_count": 32,
   "id": "18ec184e-7ffc-4a65-b676-07094c400c73",
   "metadata": {},
   "outputs": [
    {
     "data": {
      "text/plain": [
       "{'k1': 50, 'k2': 30, 'k3': 90, 'k4': 60}"
      ]
     },
     "execution_count": 32,
     "metadata": {},
     "output_type": "execute_result"
    }
   ],
   "source": [
    "d3"
   ]
  },
  {
   "cell_type": "code",
   "execution_count": 36,
   "id": "84074078-2462-41a3-921a-30e6f1dda8a7",
   "metadata": {},
   "outputs": [],
   "source": [
    "# from collections import ChainMap"
   ]
  },
  {
   "cell_type": "code",
   "execution_count": 37,
   "id": "80eed03c-702f-415f-8fe6-139f2cc613d1",
   "metadata": {},
   "outputs": [],
   "source": [
    "# ch = ChainMap(d1, d2)"
   ]
  },
  {
   "cell_type": "code",
   "execution_count": null,
   "id": "93dfd37c-8847-4f65-9f3e-9c4efeca139c",
   "metadata": {},
   "outputs": [],
   "source": []
  },
  {
   "cell_type": "code",
   "execution_count": 38,
   "id": "2f96f7d1-3c8f-4aa8-a7ea-61df450253ba",
   "metadata": {},
   "outputs": [],
   "source": [
    "d1 = {\n",
    "    'k1': 50,\n",
    "    'k2': 30,\n",
    "    'k3': 40\n",
    "}"
   ]
  },
  {
   "cell_type": "code",
   "execution_count": 40,
   "id": "93b9281c-69c1-4d8e-be94-dc55a4cbb690",
   "metadata": {},
   "outputs": [],
   "source": [
    "# dict --- dict.pop()"
   ]
  },
  {
   "cell_type": "code",
   "execution_count": 43,
   "id": "f8c7008c-c00c-4fa3-a6dc-678cfff73b07",
   "metadata": {},
   "outputs": [],
   "source": [
    "x = d1.pop('k2')"
   ]
  },
  {
   "cell_type": "code",
   "execution_count": 45,
   "id": "f1276ef6-47b5-4ac0-87c0-4a0ebcfeceb6",
   "metadata": {},
   "outputs": [
    {
     "data": {
      "text/plain": [
       "{'k1': 50, 'k3': 40}"
      ]
     },
     "execution_count": 45,
     "metadata": {},
     "output_type": "execute_result"
    }
   ],
   "source": [
    "d1"
   ]
  },
  {
   "cell_type": "code",
   "execution_count": 46,
   "id": "fe157662-ef05-40cd-9508-3c9c88f35ff3",
   "metadata": {},
   "outputs": [
    {
     "data": {
      "text/plain": [
       "{'k1': 50, 'k3': 40}"
      ]
     },
     "execution_count": 46,
     "metadata": {},
     "output_type": "execute_result"
    }
   ],
   "source": [
    "d1"
   ]
  },
  {
   "cell_type": "code",
   "execution_count": 47,
   "id": "ef04d2fc-69fe-43dc-bafb-88534c5c532e",
   "metadata": {},
   "outputs": [],
   "source": [
    "d1['k2'] = 20  # update or add "
   ]
  },
  {
   "cell_type": "code",
   "execution_count": 48,
   "id": "13d9b756-15d8-4bce-b8db-e7353b0401fc",
   "metadata": {},
   "outputs": [
    {
     "data": {
      "text/plain": [
       "{'k1': 50, 'k3': 40, 'k2': 20}"
      ]
     },
     "execution_count": 48,
     "metadata": {},
     "output_type": "execute_result"
    }
   ],
   "source": [
    "d1"
   ]
  },
  {
   "cell_type": "code",
   "execution_count": null,
   "id": "5886f4dd-6eed-429f-8da5-3761b2192d7c",
   "metadata": {},
   "outputs": [],
   "source": []
  },
  {
   "cell_type": "code",
   "execution_count": 49,
   "id": "c93fdaee-adfc-4c05-949c-711a5ce9820c",
   "metadata": {},
   "outputs": [],
   "source": [
    "d1 = {\n",
    "    'k1': 50,\n",
    "    'k2': 30,\n",
    "    'k3': 40\n",
    "}"
   ]
  },
  {
   "cell_type": "code",
   "execution_count": 50,
   "id": "cb68f1a4-a0c6-48e4-bde0-0387e690af35",
   "metadata": {},
   "outputs": [],
   "source": [
    "y = d1.popitem()"
   ]
  },
  {
   "cell_type": "code",
   "execution_count": 51,
   "id": "67f4fb79-3dc9-4c94-bea3-e1c152d26db1",
   "metadata": {},
   "outputs": [
    {
     "data": {
      "text/plain": [
       "('k3', 40)"
      ]
     },
     "execution_count": 51,
     "metadata": {},
     "output_type": "execute_result"
    }
   ],
   "source": [
    "y"
   ]
  },
  {
   "cell_type": "code",
   "execution_count": 52,
   "id": "60cca60f-ade3-428f-aeb5-da96e8e6e5f1",
   "metadata": {},
   "outputs": [
    {
     "data": {
      "text/plain": [
       "{'k1': 50, 'k2': 30}"
      ]
     },
     "execution_count": 52,
     "metadata": {},
     "output_type": "execute_result"
    }
   ],
   "source": [
    "d1"
   ]
  },
  {
   "cell_type": "code",
   "execution_count": null,
   "id": "90e08eda-de4a-4d57-82ff-c1e098e4b5c9",
   "metadata": {},
   "outputs": [],
   "source": []
  },
  {
   "cell_type": "code",
   "execution_count": 54,
   "id": "ae667b80-5d82-4e0e-b912-26f0379bc896",
   "metadata": {},
   "outputs": [],
   "source": [
    "d1 = {\n",
    "    0: '001',\n",
    "    1: '002',\n",
    "    2: '003'\n",
    "}"
   ]
  },
  {
   "cell_type": "code",
   "execution_count": null,
   "id": "c54d7224-9ad2-4404-b761-159a25f97a23",
   "metadata": {},
   "outputs": [],
   "source": []
  },
  {
   "cell_type": "code",
   "execution_count": 59,
   "id": "1f5e298a-387d-4754-86d1-b90ce47efc21",
   "metadata": {},
   "outputs": [],
   "source": [
    "keys = ['a', 'b', 'c']"
   ]
  },
  {
   "cell_type": "code",
   "execution_count": 60,
   "id": "6e9a6daf-3c12-433c-bc79-48018b1e9de6",
   "metadata": {},
   "outputs": [],
   "source": [
    "value = 0"
   ]
  },
  {
   "cell_type": "code",
   "execution_count": 61,
   "id": "655e2577-cd38-4d6e-90ec-0427ea29714e",
   "metadata": {},
   "outputs": [],
   "source": [
    "data = dict.fromkeys(keys, value)"
   ]
  },
  {
   "cell_type": "code",
   "execution_count": 62,
   "id": "0341d9e9-9b51-41df-b0cd-6c4e5c676ca5",
   "metadata": {},
   "outputs": [
    {
     "data": {
      "text/plain": [
       "{'a': 0, 'b': 0, 'c': 0}"
      ]
     },
     "execution_count": 62,
     "metadata": {},
     "output_type": "execute_result"
    }
   ],
   "source": [
    "data"
   ]
  },
  {
   "cell_type": "code",
   "execution_count": null,
   "id": "dd69fe77-efe3-4788-9e30-57877f7919a1",
   "metadata": {},
   "outputs": [],
   "source": []
  },
  {
   "cell_type": "code",
   "execution_count": 75,
   "id": "d24b716f-8bd6-4532-a9c5-684ca1ac49b8",
   "metadata": {},
   "outputs": [],
   "source": [
    "d1 = {\n",
    "    'a': '001',\n",
    "    'b': '002',\n",
    "    'c': '003'\n",
    "}"
   ]
  },
  {
   "cell_type": "code",
   "execution_count": 76,
   "id": "cf1c47b5-0aa2-4074-9d3e-67f214f4b8e1",
   "metadata": {},
   "outputs": [],
   "source": [
    "x = d1.setdefault('c', '004')"
   ]
  },
  {
   "cell_type": "code",
   "execution_count": 78,
   "id": "646bdf5c-39f2-4848-9af7-5fd3e902a686",
   "metadata": {},
   "outputs": [
    {
     "data": {
      "text/plain": [
       "{'a': '001', 'b': '002', 'c': '003'}"
      ]
     },
     "execution_count": 78,
     "metadata": {},
     "output_type": "execute_result"
    }
   ],
   "source": [
    "d1"
   ]
  },
  {
   "cell_type": "code",
   "execution_count": null,
   "id": "bacdab6b-4a49-48d7-8443-84c736c3f025",
   "metadata": {},
   "outputs": [],
   "source": []
  },
  {
   "cell_type": "markdown",
   "id": "7ce2193e-fe58-4b83-afb6-658d484de8e2",
   "metadata": {},
   "source": [
    "### Python Operators"
   ]
  },
  {
   "cell_type": "code",
   "execution_count": 82,
   "id": "9eecf298-d8ba-418c-bfff-9028c8568aff",
   "metadata": {},
   "outputs": [
    {
     "name": "stdout",
     "output_type": "stream",
     "text": [
      "None\n"
     ]
    }
   ],
   "source": [
    "print(5 and None)"
   ]
  },
  {
   "cell_type": "code",
   "execution_count": 84,
   "id": "d3c27a05-f41e-4034-9127-7b739488048d",
   "metadata": {},
   "outputs": [
    {
     "data": {
      "text/plain": [
       "()"
      ]
     },
     "execution_count": 84,
     "metadata": {},
     "output_type": "execute_result"
    }
   ],
   "source": [
    "40 and [2] and 'a' and () and 8   "
   ]
  },
  {
   "cell_type": "code",
   "execution_count": 85,
   "id": "c965f7a8-22c3-4768-a605-4a9895dfc2fd",
   "metadata": {},
   "outputs": [
    {
     "data": {
      "text/plain": [
       "'a'"
      ]
     },
     "execution_count": 85,
     "metadata": {},
     "output_type": "execute_result"
    }
   ],
   "source": [
    "40 and [2] and 'a' or () and 8   "
   ]
  },
  {
   "cell_type": "code",
   "execution_count": 86,
   "id": "5c13c530-1746-4387-936e-ea6244a6c3b9",
   "metadata": {},
   "outputs": [
    {
     "data": {
      "text/plain": [
       "40"
      ]
     },
     "execution_count": 86,
     "metadata": {},
     "output_type": "execute_result"
    }
   ],
   "source": [
    "40 or [2] and 'a' or () and 8   "
   ]
  },
  {
   "cell_type": "code",
   "execution_count": 87,
   "id": "dab804ec-52d4-457c-8ac1-844df34119ef",
   "metadata": {},
   "outputs": [
    {
     "data": {
      "text/plain": [
       "False"
      ]
     },
     "execution_count": 87,
     "metadata": {},
     "output_type": "execute_result"
    }
   ],
   "source": [
    "(-50 and 4.5 and True and 8) and not(\"abc\" or None)  # "
   ]
  },
  {
   "cell_type": "code",
   "execution_count": 89,
   "id": "0e153b0d-03d7-40c1-bb7f-a6aefc87de13",
   "metadata": {},
   "outputs": [],
   "source": [
    "x = 3.141"
   ]
  },
  {
   "cell_type": "code",
   "execution_count": 91,
   "id": "a13a1ac5-e928-4ba4-9dae-d60f2a0ef2e8",
   "metadata": {},
   "outputs": [],
   "source": [
    "# 3.14 < x < 3.142 "
   ]
  },
  {
   "cell_type": "code",
   "execution_count": 92,
   "id": "5d42c191-4403-453c-b5de-8b77144443a4",
   "metadata": {},
   "outputs": [
    {
     "data": {
      "text/plain": [
       "True"
      ]
     },
     "execution_count": 92,
     "metadata": {},
     "output_type": "execute_result"
    }
   ],
   "source": [
    "3.14 < x and x < 3.142 "
   ]
  },
  {
   "cell_type": "code",
   "execution_count": null,
   "id": "bc52eac1-7bdc-4e7f-a27f-ed8bb4b99c3b",
   "metadata": {},
   "outputs": [],
   "source": []
  },
  {
   "cell_type": "markdown",
   "id": "a8edc328-704d-40dd-bdd2-b3e3f685cbba",
   "metadata": {},
   "source": [
    "### Python Compound if Statement \n"
   ]
  },
  {
   "cell_type": "code",
   "execution_count": 4,
   "id": "7cd750b4-259f-4f63-8b06-9b80111b5124",
   "metadata": {},
   "outputs": [],
   "source": [
    "if None:\n",
    "    print(\"Some output\")"
   ]
  },
  {
   "cell_type": "code",
   "execution_count": 7,
   "id": "ed6a8944-72fc-4140-aea3-8ec4b20a7048",
   "metadata": {},
   "outputs": [
    {
     "name": "stdout",
     "output_type": "stream",
     "text": [
      "Okay\n"
     ]
    }
   ],
   "source": [
    "if (-50 and 4.5 and True and 8) and not(\"\" or None):\n",
    "    print(\"Okay\")"
   ]
  },
  {
   "cell_type": "code",
   "execution_count": 13,
   "id": "c07562c3-7565-47c4-b63d-c863fd635a76",
   "metadata": {},
   "outputs": [
    {
     "name": "stdout",
     "output_type": "stream",
     "text": [
      "Output 1\n"
     ]
    }
   ],
   "source": [
    "if None == None:\n",
    "    print('Output 1')\n",
    "elif 5 != 4:\n",
    "    print('Output 2')\n",
    "elif 8 in [3, 7, 8, 1]:\n",
    "    print('Output 3')\n",
    "else:\n",
    "    print('Ouput 4')"
   ]
  },
  {
   "cell_type": "code",
   "execution_count": 14,
   "id": "20f0ae66-de96-408f-b507-a29161553ec3",
   "metadata": {},
   "outputs": [],
   "source": [
    "# Nested if statements"
   ]
  },
  {
   "cell_type": "code",
   "execution_count": 15,
   "id": "d48d9311-3940-46b2-8797-45d0895f3374",
   "metadata": {},
   "outputs": [
    {
     "name": "stdout",
     "output_type": "stream",
     "text": [
      "Output 3 - B\n"
     ]
    }
   ],
   "source": [
    "if None:\n",
    "    print('Output 1')\n",
    "elif 5 == 4:\n",
    "    print('Output 2')\n",
    "elif 8 in [3, 7, 8, 1]:\n",
    "    if 'abc1' == 'ABC'.lower():\n",
    "        print('Output 3 - A')\n",
    "    elif '123'.isdigit():\n",
    "        print('Output 3 - B')\n",
    "    else:\n",
    "        print('Output 3 - C')\n",
    "else:\n",
    "    print('Ouput 4')"
   ]
  },
  {
   "cell_type": "code",
   "execution_count": null,
   "id": "41ce1ff6-8abe-4caf-8c9e-c120039c84db",
   "metadata": {},
   "outputs": [],
   "source": []
  },
  {
   "cell_type": "code",
   "execution_count": null,
   "id": "6c13bf0b-9f30-4c6e-95ca-a793e66f3cb3",
   "metadata": {},
   "outputs": [],
   "source": []
  },
  {
   "cell_type": "code",
   "execution_count": 24,
   "id": "eebb3c2c-4534-46ec-a97b-891f613df5fb",
   "metadata": {},
   "outputs": [],
   "source": [
    "from getpass import getpass\n",
    "from IPython.display import clear_output"
   ]
  },
  {
   "cell_type": "code",
   "execution_count": 20,
   "id": "e6bb9887-be74-46e4-b58b-f8c93e48e6d1",
   "metadata": {},
   "outputs": [],
   "source": [
    "# if True:\n",
    "#     pass"
   ]
  },
  {
   "cell_type": "code",
   "execution_count": 25,
   "id": "56946434-7cfe-445d-9b3c-2a33f20c9bf3",
   "metadata": {},
   "outputs": [
    {
     "name": "stdout",
     "output_type": "stream",
     "text": [
      "Welcome Umair\n"
     ]
    }
   ],
   "source": [
    "username = input('Enter name: ')\n",
    "password = getpass('Enter password: ')\n",
    "\n",
    "if username.lower() == \"umair\" and password == '123':\n",
    "    clear_output()\n",
    "    print(f'Welcome {username.title()}')\n",
    "elif username == \"admin\" and password == \"admin\":\n",
    "    pass\n",
    "else:\n",
    "    print('invalid user')"
   ]
  },
  {
   "cell_type": "code",
   "execution_count": null,
   "id": "e3d1bb2c-1565-4126-a27f-b4caaddf7964",
   "metadata": {},
   "outputs": [],
   "source": []
  },
  {
   "cell_type": "code",
   "execution_count": null,
   "id": "209fe1bd-d070-4923-949a-a8123c417d0a",
   "metadata": {},
   "outputs": [],
   "source": [
    "# "
   ]
  },
  {
   "cell_type": "code",
   "execution_count": 32,
   "id": "bbe14fef-348b-4220-89ce-90fe69fd9ae1",
   "metadata": {},
   "outputs": [
    {
     "name": "stdin",
     "output_type": "stream",
     "text": [
      "Enter Your Marks:  101\n"
     ]
    },
    {
     "name": "stdout",
     "output_type": "stream",
     "text": [
      "Invalid Marks\n"
     ]
    }
   ],
   "source": [
    "marks = int(input(\"Enter Your Marks: \"))\n",
    "\n",
    "if marks < 0 or marks > 100:\n",
    "    print('Invalid Marks')\n",
    "elif marks>=90 and marks<= 100:\n",
    "    print(\" Your Grade is A\")\n",
    "elif marks>=80 and marks<= 89:\n",
    "    print(\" Your Grade is B\")\n",
    "elif marks>=70 and marks<= 79:\n",
    "    print(\" Your Grade is C\")\n",
    "elif marks>=60 and marks<= 69:\n",
    "    print(\"Your Grade is D\")\n",
    "else:\n",
    "    print(\"Your are Fail\")"
   ]
  },
  {
   "cell_type": "code",
   "execution_count": null,
   "id": "0f211c41-6eeb-4533-ad5b-0bb8916ed999",
   "metadata": {},
   "outputs": [],
   "source": []
  },
  {
   "cell_type": "markdown",
   "id": "aa483631-d1ae-4b94-9c53-3db547480e8a",
   "metadata": {},
   "source": [
    "### Python Compound while Statement\n"
   ]
  },
  {
   "cell_type": "code",
   "execution_count": 35,
   "id": "2dfd9a27-80e9-4a0d-8b6b-c055bdb038c4",
   "metadata": {},
   "outputs": [
    {
     "name": "stdout",
     "output_type": "stream",
     "text": [
      "6\n",
      "5\n",
      "4\n",
      "3\n"
     ]
    }
   ],
   "source": [
    "x = 6\n",
    "while x:\n",
    "    print(x)\n",
    "    if x == 3:\n",
    "        break\n",
    "    x = x - 1\n",
    "else:\n",
    "    print('Loop done')"
   ]
  },
  {
   "cell_type": "code",
   "execution_count": 36,
   "id": "4cfdcc4b-9bfa-4ad2-b979-5bb3bfbde970",
   "metadata": {},
   "outputs": [
    {
     "name": "stdout",
     "output_type": "stream",
     "text": [
      "qaim\n",
      "aim\n",
      "im\n",
      "m\n"
     ]
    }
   ],
   "source": [
    "name = \"qaim\"\n",
    "while name:\n",
    "    print(name)\n",
    "    name = name[1:]\n",
    "    \n",
    "# qaim\n",
    "# aim\n",
    "# im\n",
    "# m"
   ]
  },
  {
   "cell_type": "code",
   "execution_count": null,
   "id": "dd902aba-7f86-40a4-8d69-4c6c244121b9",
   "metadata": {},
   "outputs": [],
   "source": []
  },
  {
   "cell_type": "code",
   "execution_count": 49,
   "id": "00c4d052-f101-4504-83a4-2eeb7d57a837",
   "metadata": {},
   "outputs": [
    {
     "name": "stdin",
     "output_type": "stream",
     "text": [
      "Enter username ahmad\n"
     ]
    },
    {
     "name": "stdout",
     "output_type": "stream",
     "text": [
      "Welcome ahmad\n"
     ]
    }
   ],
   "source": [
    "users = ['umair', 'fareed', 'adnan', 'ahmad']  # database \n",
    "user = input('Enter username')\n",
    "i = 0\n",
    "temp = 1\n",
    "while i < len(users):\n",
    "    if user == users[i]:\n",
    "        temp = 0\n",
    "        print(f'Welcome {user}')\n",
    "        break\n",
    "    i += 1\n",
    "if temp:\n",
    "    print('Invalid Login')"
   ]
  },
  {
   "cell_type": "code",
   "execution_count": null,
   "id": "3c4499f1-2d25-4605-99f0-0e96df741b8a",
   "metadata": {},
   "outputs": [],
   "source": []
  },
  {
   "cell_type": "code",
   "execution_count": 50,
   "id": "5c588286-f0ad-431a-8bbc-30c05d07289d",
   "metadata": {},
   "outputs": [
    {
     "name": "stdin",
     "output_type": "stream",
     "text": [
      "Enter username adnan\n"
     ]
    },
    {
     "name": "stdout",
     "output_type": "stream",
     "text": [
      "Welcome adnan\n"
     ]
    }
   ],
   "source": [
    "users = ['umair', 'fareed', 'adnan', 'ahmad']  # database \n",
    "user = input('Enter username')\n",
    "i = 0\n",
    "while i < len(users):\n",
    "    if user == users[i]:\n",
    "        print(f'Welcome {user}')\n",
    "        break\n",
    "    i += 1\n",
    "else:\n",
    "    print('Invalid Login')"
   ]
  },
  {
   "cell_type": "code",
   "execution_count": null,
   "id": "9cdd82ca-47f2-4f3b-97a2-bf841007fad7",
   "metadata": {},
   "outputs": [],
   "source": []
  },
  {
   "cell_type": "code",
   "execution_count": 51,
   "id": "e52478f1-a75c-4e72-b90a-e021a6e96b06",
   "metadata": {},
   "outputs": [
    {
     "name": "stdin",
     "output_type": "stream",
     "text": [
      "Enter username ahmad\n"
     ]
    },
    {
     "name": "stdout",
     "output_type": "stream",
     "text": [
      "Welcome ahmad\n"
     ]
    }
   ],
   "source": [
    "users = ['umair', 'fareed', 'adnan', 'ahmad']  # database \n",
    "user = input('Enter username')\n",
    "\n",
    "if user in users:\n",
    "    print(f'Welcome {user}')\n",
    "else:\n",
    "    print('Invalid Login')"
   ]
  },
  {
   "cell_type": "code",
   "execution_count": null,
   "id": "c8c536cc-59b1-4b3a-bd5b-92a9b313a757",
   "metadata": {},
   "outputs": [],
   "source": []
  },
  {
   "cell_type": "markdown",
   "id": "14660036-f69d-41cf-a5bd-803ea71b1309",
   "metadata": {},
   "source": [
    "### Happy Learning :)"
   ]
  }
 ],
 "metadata": {
  "kernelspec": {
   "display_name": "Python 3 (ipykernel)",
   "language": "python",
   "name": "python3"
  },
  "language_info": {
   "codemirror_mode": {
    "name": "ipython",
    "version": 3
   },
   "file_extension": ".py",
   "mimetype": "text/x-python",
   "name": "python",
   "nbconvert_exporter": "python",
   "pygments_lexer": "ipython3",
   "version": "3.9.7"
  }
 },
 "nbformat": 4,
 "nbformat_minor": 5
}
