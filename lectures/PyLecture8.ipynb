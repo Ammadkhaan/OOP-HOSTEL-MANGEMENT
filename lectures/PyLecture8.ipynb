{
 "cells": [
  {
   "cell_type": "code",
   "execution_count": 1,
   "id": "248925fc-c5b7-4322-b1a6-e4bb2e17bed1",
   "metadata": {},
   "outputs": [],
   "source": [
    "# Live Quiz "
   ]
  },
  {
   "cell_type": "code",
   "execution_count": 5,
   "id": "339e11fa-6d4f-4e3c-952c-3470887f4be8",
   "metadata": {},
   "outputs": [],
   "source": [
    "lista = [1, 'xyz', True]"
   ]
  },
  {
   "cell_type": "code",
   "execution_count": 6,
   "id": "790b1258-238c-41ae-a164-8545972f2cd2",
   "metadata": {},
   "outputs": [
    {
     "data": {
      "text/plain": [
       "[1, 'xyz', True]"
      ]
     },
     "execution_count": 6,
     "metadata": {},
     "output_type": "execute_result"
    }
   ],
   "source": [
    "lista"
   ]
  },
  {
   "cell_type": "code",
   "execution_count": 9,
   "id": "5ddaf3e8-d784-4ee4-9b6d-25546da7a9ef",
   "metadata": {},
   "outputs": [
    {
     "data": {
      "text/plain": [
       "[True, 'xyz', 1]"
      ]
     },
     "execution_count": 9,
     "metadata": {},
     "output_type": "execute_result"
    }
   ],
   "source": [
    "lista[::-1]"
   ]
  },
  {
   "cell_type": "code",
   "execution_count": 11,
   "id": "f96f934d-9ab4-4ad9-a60c-3faaf984623f",
   "metadata": {},
   "outputs": [
    {
     "data": {
      "text/plain": [
       "[1, 'xyz', True]"
      ]
     },
     "execution_count": 11,
     "metadata": {},
     "output_type": "execute_result"
    }
   ],
   "source": [
    "lista"
   ]
  },
  {
   "cell_type": "code",
   "execution_count": 13,
   "id": "4698189a-dbd7-4d8b-9ddb-451a5da1c55f",
   "metadata": {},
   "outputs": [
    {
     "data": {
      "text/plain": [
       "([1],)"
      ]
     },
     "execution_count": 13,
     "metadata": {},
     "output_type": "execute_result"
    }
   ],
   "source": [
    "lista[:1],"
   ]
  },
  {
   "cell_type": "code",
   "execution_count": 14,
   "id": "8f1b0d3c-c698-4b0a-ae4b-c7585270558d",
   "metadata": {},
   "outputs": [
    {
     "data": {
      "text/plain": [
       "[1, 'xyz']"
      ]
     },
     "execution_count": 14,
     "metadata": {},
     "output_type": "execute_result"
    }
   ],
   "source": [
    "lista[:2]"
   ]
  },
  {
   "cell_type": "code",
   "execution_count": 15,
   "id": "fa5de0a1-33cd-405e-aa50-e567a53950e9",
   "metadata": {},
   "outputs": [],
   "source": [
    "l1 = [1,2,3]"
   ]
  },
  {
   "cell_type": "code",
   "execution_count": 16,
   "id": "3ab65781-4f27-4f1e-83af-11b029de8659",
   "metadata": {},
   "outputs": [],
   "source": [
    "li = tuple(l1)"
   ]
  },
  {
   "cell_type": "code",
   "execution_count": 18,
   "id": "bacfc761-b388-40ee-b32d-d1abf7606ac8",
   "metadata": {},
   "outputs": [
    {
     "data": {
      "text/plain": [
       "(1, 2, 3)"
      ]
     },
     "execution_count": 18,
     "metadata": {},
     "output_type": "execute_result"
    }
   ],
   "source": [
    "li"
   ]
  },
  {
   "cell_type": "code",
   "execution_count": 19,
   "id": "a44a674c-2b61-4525-86fa-628eb8c61820",
   "metadata": {},
   "outputs": [],
   "source": [
    "a = {1,2,4}"
   ]
  },
  {
   "cell_type": "code",
   "execution_count": 20,
   "id": "bf85251a-22e0-43d4-a683-a9eae7ae2198",
   "metadata": {},
   "outputs": [],
   "source": [
    "b = {1,4,6}"
   ]
  },
  {
   "cell_type": "code",
   "execution_count": null,
   "id": "643545d2-45e0-4c0c-8d47-6ad966128f34",
   "metadata": {},
   "outputs": [],
   "source": []
  },
  {
   "cell_type": "code",
   "execution_count": 23,
   "id": "3d6438e7-2dce-46d2-9266-9cdab7eec569",
   "metadata": {},
   "outputs": [],
   "source": [
    "# {1, 8, 8, 9} + (2, 88, 1)"
   ]
  },
  {
   "cell_type": "code",
   "execution_count": 25,
   "id": "212a973d-e26c-4a74-906e-e38124e7882d",
   "metadata": {},
   "outputs": [],
   "source": [
    "# [2, 8, 1, 9] + 2"
   ]
  },
  {
   "cell_type": "code",
   "execution_count": 28,
   "id": "35560ff3-c59e-48a6-ab10-4c901bfb3640",
   "metadata": {},
   "outputs": [],
   "source": [
    "t1 = [(2,3,4),(2,3,4)]"
   ]
  },
  {
   "cell_type": "code",
   "execution_count": 29,
   "id": "a9cadcd1-a99d-47ee-ba93-612519242399",
   "metadata": {},
   "outputs": [
    {
     "data": {
      "text/plain": [
       "[(2, 3, 4), (2, 3, 4)]"
      ]
     },
     "execution_count": 29,
     "metadata": {},
     "output_type": "execute_result"
    }
   ],
   "source": [
    "t1"
   ]
  },
  {
   "cell_type": "code",
   "execution_count": null,
   "id": "903f2b4b-212e-492d-a393-ace5c980a056",
   "metadata": {},
   "outputs": [],
   "source": []
  },
  {
   "cell_type": "code",
   "execution_count": 38,
   "id": "640756af-e294-4ef5-9d39-570d5999b3af",
   "metadata": {},
   "outputs": [],
   "source": [
    "s1 = {1, 7, 8, (2, 4)}"
   ]
  },
  {
   "cell_type": "code",
   "execution_count": 39,
   "id": "47aeaa31-af49-4c10-9ee9-a6d4e23e1373",
   "metadata": {},
   "outputs": [],
   "source": [
    "s1.add(\"xyz\")"
   ]
  },
  {
   "cell_type": "code",
   "execution_count": null,
   "id": "4f74c692-bb8f-4897-911b-b0c3af34b8bb",
   "metadata": {},
   "outputs": [],
   "source": []
  },
  {
   "cell_type": "code",
   "execution_count": 46,
   "id": "c9cfc240-f693-4d0b-8e9c-1467c74f609a",
   "metadata": {},
   "outputs": [],
   "source": [
    "s1 = {(2, 4), 1, 7, 8, 'xyz'}"
   ]
  },
  {
   "cell_type": "code",
   "execution_count": 47,
   "id": "92eb3cfe-4883-4ca4-822a-8332c033d484",
   "metadata": {},
   "outputs": [],
   "source": [
    "s1.remove(8)"
   ]
  },
  {
   "cell_type": "code",
   "execution_count": 48,
   "id": "9315259f-3ae9-459d-8a30-505e775cd18d",
   "metadata": {},
   "outputs": [
    {
     "data": {
      "text/plain": [
       "{(2, 4), 1, 7, 'xyz'}"
      ]
     },
     "execution_count": 48,
     "metadata": {},
     "output_type": "execute_result"
    }
   ],
   "source": [
    "s1"
   ]
  },
  {
   "cell_type": "code",
   "execution_count": null,
   "id": "853a2e4c-8d02-4f09-8732-656a109e2fe4",
   "metadata": {},
   "outputs": [],
   "source": []
  },
  {
   "cell_type": "code",
   "execution_count": 54,
   "id": "e1903de1-2ba4-42fb-bacd-6a9110c0662c",
   "metadata": {},
   "outputs": [],
   "source": [
    "list1 = [3, 8, 1, 8]"
   ]
  },
  {
   "cell_type": "code",
   "execution_count": 55,
   "id": "4dee5b0e-9680-4960-9b05-073673403068",
   "metadata": {},
   "outputs": [],
   "source": [
    "s2 = set(list1)"
   ]
  },
  {
   "cell_type": "code",
   "execution_count": 56,
   "id": "1a6b5f7a-915b-4d32-be1c-3e6e7d0b3555",
   "metadata": {},
   "outputs": [
    {
     "data": {
      "text/plain": [
       "{1, 3, 8}"
      ]
     },
     "execution_count": 56,
     "metadata": {},
     "output_type": "execute_result"
    }
   ],
   "source": [
    "s2"
   ]
  },
  {
   "cell_type": "code",
   "execution_count": null,
   "id": "0e5ca253-07b3-42de-930e-b39c70c51054",
   "metadata": {},
   "outputs": [],
   "source": []
  },
  {
   "cell_type": "code",
   "execution_count": 57,
   "id": "035c1d0f-a528-446f-8bec-11e105aaa5e3",
   "metadata": {},
   "outputs": [],
   "source": [
    "fs1 = frozenset({2, 7, 9})"
   ]
  },
  {
   "cell_type": "code",
   "execution_count": 58,
   "id": "6c802911-7667-497b-bb53-e3bcd2aeba5e",
   "metadata": {},
   "outputs": [],
   "source": [
    "# fs1."
   ]
  },
  {
   "cell_type": "code",
   "execution_count": null,
   "id": "9f861e02-258b-4c9d-b781-24e63a7ebcc1",
   "metadata": {},
   "outputs": [],
   "source": []
  },
  {
   "cell_type": "code",
   "execution_count": 20,
   "id": "988b8f24-5485-4bfe-9166-119ca94b8ce8",
   "metadata": {},
   "outputs": [],
   "source": [
    "# 5 to -5 "
   ]
  },
  {
   "cell_type": "code",
   "execution_count": 25,
   "id": "781ee643-d760-4628-bac3-ea95f9e1a98c",
   "metadata": {},
   "outputs": [],
   "source": [
    "# r = range(5, -6, -1)  "
   ]
  },
  {
   "cell_type": "code",
   "execution_count": 26,
   "id": "fe88c0f0-b8eb-466d-ae3e-23be119c3f50",
   "metadata": {},
   "outputs": [],
   "source": [
    "# list(r)"
   ]
  },
  {
   "cell_type": "code",
   "execution_count": 27,
   "id": "6215cbb1-d9ff-4174-aef9-eb4285b119d7",
   "metadata": {},
   "outputs": [],
   "source": [
    "tt = tuple(range(5, -6, -1))"
   ]
  },
  {
   "cell_type": "code",
   "execution_count": 28,
   "id": "d360cba5-423d-4e06-8452-72b689479512",
   "metadata": {},
   "outputs": [
    {
     "data": {
      "text/plain": [
       "(5, 4, 3, 2, 1, 0, -1, -2, -3, -4, -5)"
      ]
     },
     "execution_count": 28,
     "metadata": {},
     "output_type": "execute_result"
    }
   ],
   "source": [
    "tt"
   ]
  },
  {
   "cell_type": "code",
   "execution_count": null,
   "id": "4816ff50-b53b-4a34-8a52-3493b85c7ddb",
   "metadata": {},
   "outputs": [],
   "source": []
  },
  {
   "cell_type": "code",
   "execution_count": 30,
   "id": "63135fa5-7a13-4438-9e75-87679f3404ba",
   "metadata": {},
   "outputs": [],
   "source": [
    "# String, Array, List, Tuple, Set, Frozenset"
   ]
  },
  {
   "cell_type": "code",
   "execution_count": 33,
   "id": "1aab7167-f821-422d-8596-a98524712525",
   "metadata": {},
   "outputs": [],
   "source": [
    "# import collections"
   ]
  },
  {
   "cell_type": "code",
   "execution_count": 32,
   "id": "11ebea8a-cf3a-4aa9-aaf1-af34c820b053",
   "metadata": {},
   "outputs": [],
   "source": [
    "# collections."
   ]
  },
  {
   "cell_type": "code",
   "execution_count": null,
   "id": "cb1d5b5e-0749-4934-9cb7-d2d7b22beecb",
   "metadata": {},
   "outputs": [],
   "source": []
  },
  {
   "cell_type": "code",
   "execution_count": 34,
   "id": "c4079a91-d484-4b2d-a549-c48d69847017",
   "metadata": {},
   "outputs": [],
   "source": [
    "# List Constructor"
   ]
  },
  {
   "cell_type": "code",
   "execution_count": 43,
   "id": "e72b3d90-c1fb-44da-8465-805e412663b4",
   "metadata": {},
   "outputs": [],
   "source": [
    "# help(list)"
   ]
  },
  {
   "cell_type": "code",
   "execution_count": 38,
   "id": "ebf0dc87-5cb8-4b22-9848-b79e17a23579",
   "metadata": {},
   "outputs": [],
   "source": [
    "ls = [2, 5, 7, 1]  "
   ]
  },
  {
   "cell_type": "code",
   "execution_count": 46,
   "id": "7ccd1f78-6ace-40e6-807a-127897e2629d",
   "metadata": {},
   "outputs": [],
   "source": [
    "data = list(\"xyz\")"
   ]
  },
  {
   "cell_type": "code",
   "execution_count": 47,
   "id": "4d221369-0764-4a33-9cbb-57cecfd714c5",
   "metadata": {},
   "outputs": [
    {
     "data": {
      "text/plain": [
       "['x', 'y', 'z']"
      ]
     },
     "execution_count": 47,
     "metadata": {},
     "output_type": "execute_result"
    }
   ],
   "source": [
    "data"
   ]
  },
  {
   "cell_type": "code",
   "execution_count": null,
   "id": "a6285184-5bcf-4660-a2b6-8ef96032084c",
   "metadata": {},
   "outputs": [],
   "source": []
  },
  {
   "cell_type": "code",
   "execution_count": 48,
   "id": "2f35514d-d5d1-49ab-b72e-9fb0c63d1a4d",
   "metadata": {},
   "outputs": [],
   "source": [
    "# Python\n",
    "\n",
    "# Array \n",
    "# List"
   ]
  },
  {
   "cell_type": "code",
   "execution_count": null,
   "id": "00947ad6-e4dc-4a48-b864-246c0dedb18f",
   "metadata": {},
   "outputs": [],
   "source": []
  },
  {
   "cell_type": "code",
   "execution_count": 51,
   "id": "b1437fd1-b9c1-45d5-896e-dd44c6047674",
   "metadata": {},
   "outputs": [],
   "source": [
    "# import array"
   ]
  },
  {
   "cell_type": "code",
   "execution_count": 50,
   "id": "7e79584c-5f27-4b0c-b4f4-2778ffa54827",
   "metadata": {},
   "outputs": [],
   "source": [
    "# array.array()"
   ]
  },
  {
   "cell_type": "code",
   "execution_count": 56,
   "id": "7aaa8981-7868-4c96-98fc-e18ecbe16fe0",
   "metadata": {},
   "outputs": [],
   "source": [
    "# x: int = 21474836473347234284"
   ]
  },
  {
   "cell_type": "code",
   "execution_count": 57,
   "id": "985d5301-ad9f-40f9-82e9-061a33587a59",
   "metadata": {},
   "outputs": [],
   "source": [
    "# type(x)"
   ]
  },
  {
   "cell_type": "code",
   "execution_count": null,
   "id": "c1b370a5-392e-492d-811e-f75576fd9014",
   "metadata": {},
   "outputs": [],
   "source": []
  },
  {
   "cell_type": "code",
   "execution_count": null,
   "id": "e2f3fce4-0e09-4f83-bb54-c6fb7fced20a",
   "metadata": {},
   "outputs": [],
   "source": []
  },
  {
   "cell_type": "markdown",
   "id": "868a40bd-92c7-4330-8c72-a2fcfb92c3bf",
   "metadata": {},
   "source": [
    "## Python Dictionary "
   ]
  },
  {
   "cell_type": "code",
   "execution_count": 67,
   "id": "7fd88154-ada3-4f1c-acd2-d22b6c1ded8e",
   "metadata": {},
   "outputs": [],
   "source": [
    "d1 = {}"
   ]
  },
  {
   "cell_type": "code",
   "execution_count": 69,
   "id": "947927c5-48ae-4602-a9a8-de8564287788",
   "metadata": {},
   "outputs": [],
   "source": [
    "d2 = dict({})"
   ]
  },
  {
   "cell_type": "code",
   "execution_count": null,
   "id": "8e2974e3-45f8-4ab2-9218-b9a5dc49de82",
   "metadata": {},
   "outputs": [],
   "source": []
  },
  {
   "cell_type": "code",
   "execution_count": 76,
   "id": "66d97150-c5a0-4381-95f2-6d26f408a5c9",
   "metadata": {},
   "outputs": [],
   "source": [
    "product_info = {\n",
    "    \"Id\": 5,\n",
    "    \"Name\": \"Laptop\",\n",
    "    \"Brand\": \"Apple\"\n",
    "}"
   ]
  },
  {
   "cell_type": "code",
   "execution_count": 84,
   "id": "77ccc472-4337-440a-b70d-ff51107f9199",
   "metadata": {},
   "outputs": [],
   "source": [
    "# print(end=\"\\n\")"
   ]
  },
  {
   "cell_type": "code",
   "execution_count": 87,
   "id": "7625cc67-f4f4-429e-bcc3-52d88742e12d",
   "metadata": {},
   "outputs": [],
   "source": [
    "# product_info = dict(\n",
    "#     Id=5,\n",
    "#     Name=\"Laptop\",\n",
    "#     Brand=\"Apple\"\n",
    "# )"
   ]
  },
  {
   "cell_type": "code",
   "execution_count": 88,
   "id": "ce214764-4aa3-4910-b92a-9d45ebcec408",
   "metadata": {},
   "outputs": [],
   "source": [
    "product_info = {\n",
    "    \"Id\": 5,\n",
    "    \"Name\": \"Laptop\",\n",
    "    \"Brand\": \"Apple\"\n",
    "}"
   ]
  },
  {
   "cell_type": "code",
   "execution_count": 89,
   "id": "9ada5283-5ef3-44a7-8011-ecea20102fdc",
   "metadata": {},
   "outputs": [
    {
     "name": "stdout",
     "output_type": "stream",
     "text": [
      "{'Id': 5, 'Name': 'Laptop', 'Brand': 'Apple'}\n"
     ]
    }
   ],
   "source": [
    "print(product_info)"
   ]
  },
  {
   "cell_type": "code",
   "execution_count": 93,
   "id": "a11482b1-0db4-4ded-81fe-f86b4d9d2854",
   "metadata": {},
   "outputs": [],
   "source": [
    "product_info = {\n",
    "    \"Id\": 5,\n",
    "    \"Name\": \"Laptop\",\n",
    "    \"Brands\": [\"Apple\", \"Dell\"]\n",
    "}"
   ]
  },
  {
   "cell_type": "code",
   "execution_count": 96,
   "id": "025caa9a-e657-47eb-9312-b3e82d40322b",
   "metadata": {},
   "outputs": [],
   "source": [
    "# Nested Dict\n",
    "product_info = {\n",
    "    \"Id\": 5,\n",
    "    \"Name\": \"Laptop\",\n",
    "    \"Brands\": {\n",
    "        \"b1\": \"Apple\",\n",
    "        \"b2\": \"Dell\"\n",
    "    }\n",
    "}"
   ]
  },
  {
   "cell_type": "code",
   "execution_count": null,
   "id": "a210df16-35d1-4856-94b2-06f07cfd507a",
   "metadata": {},
   "outputs": [],
   "source": []
  },
  {
   "cell_type": "code",
   "execution_count": 116,
   "id": "5e815610-3a77-4fcb-8eb8-4580b840452e",
   "metadata": {},
   "outputs": [],
   "source": [
    "data = [[\"Id\", 5], [\"Name\", \"Laptop\"], [\"Brand\", [\"Apple\", \"Dell\"]]]"
   ]
  },
  {
   "cell_type": "code",
   "execution_count": 117,
   "id": "ae497078-dbea-49f5-8efe-78bd4a8a03c2",
   "metadata": {},
   "outputs": [],
   "source": [
    "# data[2]"
   ]
  },
  {
   "cell_type": "code",
   "execution_count": 118,
   "id": "edb2746a-88bd-4738-9115-44659f7dc609",
   "metadata": {},
   "outputs": [],
   "source": [
    "# len(data)"
   ]
  },
  {
   "cell_type": "code",
   "execution_count": 119,
   "id": "ac84a2e2-410c-4c06-bea0-bf93332f4a4b",
   "metadata": {},
   "outputs": [],
   "source": [
    "# li = [3, 7, 8]"
   ]
  },
  {
   "cell_type": "code",
   "execution_count": 120,
   "id": "9aed29ed-98d8-4dd7-923b-3a9fc220995f",
   "metadata": {},
   "outputs": [],
   "source": [
    "new_data = dict(data)"
   ]
  },
  {
   "cell_type": "code",
   "execution_count": 121,
   "id": "992d1f60-a0c6-446d-b730-5c8383dd7e5c",
   "metadata": {},
   "outputs": [
    {
     "data": {
      "text/plain": [
       "{'Id': 5, 'Name': 'Laptop', 'Brand': ['Apple', 'Dell']}"
      ]
     },
     "execution_count": 121,
     "metadata": {},
     "output_type": "execute_result"
    }
   ],
   "source": [
    "new_data"
   ]
  },
  {
   "cell_type": "code",
   "execution_count": 97,
   "id": "8250aa3c-c60b-4373-aa8b-5632f55dfe53",
   "metadata": {},
   "outputs": [],
   "source": [
    "product_info = {\n",
    "    \"Id\": 5,\n",
    "    \"Name\": \"Laptop\",\n",
    "    \"Brand\": \"Apple\"\n",
    "}"
   ]
  },
  {
   "cell_type": "code",
   "execution_count": null,
   "id": "91e074a0-94ee-49c4-a1e2-41565145fda6",
   "metadata": {},
   "outputs": [],
   "source": []
  },
  {
   "cell_type": "code",
   "execution_count": 124,
   "id": "f1125148-243c-48a3-a95c-6a62e167c46f",
   "metadata": {},
   "outputs": [],
   "source": [
    "keys = ['a', 'b', 'c']"
   ]
  },
  {
   "cell_type": "code",
   "execution_count": 125,
   "id": "29203315-3899-4ca3-985f-d7aa8afc5769",
   "metadata": {},
   "outputs": [],
   "source": [
    "defualt_value = 0"
   ]
  },
  {
   "cell_type": "code",
   "execution_count": 126,
   "id": "782ebfff-367b-426b-99bb-2c42dec3a3b9",
   "metadata": {},
   "outputs": [],
   "source": [
    "d_data = dict.fromkeys(keys, defualt_value)"
   ]
  },
  {
   "cell_type": "code",
   "execution_count": 127,
   "id": "eccce7d3-efbf-4e0c-9e71-32127a362498",
   "metadata": {},
   "outputs": [
    {
     "data": {
      "text/plain": [
       "{'a': 0, 'b': 0, 'c': 0}"
      ]
     },
     "execution_count": 127,
     "metadata": {},
     "output_type": "execute_result"
    }
   ],
   "source": [
    "d_data"
   ]
  },
  {
   "cell_type": "code",
   "execution_count": null,
   "id": "d6c6ade5-82e8-4a86-9d40-cd3ad4e1f8c3",
   "metadata": {},
   "outputs": [],
   "source": []
  },
  {
   "cell_type": "code",
   "execution_count": 129,
   "id": "3c9a3315-4a28-4cb5-8bb3-29d60aa3ca18",
   "metadata": {},
   "outputs": [],
   "source": [
    "stds = [\"s1\", \"s2\", \"s3\"]"
   ]
  },
  {
   "cell_type": "code",
   "execution_count": 130,
   "id": "1ca391d1-2b84-4b14-a605-e99b5b526d4a",
   "metadata": {},
   "outputs": [],
   "source": [
    "users = [\"ali\", \"bilal\", \"anas\"]"
   ]
  },
  {
   "cell_type": "code",
   "execution_count": 133,
   "id": "1a199362-8b0f-4c27-b0fe-a9695cb9d5bf",
   "metadata": {},
   "outputs": [
    {
     "data": {
      "text/plain": [
       "{'s1': 'ali', 's2': 'bilal', 's3': 'anas'}"
      ]
     },
     "execution_count": 133,
     "metadata": {},
     "output_type": "execute_result"
    }
   ],
   "source": [
    "dict(zip(stds, users))"
   ]
  },
  {
   "cell_type": "code",
   "execution_count": null,
   "id": "d4f5300e-3045-41f5-881d-bc4262db580f",
   "metadata": {},
   "outputs": [],
   "source": []
  },
  {
   "cell_type": "code",
   "execution_count": 136,
   "id": "d085606c-53ff-4073-bb0b-02cdbc8ed80f",
   "metadata": {},
   "outputs": [],
   "source": [
    "product_info = {\n",
    "    \"Id\": 5,\n",
    "    \"Name\": \"Laptop\",\n",
    "    \"Brand\": \"Apple\"\n",
    "}"
   ]
  },
  {
   "cell_type": "code",
   "execution_count": 137,
   "id": "09b60d40-a717-4984-b036-6e097ad40ecd",
   "metadata": {},
   "outputs": [],
   "source": [
    "# Access"
   ]
  },
  {
   "cell_type": "code",
   "execution_count": 138,
   "id": "13de89ea-ed3b-40eb-bdeb-90fa476cb17a",
   "metadata": {},
   "outputs": [
    {
     "data": {
      "text/plain": [
       "'Laptop'"
      ]
     },
     "execution_count": 138,
     "metadata": {},
     "output_type": "execute_result"
    }
   ],
   "source": [
    "product_info[\"Name\"]"
   ]
  },
  {
   "cell_type": "code",
   "execution_count": 142,
   "id": "9de75d1c-1608-47de-8bd2-989bb124bb54",
   "metadata": {},
   "outputs": [],
   "source": [
    "keys_data = list(product_info.keys())"
   ]
  },
  {
   "cell_type": "code",
   "execution_count": 143,
   "id": "63828d9f-3a7b-4c8d-aa67-43e7557caeed",
   "metadata": {},
   "outputs": [
    {
     "data": {
      "text/plain": [
       "['Id', 'Name', 'Brand']"
      ]
     },
     "execution_count": 143,
     "metadata": {},
     "output_type": "execute_result"
    }
   ],
   "source": [
    "keys_data"
   ]
  },
  {
   "cell_type": "code",
   "execution_count": 144,
   "id": "9616ac8f-f5f7-43e4-ac13-3b40056024af",
   "metadata": {},
   "outputs": [
    {
     "data": {
      "text/plain": [
       "dict_values([5, 'Laptop', 'Apple'])"
      ]
     },
     "execution_count": 144,
     "metadata": {},
     "output_type": "execute_result"
    }
   ],
   "source": [
    "product_info.values()"
   ]
  },
  {
   "cell_type": "code",
   "execution_count": 146,
   "id": "778bdb6c-22dc-4c38-b43f-0caf4087d744",
   "metadata": {},
   "outputs": [
    {
     "data": {
      "text/plain": [
       "[('Id', 5), ('Name', 'Laptop'), ('Brand', 'Apple')]"
      ]
     },
     "execution_count": 146,
     "metadata": {},
     "output_type": "execute_result"
    }
   ],
   "source": [
    "list(product_info.items())"
   ]
  },
  {
   "cell_type": "code",
   "execution_count": null,
   "id": "ae16019f-f27c-4e47-95c6-2e8332252c4c",
   "metadata": {},
   "outputs": [],
   "source": []
  },
  {
   "cell_type": "code",
   "execution_count": 148,
   "id": "8d9ebbac-f980-4bf2-9855-8981d5c7c520",
   "metadata": {},
   "outputs": [],
   "source": [
    "product_info = {\n",
    "    \"Id\": 5,\n",
    "    \"Name\": \"Laptop\",\n",
    "    \"Brand\": \"Apple\",\n",
    "    \"Name\": \"Mobile\"\n",
    "}"
   ]
  },
  {
   "cell_type": "code",
   "execution_count": 149,
   "id": "cc6f4532-8ce1-432a-bd3c-874bca8b626f",
   "metadata": {},
   "outputs": [
    {
     "data": {
      "text/plain": [
       "{'Id': 5, 'Name': 'Mobile', 'Brand': 'Apple'}"
      ]
     },
     "execution_count": 149,
     "metadata": {},
     "output_type": "execute_result"
    }
   ],
   "source": [
    "product_info"
   ]
  },
  {
   "cell_type": "code",
   "execution_count": 150,
   "id": "28edf522-9aa8-4fa8-afbd-3a9f45c1e0d2",
   "metadata": {},
   "outputs": [],
   "source": [
    "# Update"
   ]
  },
  {
   "cell_type": "code",
   "execution_count": 151,
   "id": "e24cc2a2-42cb-4a9c-a241-dc4042a0c937",
   "metadata": {},
   "outputs": [],
   "source": [
    "product_info[\"Brand\"] = \"Dell\""
   ]
  },
  {
   "cell_type": "code",
   "execution_count": 152,
   "id": "22803c4c-38af-47d7-9d44-011e3709e867",
   "metadata": {},
   "outputs": [
    {
     "data": {
      "text/plain": [
       "{'Id': 5, 'Name': 'Mobile', 'Brand': 'Dell'}"
      ]
     },
     "execution_count": 152,
     "metadata": {},
     "output_type": "execute_result"
    }
   ],
   "source": [
    "product_info"
   ]
  },
  {
   "cell_type": "code",
   "execution_count": null,
   "id": "12892eb9-aadc-4696-93a5-e41bba7bea0a",
   "metadata": {},
   "outputs": [],
   "source": []
  },
  {
   "cell_type": "code",
   "execution_count": 165,
   "id": "2a47ec66-1efa-4292-b10e-0e102f5908fd",
   "metadata": {},
   "outputs": [],
   "source": [
    "product_info = {\n",
    "    \"Id\": 5,\n",
    "    \"Name\": \"Laptop\",\n",
    "    \"Brand\": \"Apple\",\n",
    "    \"Name\": \"Mobile\"\n",
    "}"
   ]
  },
  {
   "cell_type": "code",
   "execution_count": 167,
   "id": "2d75eed2-9cc6-4de9-8f5f-12185cf2a9be",
   "metadata": {},
   "outputs": [],
   "source": [
    "# product_info.update"
   ]
  },
  {
   "cell_type": "code",
   "execution_count": 166,
   "id": "295c3335-a50d-4eb7-bf5a-4753ade01a88",
   "metadata": {},
   "outputs": [
    {
     "data": {
      "text/plain": [
       "3"
      ]
     },
     "execution_count": 166,
     "metadata": {},
     "output_type": "execute_result"
    }
   ],
   "source": [
    "len(product_info)"
   ]
  },
  {
   "cell_type": "code",
   "execution_count": 156,
   "id": "a0031a45-d457-42b7-bd57-093337a3f1e9",
   "metadata": {},
   "outputs": [],
   "source": [
    "# product_info[\"Price\"]  # Access"
   ]
  },
  {
   "cell_type": "code",
   "execution_count": 159,
   "id": "4b421581-af02-4d08-89b3-079ea59cadd5",
   "metadata": {},
   "outputs": [],
   "source": [
    "product_info.get(\"Price\")  # Access"
   ]
  },
  {
   "cell_type": "code",
   "execution_count": 162,
   "id": "b696da3e-560f-4ecb-bdb4-b8df6b0a769a",
   "metadata": {},
   "outputs": [],
   "source": [
    "# product_info.clear()"
   ]
  },
  {
   "cell_type": "code",
   "execution_count": 163,
   "id": "9e110918-c18b-48b1-b782-b1386afd5200",
   "metadata": {},
   "outputs": [],
   "source": [
    "# product_info"
   ]
  },
  {
   "cell_type": "code",
   "execution_count": 164,
   "id": "de7c1a06-9561-4c89-80fc-3ed272d9d3f7",
   "metadata": {},
   "outputs": [],
   "source": [
    "# del product_info"
   ]
  },
  {
   "cell_type": "code",
   "execution_count": null,
   "id": "7e5eb0ad-e4bd-4c52-abf9-0faa27cd4ed8",
   "metadata": {},
   "outputs": [],
   "source": []
  },
  {
   "cell_type": "code",
   "execution_count": 168,
   "id": "be633d2e-b569-432d-bb12-c501ede4df6d",
   "metadata": {},
   "outputs": [],
   "source": [
    "product_info = {\n",
    "    \"Id\": 5,\n",
    "    \"Name\": \"Laptop\",\n",
    "    \"Brand\": \"Apple\",\n",
    "    \"Name\": \"Mobile\"\n",
    "}"
   ]
  },
  {
   "cell_type": "code",
   "execution_count": 169,
   "id": "7b767e02-c932-4ef3-beca-6f5c465581aa",
   "metadata": {},
   "outputs": [],
   "source": [
    "data = product_info.copy()"
   ]
  },
  {
   "cell_type": "code",
   "execution_count": null,
   "id": "5d11db08-a988-4de3-9e50-1625228ab791",
   "metadata": {},
   "outputs": [],
   "source": []
  },
  {
   "cell_type": "code",
   "execution_count": 181,
   "id": "f1872af9-e316-4359-acec-bca8ecab78c9",
   "metadata": {},
   "outputs": [],
   "source": [
    "d1 = {\n",
    "    \"Id\": 5,\n",
    "    \"Brand\": \"Apple\",\n",
    "    \"Name\": \"Mobile\"\n",
    "}"
   ]
  },
  {
   "cell_type": "code",
   "execution_count": 184,
   "id": "7cba16f8-37a2-4012-913a-ef942c3cbaf4",
   "metadata": {},
   "outputs": [],
   "source": [
    "d2 = {\n",
    "    \"Price\": 32345.245,\n",
    "    \"Brand\": \"Dell\"\n",
    "}"
   ]
  },
  {
   "cell_type": "code",
   "execution_count": 196,
   "id": "200d4c19-9699-4b97-b688-627e4a9bbb81",
   "metadata": {},
   "outputs": [],
   "source": [
    "# d2"
   ]
  },
  {
   "cell_type": "code",
   "execution_count": 193,
   "id": "bfbe6447-f5bd-4037-8673-61c965ba2e66",
   "metadata": {},
   "outputs": [],
   "source": [
    "d1.update(d2)"
   ]
  },
  {
   "cell_type": "code",
   "execution_count": 194,
   "id": "afa1ae7f-4e13-4e57-a9ba-034ab7fba8cd",
   "metadata": {},
   "outputs": [
    {
     "data": {
      "text/plain": [
       "{'Id': 5, 'Brand': 'Dell', 'Name': 'Mobile', 'Price': 32345.245}"
      ]
     },
     "execution_count": 194,
     "metadata": {},
     "output_type": "execute_result"
    }
   ],
   "source": [
    "d1"
   ]
  },
  {
   "cell_type": "code",
   "execution_count": 191,
   "id": "8a28e80e-5231-49cb-96b9-fc70e1f8bdc4",
   "metadata": {},
   "outputs": [],
   "source": [
    "d3 = {**d1, **d2}"
   ]
  },
  {
   "cell_type": "code",
   "execution_count": 192,
   "id": "a2391125-5655-4e7b-b64d-cfc8e8e632d5",
   "metadata": {},
   "outputs": [
    {
     "data": {
      "text/plain": [
       "{'Id': 5, 'Brand': 'Dell', 'Name': 'Mobile', 'Price': 32345.245}"
      ]
     },
     "execution_count": 192,
     "metadata": {},
     "output_type": "execute_result"
    }
   ],
   "source": [
    "d3"
   ]
  },
  {
   "cell_type": "code",
   "execution_count": 188,
   "id": "f6a3f26c-4725-4d12-97c3-9d5e683b3f13",
   "metadata": {},
   "outputs": [],
   "source": [
    "# from collections import ChainMap"
   ]
  },
  {
   "cell_type": "code",
   "execution_count": 187,
   "id": "826d3f4f-a2dd-4aa9-935f-b2654938ae20",
   "metadata": {},
   "outputs": [],
   "source": [
    "# ChainMap()"
   ]
  },
  {
   "cell_type": "code",
   "execution_count": null,
   "id": "a8166962-0a0b-4490-81df-9aec6045d63d",
   "metadata": {},
   "outputs": [],
   "source": []
  },
  {
   "cell_type": "code",
   "execution_count": 197,
   "id": "2d655767-b01c-44a9-84f5-cd38e4e270ff",
   "metadata": {},
   "outputs": [
    {
     "data": {
      "text/plain": [
       "{'Id': 5, 'Name': 'Mobile', 'Brand': 'Apple'}"
      ]
     },
     "execution_count": 197,
     "metadata": {},
     "output_type": "execute_result"
    }
   ],
   "source": [
    "product_info"
   ]
  },
  {
   "cell_type": "code",
   "execution_count": 199,
   "id": "0aca5dca-b55e-42bd-b365-fe1f6c6e6358",
   "metadata": {},
   "outputs": [
    {
     "data": {
      "text/plain": [
       "True"
      ]
     },
     "execution_count": 199,
     "metadata": {},
     "output_type": "execute_result"
    }
   ],
   "source": [
    "\"Brand\" in product_info.keys()"
   ]
  },
  {
   "cell_type": "code",
   "execution_count": 200,
   "id": "b5cd3233-ceec-4403-8175-ee4ea54bae3c",
   "metadata": {},
   "outputs": [
    {
     "data": {
      "text/plain": [
       "'Apple'"
      ]
     },
     "execution_count": 200,
     "metadata": {},
     "output_type": "execute_result"
    }
   ],
   "source": [
    "product_info.pop(\"Brand\")"
   ]
  },
  {
   "cell_type": "code",
   "execution_count": 201,
   "id": "06bf0c3a-bd70-4a44-aad4-f8283f8202d4",
   "metadata": {},
   "outputs": [
    {
     "data": {
      "text/plain": [
       "{'Id': 5, 'Name': 'Mobile'}"
      ]
     },
     "execution_count": 201,
     "metadata": {},
     "output_type": "execute_result"
    }
   ],
   "source": [
    "product_info"
   ]
  },
  {
   "cell_type": "code",
   "execution_count": null,
   "id": "9ab8357a-cc0e-42f0-be0b-9b4e1624bc29",
   "metadata": {},
   "outputs": [],
   "source": []
  },
  {
   "cell_type": "code",
   "execution_count": 205,
   "id": "87519a60-d23f-4d4d-a0aa-8e41c4e89aeb",
   "metadata": {},
   "outputs": [],
   "source": [
    "data = {'Id': 5, 'Name': 'Mobile', 'Brand': 'Apple'}"
   ]
  },
  {
   "cell_type": "code",
   "execution_count": 208,
   "id": "95da549b-6735-4db2-8877-369968699754",
   "metadata": {},
   "outputs": [],
   "source": [
    "# data.popitem()"
   ]
  },
  {
   "cell_type": "code",
   "execution_count": null,
   "id": "8bd28147-1927-4428-aa7f-d20755d89e4c",
   "metadata": {},
   "outputs": [],
   "source": []
  },
  {
   "cell_type": "code",
   "execution_count": 209,
   "id": "43915e28-f643-49da-8692-9f2928f6ec32",
   "metadata": {},
   "outputs": [],
   "source": [
    "data = {'Id': 5, 'Name': 'Mobile', 'Brand': 'Apple'}"
   ]
  },
  {
   "cell_type": "code",
   "execution_count": 210,
   "id": "94f728eb-e0db-4732-b9f5-cce5ae7becaf",
   "metadata": {},
   "outputs": [],
   "source": [
    "# data.keys"
   ]
  },
  {
   "cell_type": "code",
   "execution_count": null,
   "id": "ba0c6f16-568c-4e34-9776-03ba2430e2ca",
   "metadata": {},
   "outputs": [],
   "source": []
  },
  {
   "cell_type": "markdown",
   "id": "2ca5bbc7-6554-4b21-8fb1-1862bd968c56",
   "metadata": {},
   "source": [
    "### Happy Learning :)"
   ]
  }
 ],
 "metadata": {
  "kernelspec": {
   "display_name": "Python 3 (ipykernel)",
   "language": "python",
   "name": "python3"
  },
  "language_info": {
   "codemirror_mode": {
    "name": "ipython",
    "version": 3
   },
   "file_extension": ".py",
   "mimetype": "text/x-python",
   "name": "python",
   "nbconvert_exporter": "python",
   "pygments_lexer": "ipython3",
   "version": "3.9.7"
  }
 },
 "nbformat": 4,
 "nbformat_minor": 5
}
