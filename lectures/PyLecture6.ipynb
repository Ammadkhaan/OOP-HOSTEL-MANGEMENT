{
 "cells": [
  {
   "cell_type": "markdown",
   "id": "3a0ea1dd-45c2-4f30-af3b-3ce262cc207d",
   "metadata": {},
   "source": [
    "## Python Lists - Part II"
   ]
  },
  {
   "cell_type": "markdown",
   "id": "88ca3dfa-1368-4ef3-903a-94b2b3fc5c8e",
   "metadata": {},
   "source": [
    "#### Sorting Elements from the List"
   ]
  },
  {
   "cell_type": "code",
   "execution_count": 7,
   "id": "1b62131a-94c0-44ea-b165-46c8a8f2e58c",
   "metadata": {},
   "outputs": [],
   "source": [
    "x = [3, 5, 7, 9, 1]  # int list"
   ]
  },
  {
   "cell_type": "code",
   "execution_count": 8,
   "id": "29b698e1-7178-43c0-848c-82961c58bc9e",
   "metadata": {},
   "outputs": [],
   "source": [
    "# list.sort?"
   ]
  },
  {
   "cell_type": "code",
   "execution_count": 9,
   "id": "a1820cf8-ed3f-45be-9408-a0910571ae33",
   "metadata": {},
   "outputs": [],
   "source": [
    "x.sort()"
   ]
  },
  {
   "cell_type": "code",
   "execution_count": 10,
   "id": "2bd1d876-69d1-4731-a9cc-0c932a76ef91",
   "metadata": {},
   "outputs": [
    {
     "data": {
      "text/plain": [
       "[1, 3, 5, 7, 9]"
      ]
     },
     "execution_count": 10,
     "metadata": {},
     "output_type": "execute_result"
    }
   ],
   "source": [
    "x"
   ]
  },
  {
   "cell_type": "code",
   "execution_count": null,
   "id": "6d0a91c3-2457-43e8-9640-ac6472d8a131",
   "metadata": {},
   "outputs": [],
   "source": []
  },
  {
   "cell_type": "code",
   "execution_count": 11,
   "id": "815d1467-81b6-4266-a7c5-e398fb4be2fb",
   "metadata": {},
   "outputs": [],
   "source": [
    "x = [3, 5, 7, 9, 1]"
   ]
  },
  {
   "cell_type": "code",
   "execution_count": 14,
   "id": "b0d493ee-1462-4783-87f7-95df6f093d72",
   "metadata": {},
   "outputs": [],
   "source": [
    "x.sort(reverse=True)"
   ]
  },
  {
   "cell_type": "code",
   "execution_count": 15,
   "id": "6f10953e-e6bc-4273-a98a-3a7425635111",
   "metadata": {},
   "outputs": [
    {
     "data": {
      "text/plain": [
       "[9, 7, 5, 3, 1]"
      ]
     },
     "execution_count": 15,
     "metadata": {},
     "output_type": "execute_result"
    }
   ],
   "source": [
    "x"
   ]
  },
  {
   "cell_type": "code",
   "execution_count": null,
   "id": "19bbc315-0aa9-4a73-a234-657b17ae89f8",
   "metadata": {},
   "outputs": [],
   "source": []
  },
  {
   "cell_type": "code",
   "execution_count": 20,
   "id": "a4410dd6-9c52-4e42-aba6-0f39385f5607",
   "metadata": {},
   "outputs": [],
   "source": [
    "x = [3, 5, 7, 9, 1]"
   ]
  },
  {
   "cell_type": "code",
   "execution_count": 21,
   "id": "a78f166b-df4d-465b-84e8-e571688dc074",
   "metadata": {},
   "outputs": [],
   "source": [
    "y = sorted(x, reverse=True)"
   ]
  },
  {
   "cell_type": "code",
   "execution_count": 22,
   "id": "b3770494-c6a8-48f6-a7c9-82ac8867e78a",
   "metadata": {},
   "outputs": [
    {
     "data": {
      "text/plain": [
       "[9, 7, 5, 3, 1]"
      ]
     },
     "execution_count": 22,
     "metadata": {},
     "output_type": "execute_result"
    }
   ],
   "source": [
    "y"
   ]
  },
  {
   "cell_type": "code",
   "execution_count": null,
   "id": "b362a798-93d7-4a17-b600-a60137f5ac94",
   "metadata": {},
   "outputs": [],
   "source": []
  },
  {
   "cell_type": "code",
   "execution_count": 35,
   "id": "6e6e2950-2a31-4dce-ba2b-1b59744b6e15",
   "metadata": {},
   "outputs": [],
   "source": [
    "x = [[2, 5], [3, 1], [1, 3]]"
   ]
  },
  {
   "cell_type": "code",
   "execution_count": 36,
   "id": "78c14346-1a94-4dca-9180-ffd2e2854057",
   "metadata": {},
   "outputs": [],
   "source": [
    "x.sort(key=lambda x: x[0])"
   ]
  },
  {
   "cell_type": "code",
   "execution_count": 37,
   "id": "be407cf3-1fe5-4f33-83e6-dcf7012aaedd",
   "metadata": {},
   "outputs": [
    {
     "data": {
      "text/plain": [
       "[[1, 3], [2, 5], [3, 1]]"
      ]
     },
     "execution_count": 37,
     "metadata": {},
     "output_type": "execute_result"
    }
   ],
   "source": [
    "x"
   ]
  },
  {
   "cell_type": "code",
   "execution_count": 25,
   "id": "806ea5cd-95ac-4c65-b32c-7e42d36e20cf",
   "metadata": {},
   "outputs": [],
   "source": [
    "# sorted(x)"
   ]
  },
  {
   "cell_type": "code",
   "execution_count": null,
   "id": "97971c23-3c5f-431b-80de-44010250d63c",
   "metadata": {},
   "outputs": [],
   "source": []
  },
  {
   "cell_type": "markdown",
   "id": "5c14ccfe-94a0-48d0-b9f5-80ac1eca48cd",
   "metadata": {},
   "source": [
    "#### Reversing List Elements\n"
   ]
  },
  {
   "cell_type": "code",
   "execution_count": 49,
   "id": "a750f79c-3110-46c5-bc22-9d8220f276f4",
   "metadata": {},
   "outputs": [],
   "source": [
    "x = [2, 5, 1, 8, 3]"
   ]
  },
  {
   "cell_type": "code",
   "execution_count": 50,
   "id": "21772ff9-dc0d-4f95-90f2-bc693bc22530",
   "metadata": {},
   "outputs": [],
   "source": [
    "# x.reverse()"
   ]
  },
  {
   "cell_type": "code",
   "execution_count": 51,
   "id": "c0de3515-dd36-443d-9fca-c1d1555b1cee",
   "metadata": {},
   "outputs": [],
   "source": [
    "# x"
   ]
  },
  {
   "cell_type": "code",
   "execution_count": 52,
   "id": "ba401e5f-d8d0-449b-aa42-b2e345663d0a",
   "metadata": {},
   "outputs": [
    {
     "data": {
      "text/plain": [
       "[3, 8, 1, 5, 2]"
      ]
     },
     "execution_count": 52,
     "metadata": {},
     "output_type": "execute_result"
    }
   ],
   "source": [
    "x[::-1]  # copy "
   ]
  },
  {
   "cell_type": "code",
   "execution_count": 41,
   "id": "c2ba509c-f1a8-418a-b021-8613e40dd7ca",
   "metadata": {},
   "outputs": [
    {
     "data": {
      "text/plain": [
       "[3, 8, 1, 5, 2]"
      ]
     },
     "execution_count": 41,
     "metadata": {},
     "output_type": "execute_result"
    }
   ],
   "source": [
    "list(reversed(x)) # copy "
   ]
  },
  {
   "cell_type": "code",
   "execution_count": null,
   "id": "a730c173-9be0-4535-9f19-042e16dc90df",
   "metadata": {},
   "outputs": [],
   "source": []
  },
  {
   "cell_type": "markdown",
   "id": "ac5a0fb4-ce3a-4c73-a9e9-7a591b45b92b",
   "metadata": {},
   "source": [
    "#### Inserting Elements from the List\n"
   ]
  },
  {
   "cell_type": "code",
   "execution_count": 53,
   "id": "576029dc-3690-4daa-881d-bf16ccb2ec68",
   "metadata": {},
   "outputs": [],
   "source": [
    "x = [2, 6, 7, 8, 1]"
   ]
  },
  {
   "cell_type": "code",
   "execution_count": 55,
   "id": "8d621b36-02ae-40b6-a93a-252a70be881c",
   "metadata": {},
   "outputs": [],
   "source": [
    "x.insert(3, 50)"
   ]
  },
  {
   "cell_type": "code",
   "execution_count": 56,
   "id": "ec889a1b-3c0c-476c-a0ff-251199993f8b",
   "metadata": {},
   "outputs": [
    {
     "data": {
      "text/plain": [
       "[2, 6, 7, 50, 8, 1]"
      ]
     },
     "execution_count": 56,
     "metadata": {},
     "output_type": "execute_result"
    }
   ],
   "source": [
    "x"
   ]
  },
  {
   "cell_type": "code",
   "execution_count": 57,
   "id": "757ce27a-9029-4a01-8959-d74ab5d04188",
   "metadata": {},
   "outputs": [],
   "source": [
    "x.insert(0, [2, 3, 1])"
   ]
  },
  {
   "cell_type": "code",
   "execution_count": 58,
   "id": "bad6a2f8-def9-4a40-8f1d-a74ba710e9b2",
   "metadata": {},
   "outputs": [
    {
     "data": {
      "text/plain": [
       "[[2, 3, 1], 2, 6, 7, 50, 8, 1]"
      ]
     },
     "execution_count": 58,
     "metadata": {},
     "output_type": "execute_result"
    }
   ],
   "source": [
    "x"
   ]
  },
  {
   "cell_type": "code",
   "execution_count": null,
   "id": "7c6c21a9-96af-4080-9540-c5c8ff9d71b9",
   "metadata": {},
   "outputs": [],
   "source": []
  },
  {
   "cell_type": "markdown",
   "id": "e8284e7f-b460-4f99-a253-10778108eb44",
   "metadata": {},
   "source": [
    "#### Extending Elements from the List\n"
   ]
  },
  {
   "cell_type": "code",
   "execution_count": 63,
   "id": "2a8e1412-2485-498d-ba9e-34896eac62f3",
   "metadata": {},
   "outputs": [],
   "source": [
    "x = [2, 5, 1]"
   ]
  },
  {
   "cell_type": "code",
   "execution_count": 64,
   "id": "28573260-909d-4185-9e32-27f3a2f46acf",
   "metadata": {},
   "outputs": [],
   "source": [
    "y = [1, 9, 3]"
   ]
  },
  {
   "cell_type": "code",
   "execution_count": 65,
   "id": "4f70ad99-bb6c-457f-a06b-4226d3aedb31",
   "metadata": {},
   "outputs": [],
   "source": [
    "x.extend(y)"
   ]
  },
  {
   "cell_type": "code",
   "execution_count": 66,
   "id": "b0fa54bd-be4e-4ca5-af8e-ac311fa0ec54",
   "metadata": {},
   "outputs": [
    {
     "data": {
      "text/plain": [
       "[2, 5, 1, 1, 9, 3]"
      ]
     },
     "execution_count": 66,
     "metadata": {},
     "output_type": "execute_result"
    }
   ],
   "source": [
    "x"
   ]
  },
  {
   "cell_type": "code",
   "execution_count": null,
   "id": "c0085465-72e3-41ba-8b19-5c618dbede03",
   "metadata": {},
   "outputs": [],
   "source": []
  },
  {
   "cell_type": "code",
   "execution_count": 69,
   "id": "285442f1-2330-4a66-9361-9385019e10d9",
   "metadata": {},
   "outputs": [],
   "source": [
    "x = [2, 5, 1]"
   ]
  },
  {
   "cell_type": "code",
   "execution_count": 70,
   "id": "f6a8bc95-1e69-4b14-b400-bfce83c1ec74",
   "metadata": {},
   "outputs": [],
   "source": [
    "y = [1, 9, 3]"
   ]
  },
  {
   "cell_type": "code",
   "execution_count": 72,
   "id": "05934951-5d7c-4f39-bd62-db4ac31d6ae3",
   "metadata": {},
   "outputs": [],
   "source": [
    "z = x + y"
   ]
  },
  {
   "cell_type": "code",
   "execution_count": 73,
   "id": "7e324031-b9c2-498e-9aa9-76e9ffe16e13",
   "metadata": {},
   "outputs": [
    {
     "data": {
      "text/plain": [
       "[2, 5, 1, 1, 9, 3]"
      ]
     },
     "execution_count": 73,
     "metadata": {},
     "output_type": "execute_result"
    }
   ],
   "source": [
    "z"
   ]
  },
  {
   "cell_type": "code",
   "execution_count": null,
   "id": "2c750196-a207-4b95-8818-05ca49198e55",
   "metadata": {},
   "outputs": [],
   "source": []
  },
  {
   "cell_type": "code",
   "execution_count": 74,
   "id": "7d6317ca-abbc-497c-8ccf-deea8bcf2aff",
   "metadata": {},
   "outputs": [],
   "source": [
    "x = [2, 6, 1]"
   ]
  },
  {
   "cell_type": "code",
   "execution_count": 76,
   "id": "28177c25-8aba-4b32-9843-8413ac1fc1be",
   "metadata": {},
   "outputs": [
    {
     "data": {
      "text/plain": [
       "[2, 6, 1, 3]"
      ]
     },
     "execution_count": 76,
     "metadata": {},
     "output_type": "execute_result"
    }
   ],
   "source": [
    "x + [3]"
   ]
  },
  {
   "cell_type": "code",
   "execution_count": null,
   "id": "737aa7e6-e18d-4a5c-8558-374f2c0447c5",
   "metadata": {},
   "outputs": [],
   "source": []
  },
  {
   "cell_type": "markdown",
   "id": "c9f2cc41-567a-49cf-955f-5d4f0c30a1b8",
   "metadata": {},
   "source": [
    "#### Removing Elements from the List\n"
   ]
  },
  {
   "cell_type": "code",
   "execution_count": 77,
   "id": "0059b841-3358-4abd-8b48-59d32da3f49f",
   "metadata": {},
   "outputs": [],
   "source": [
    "# list.remove()\n",
    "# del "
   ]
  },
  {
   "cell_type": "code",
   "execution_count": 78,
   "id": "5b321f5c-b6b2-48c7-9843-89e75151f75a",
   "metadata": {},
   "outputs": [],
   "source": [
    "x = [1, 6, 7, 9, 2]"
   ]
  },
  {
   "cell_type": "code",
   "execution_count": 79,
   "id": "6db174c4-d616-43ad-b466-3017f51af6e0",
   "metadata": {},
   "outputs": [],
   "source": [
    "x.remove(9)"
   ]
  },
  {
   "cell_type": "code",
   "execution_count": 80,
   "id": "ddd4f111-ec8c-48ae-b2c5-1a471fa316b1",
   "metadata": {},
   "outputs": [
    {
     "data": {
      "text/plain": [
       "[1, 6, 7, 2]"
      ]
     },
     "execution_count": 80,
     "metadata": {},
     "output_type": "execute_result"
    }
   ],
   "source": [
    "x"
   ]
  },
  {
   "cell_type": "code",
   "execution_count": 81,
   "id": "ca25caa1-0925-45fd-9258-6cae9759f215",
   "metadata": {},
   "outputs": [],
   "source": [
    "x = [1, 6, 7, 9, 2]"
   ]
  },
  {
   "cell_type": "code",
   "execution_count": 82,
   "id": "821d2823-5688-4614-b271-7a537bc5318d",
   "metadata": {},
   "outputs": [],
   "source": [
    "del x[-3:]"
   ]
  },
  {
   "cell_type": "code",
   "execution_count": 83,
   "id": "13d2feb8-ecf1-4d59-9c24-c6b5621e8247",
   "metadata": {},
   "outputs": [
    {
     "data": {
      "text/plain": [
       "[1, 6]"
      ]
     },
     "execution_count": 83,
     "metadata": {},
     "output_type": "execute_result"
    }
   ],
   "source": [
    "x"
   ]
  },
  {
   "cell_type": "code",
   "execution_count": 84,
   "id": "92237617-53af-41a7-9178-a591eb851fe8",
   "metadata": {},
   "outputs": [
    {
     "data": {
      "text/plain": [
       "[1, 6]"
      ]
     },
     "execution_count": 84,
     "metadata": {},
     "output_type": "execute_result"
    }
   ],
   "source": [
    "x"
   ]
  },
  {
   "cell_type": "code",
   "execution_count": 85,
   "id": "26c9b6e3-297e-4346-a6b2-450722960430",
   "metadata": {},
   "outputs": [],
   "source": [
    "del x[:]"
   ]
  },
  {
   "cell_type": "code",
   "execution_count": 87,
   "id": "98dfdc66-920e-4714-8d14-be9d2d2bfe3b",
   "metadata": {},
   "outputs": [],
   "source": [
    "del x"
   ]
  },
  {
   "cell_type": "code",
   "execution_count": 88,
   "id": "efd661ff-1756-4157-8fb2-9655ce205025",
   "metadata": {},
   "outputs": [],
   "source": [
    "x = [1, 6, 7, 9, 2]"
   ]
  },
  {
   "cell_type": "code",
   "execution_count": 89,
   "id": "8f072114-a3c4-454b-b330-b18a818d94c6",
   "metadata": {},
   "outputs": [],
   "source": [
    "x.clear()"
   ]
  },
  {
   "cell_type": "code",
   "execution_count": 90,
   "id": "016288d8-d291-4415-af42-81a5968e1427",
   "metadata": {},
   "outputs": [
    {
     "data": {
      "text/plain": [
       "[]"
      ]
     },
     "execution_count": 90,
     "metadata": {},
     "output_type": "execute_result"
    }
   ],
   "source": [
    "x"
   ]
  },
  {
   "cell_type": "code",
   "execution_count": null,
   "id": "a27bb80d-e6fd-48a3-a5fe-61547ceef579",
   "metadata": {},
   "outputs": [],
   "source": []
  },
  {
   "cell_type": "markdown",
   "id": "453a974d-1a16-4cb4-83d0-5f1f6fb83ae3",
   "metadata": {},
   "source": [
    "#### Popping Elements from the List\n"
   ]
  },
  {
   "cell_type": "code",
   "execution_count": 100,
   "id": "891360b3-9c8e-4e58-abb2-726e4543122d",
   "metadata": {},
   "outputs": [],
   "source": [
    "x = [2, 6, 7, 1, 9]"
   ]
  },
  {
   "cell_type": "code",
   "execution_count": 101,
   "id": "e1f436e4-5586-47cc-8695-e03c064a566e",
   "metadata": {},
   "outputs": [
    {
     "data": {
      "text/plain": [
       "7"
      ]
     },
     "execution_count": 101,
     "metadata": {},
     "output_type": "execute_result"
    }
   ],
   "source": [
    "x.pop(2)"
   ]
  },
  {
   "cell_type": "code",
   "execution_count": 102,
   "id": "17700d7e-cdfc-4163-8c73-0769a43136a8",
   "metadata": {},
   "outputs": [
    {
     "data": {
      "text/plain": [
       "[2, 6, 1, 9]"
      ]
     },
     "execution_count": 102,
     "metadata": {},
     "output_type": "execute_result"
    }
   ],
   "source": [
    "x"
   ]
  },
  {
   "cell_type": "code",
   "execution_count": null,
   "id": "9612e9ea-1de1-4b8e-af58-8a3742595500",
   "metadata": {},
   "outputs": [],
   "source": []
  },
  {
   "cell_type": "markdown",
   "id": "bb196913-e2fe-4d96-a003-35aae6519302",
   "metadata": {},
   "source": [
    "#### Searching Elements from the List\n"
   ]
  },
  {
   "cell_type": "code",
   "execution_count": 103,
   "id": "b0f648fe-bf7a-4321-80ba-1100ab849c55",
   "metadata": {},
   "outputs": [],
   "source": [
    "x = [3, 5, 6, 1, 2]"
   ]
  },
  {
   "cell_type": "code",
   "execution_count": 106,
   "id": "f858aebe-a043-4be6-864a-16cbb5a0f438",
   "metadata": {},
   "outputs": [
    {
     "data": {
      "text/plain": [
       "3"
      ]
     },
     "execution_count": 106,
     "metadata": {},
     "output_type": "execute_result"
    }
   ],
   "source": [
    "x.index(1)  # int "
   ]
  },
  {
   "cell_type": "code",
   "execution_count": 107,
   "id": "589d6aaa-33ba-43b7-b114-4c99643481bf",
   "metadata": {},
   "outputs": [
    {
     "data": {
      "text/plain": [
       "[3, 5, 6, 1, 2]"
      ]
     },
     "execution_count": 107,
     "metadata": {},
     "output_type": "execute_result"
    }
   ],
   "source": [
    "x"
   ]
  },
  {
   "cell_type": "code",
   "execution_count": 108,
   "id": "6b459c14-03c5-49c7-87e1-5b5fbdcaed08",
   "metadata": {},
   "outputs": [
    {
     "data": {
      "text/plain": [
       "True"
      ]
     },
     "execution_count": 108,
     "metadata": {},
     "output_type": "execute_result"
    }
   ],
   "source": [
    "5 in x  # boolean result "
   ]
  },
  {
   "cell_type": "code",
   "execution_count": null,
   "id": "25e87761-a704-4b5b-b4a5-44c76d6b04ec",
   "metadata": {},
   "outputs": [],
   "source": []
  },
  {
   "cell_type": "code",
   "execution_count": 109,
   "id": "16ea93db-b80f-48a7-bb41-cbb6c0f94616",
   "metadata": {},
   "outputs": [],
   "source": [
    "# ..."
   ]
  },
  {
   "cell_type": "markdown",
   "id": "2d8617d2-ac49-4ec5-a18c-c55728bf77b4",
   "metadata": {},
   "source": [
    "### Happy Learning :)"
   ]
  }
 ],
 "metadata": {
  "kernelspec": {
   "display_name": "Python 3 (ipykernel)",
   "language": "python",
   "name": "python3"
  },
  "language_info": {
   "codemirror_mode": {
    "name": "ipython",
    "version": 3
   },
   "file_extension": ".py",
   "mimetype": "text/x-python",
   "name": "python",
   "nbconvert_exporter": "python",
   "pygments_lexer": "ipython3",
   "version": "3.9.7"
  }
 },
 "nbformat": 4,
 "nbformat_minor": 5
}
