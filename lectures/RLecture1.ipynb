{
 "cells": [
  {
   "cell_type": "markdown",
   "id": "bd2986ba-ac5c-48f6-a3d8-81d08b8624bd",
   "metadata": {},
   "source": [
    "## R Programming Fundamentals"
   ]
  },
  {
   "cell_type": "markdown",
   "id": "ccbff9f9-b5d7-4c5c-8c27-965a60132087",
   "metadata": {},
   "source": [
    "R is a programming language for statistical computing and graphics supported by the R Core Team and the R Foundation for Statistical Computing. Created by statisticians Ross Ihaka and Robert Gentleman, R is used among data miners and statisticians for data analysis and developing statistical software. Users have created packages to augment the functions of the R language.\n",
    "\n",
    "According to user surveys and studies of scholarly literature databases, R is one of the most commonly used programming language used in data mining.As of March 2022, R ranks 11th in the TIOBE index, a measure of programming language popularity."
   ]
  },
  {
   "cell_type": "markdown",
   "id": "92dc978e-908b-44c2-9f3d-18c0710f552d",
   "metadata": {},
   "source": [
    "R is a language and environment for statistical computing and graphics. It is a GNU project which is similar to the S language and environment which was developed at Bell Laboratories (formerly AT&T, now Lucent Technologies) by John Chambers and colleagues. R can be considered as a different implementation of S. There are some important differences, but much code written for S runs unaltered under R.\n",
    "\n",
    "R provides a wide variety of statistical (linear and nonlinear modelling, classical statistical tests, time-series analysis, classification, clustering, …) and graphical techniques, and is highly extensible. The S language is often the vehicle of choice for research in statistical methodology, and R provides an Open Source route to participation in that activity."
   ]
  },
  {
   "cell_type": "code",
   "execution_count": 1,
   "id": "37c9acb5-ea8d-4c8a-b241-160c0d9bf824",
   "metadata": {},
   "outputs": [
    {
     "name": "stdout",
     "output_type": "stream",
     "text": [
      "[1] \"Hey R!\"\n"
     ]
    }
   ],
   "source": [
    "print(\"Hey R!\")"
   ]
  },
  {
   "cell_type": "code",
   "execution_count": null,
   "id": "2423c6ea-8e85-45e2-af25-be6dffd71013",
   "metadata": {},
   "outputs": [],
   "source": []
  },
  {
   "cell_type": "markdown",
   "id": "76c2dd8a-79e7-40ba-bc52-c1e8ba014f99",
   "metadata": {},
   "source": [
    "### Happy Learning 🤗"
   ]
  }
 ],
 "metadata": {
  "kernelspec": {
   "display_name": "R",
   "language": "R",
   "name": "ir"
  },
  "language_info": {
   "codemirror_mode": "r",
   "file_extension": ".r",
   "mimetype": "text/x-r-source",
   "name": "R",
   "pygments_lexer": "r",
   "version": "3.6.1"
  }
 },
 "nbformat": 4,
 "nbformat_minor": 5
}
