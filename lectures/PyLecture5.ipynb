{
 "cells": [
  {
   "cell_type": "markdown",
   "id": "98060bf7-ca66-4715-9780-5d98a29b0681",
   "metadata": {},
   "source": [
    "## Python Lists"
   ]
  },
  {
   "cell_type": "code",
   "execution_count": 2,
   "id": "b9bbe9b7-4364-4afc-9c96-d515e101d482",
   "metadata": {},
   "outputs": [],
   "source": [
    "# help(list)"
   ]
  },
  {
   "cell_type": "code",
   "execution_count": 3,
   "id": "21736123-ed1c-4e81-a3a2-bee07ff11e18",
   "metadata": {},
   "outputs": [],
   "source": [
    "# list?"
   ]
  },
  {
   "cell_type": "markdown",
   "id": "47c0d75e-15cc-430e-b8f4-edaa96bdda30",
   "metadata": {},
   "source": [
    "#### Creating a List / Defining a List / Making a List\n"
   ]
  },
  {
   "cell_type": "code",
   "execution_count": 4,
   "id": "f6a48c47-55d8-41b2-be3d-fe79edc9cc14",
   "metadata": {},
   "outputs": [],
   "source": [
    "data_1 = []  # empty list"
   ]
  },
  {
   "cell_type": "code",
   "execution_count": 5,
   "id": "63a51bf5-f514-4a3f-843c-c75c32613a35",
   "metadata": {},
   "outputs": [
    {
     "data": {
      "text/plain": [
       "list"
      ]
     },
     "execution_count": 5,
     "metadata": {},
     "output_type": "execute_result"
    }
   ],
   "source": [
    "type(data_1)"
   ]
  },
  {
   "cell_type": "code",
   "execution_count": 7,
   "id": "c25f3d6c-52ad-41ab-bf1a-d15d201d485d",
   "metadata": {},
   "outputs": [],
   "source": [
    "data_2 = list([])  # empty list"
   ]
  },
  {
   "cell_type": "code",
   "execution_count": 9,
   "id": "d748d6bc-648e-4fea-bf7f-922d4e8e579c",
   "metadata": {},
   "outputs": [],
   "source": [
    "data_3 = [3, 6, 7, True, 23.43, [2, 5, 7], {2, 6, 9}, (2, 6, 8)]  # mix data list"
   ]
  },
  {
   "cell_type": "code",
   "execution_count": 10,
   "id": "cca195f5-e3ef-47ee-99ff-1e56402b182b",
   "metadata": {},
   "outputs": [
    {
     "data": {
      "text/plain": [
       "list"
      ]
     },
     "execution_count": 10,
     "metadata": {},
     "output_type": "execute_result"
    }
   ],
   "source": [
    "type(data_3)"
   ]
  },
  {
   "cell_type": "code",
   "execution_count": 11,
   "id": "6b2a0154-6b09-43f2-b393-c29fe32131be",
   "metadata": {},
   "outputs": [],
   "source": [
    "data_4 = [2, 6, 7, 8]  # integer "
   ]
  },
  {
   "cell_type": "code",
   "execution_count": 12,
   "id": "c3814ee3-ee50-4b19-b931-622454413fbd",
   "metadata": {},
   "outputs": [],
   "source": [
    "data_5 = list([\"xyz\", \"abc\", \"pqr\"])  # string "
   ]
  },
  {
   "cell_type": "code",
   "execution_count": 16,
   "id": "d4f69389-7b0c-46d8-a34b-698d2e347c3f",
   "metadata": {},
   "outputs": [],
   "source": [
    "data_6 = [3, [1, 5, 7], [1, 5, 7], [1, 6, 8]]  # Matrix 3 x 3  # 2D list "
   ]
  },
  {
   "cell_type": "code",
   "execution_count": 17,
   "id": "f426e5fe-18e0-426d-b9c8-608dfe51792f",
   "metadata": {},
   "outputs": [
    {
     "data": {
      "text/plain": [
       "[3, [1, 5, 7], [1, 5, 7], [1, 6, 8]]"
      ]
     },
     "execution_count": 17,
     "metadata": {},
     "output_type": "execute_result"
    }
   ],
   "source": [
    "data_6"
   ]
  },
  {
   "cell_type": "code",
   "execution_count": null,
   "id": "71c58e07-d237-443a-bff6-a8a8833e21fd",
   "metadata": {},
   "outputs": [],
   "source": []
  },
  {
   "cell_type": "markdown",
   "id": "0efaf2ad-8d5e-471a-a041-8663f7bf60c0",
   "metadata": {
    "tags": []
   },
   "source": [
    "#### Adding / Appending Elements to a List\n"
   ]
  },
  {
   "cell_type": "code",
   "execution_count": 18,
   "id": "03829541-38e1-40a7-a1a1-8e27f0e33c3f",
   "metadata": {},
   "outputs": [],
   "source": [
    "data_7 = []"
   ]
  },
  {
   "cell_type": "code",
   "execution_count": 19,
   "id": "a252e8ab-4419-4163-ac51-b2ca841af4d8",
   "metadata": {},
   "outputs": [],
   "source": [
    "data_7.append(3)\n",
    "data_7.append(3.5)\n",
    "data_7.append(True)\n",
    "data_7.append(\"xyz\")"
   ]
  },
  {
   "cell_type": "code",
   "execution_count": 20,
   "id": "7b064542-2374-4ec4-978d-eb61c43f5368",
   "metadata": {},
   "outputs": [
    {
     "data": {
      "text/plain": [
       "[3, 3.5, True, 'xyz']"
      ]
     },
     "execution_count": 20,
     "metadata": {},
     "output_type": "execute_result"
    }
   ],
   "source": [
    "data_7"
   ]
  },
  {
   "cell_type": "code",
   "execution_count": 21,
   "id": "90c02bc0-adba-4761-bc4e-652d2777976a",
   "metadata": {},
   "outputs": [],
   "source": [
    "data_8 = [3, [1, 5, 7], [1, 5, 7], [1, 6, 8]]"
   ]
  },
  {
   "cell_type": "code",
   "execution_count": 24,
   "id": "7976324e-28e5-4542-af2f-4bf43617116e",
   "metadata": {},
   "outputs": [],
   "source": [
    "data_8[2].append(\"xyz\")"
   ]
  },
  {
   "cell_type": "code",
   "execution_count": 25,
   "id": "c6e35578-e13d-4c2f-b31e-af710b69df4a",
   "metadata": {},
   "outputs": [
    {
     "data": {
      "text/plain": [
       "[3, [1, 5, 7], [1, 5, 7, 'xyz'], [1, 6, 8]]"
      ]
     },
     "execution_count": 25,
     "metadata": {},
     "output_type": "execute_result"
    }
   ],
   "source": [
    "data_8"
   ]
  },
  {
   "cell_type": "code",
   "execution_count": null,
   "id": "2fae4e74-4712-44b4-bac0-8f003b7ceaf3",
   "metadata": {},
   "outputs": [],
   "source": []
  },
  {
   "cell_type": "markdown",
   "id": "b3f5f55e-07d9-431a-95e9-92089bc38642",
   "metadata": {},
   "source": [
    "#### Accessing / Getting Elements from the List\n"
   ]
  },
  {
   "cell_type": "code",
   "execution_count": 33,
   "id": "ae61682a-2843-47b0-831f-43e659f0c791",
   "metadata": {},
   "outputs": [],
   "source": [
    "data_9 = [3, 7, 8, 1, 4, 0]"
   ]
  },
  {
   "cell_type": "code",
   "execution_count": 34,
   "id": "a05c80b2-b2ef-45fc-9002-8a775d118522",
   "metadata": {},
   "outputs": [
    {
     "data": {
      "text/plain": [
       "[1, 4, 0]"
      ]
     },
     "execution_count": 34,
     "metadata": {},
     "output_type": "execute_result"
    }
   ],
   "source": [
    "data_9[-3:]"
   ]
  },
  {
   "cell_type": "code",
   "execution_count": 35,
   "id": "bb6703ec-8081-4823-af54-fc6eafa7701e",
   "metadata": {},
   "outputs": [],
   "source": [
    "data_10 = [3, [1, 5, 7], [1, 5, 7], [1, 6, 8]]"
   ]
  },
  {
   "cell_type": "code",
   "execution_count": 37,
   "id": "a8e0344d-d22b-4579-9c13-aa4a6a92bc48",
   "metadata": {},
   "outputs": [
    {
     "data": {
      "text/plain": [
       "[1, 6]"
      ]
     },
     "execution_count": 37,
     "metadata": {},
     "output_type": "execute_result"
    }
   ],
   "source": [
    "data_10[-1][:2]"
   ]
  },
  {
   "cell_type": "code",
   "execution_count": null,
   "id": "43e6733e-6dda-466d-b0a1-e4b91ce52446",
   "metadata": {},
   "outputs": [],
   "source": []
  },
  {
   "cell_type": "markdown",
   "id": "550ea6bf-17b9-4adb-b7e2-5362180cbfab",
   "metadata": {},
   "source": [
    "#### Copying List Elements\n"
   ]
  },
  {
   "cell_type": "code",
   "execution_count": 43,
   "id": "5b0eb534-a9bf-479c-8a7f-8cee012b70ad",
   "metadata": {},
   "outputs": [],
   "source": [
    "x = [2, 6, 8, 1]"
   ]
  },
  {
   "cell_type": "code",
   "execution_count": 48,
   "id": "70a48602-8bb9-48bc-9f25-7882bd585fa4",
   "metadata": {},
   "outputs": [],
   "source": [
    "y = x.copy()"
   ]
  },
  {
   "cell_type": "code",
   "execution_count": 45,
   "id": "35f5da11-d38b-4c15-af7f-df7f57d05a21",
   "metadata": {},
   "outputs": [],
   "source": [
    "y[-1] = 10"
   ]
  },
  {
   "cell_type": "code",
   "execution_count": 46,
   "id": "35eb05eb-5f13-4dea-93dc-d4e50f4ea74e",
   "metadata": {},
   "outputs": [
    {
     "data": {
      "text/plain": [
       "[2, 6, 8, 10]"
      ]
     },
     "execution_count": 46,
     "metadata": {},
     "output_type": "execute_result"
    }
   ],
   "source": [
    "y"
   ]
  },
  {
   "cell_type": "code",
   "execution_count": 47,
   "id": "1bbe4d0d-fc8a-47b8-83af-a5084ed62232",
   "metadata": {},
   "outputs": [
    {
     "data": {
      "text/plain": [
       "[2, 6, 8, 1]"
      ]
     },
     "execution_count": 47,
     "metadata": {},
     "output_type": "execute_result"
    }
   ],
   "source": [
    "x"
   ]
  },
  {
   "cell_type": "code",
   "execution_count": 51,
   "id": "df2697c7-89c4-4589-a177-aaf84bdc70a1",
   "metadata": {},
   "outputs": [],
   "source": [
    "# import copy"
   ]
  },
  {
   "cell_type": "code",
   "execution_count": null,
   "id": "449dc781-e46a-42fa-b3c5-c701076d98ab",
   "metadata": {},
   "outputs": [],
   "source": []
  },
  {
   "cell_type": "markdown",
   "id": "d8b6806f-d87c-436d-a8bc-95dced9bf78c",
   "metadata": {},
   "source": [
    "#### Replacing / Modifying / Updating List Elements\n"
   ]
  },
  {
   "cell_type": "code",
   "execution_count": 52,
   "id": "3a78c416-70d7-4b5a-80ee-ce1216bd7c72",
   "metadata": {},
   "outputs": [],
   "source": [
    "x = [2, 6, 7, 8, 10]"
   ]
  },
  {
   "cell_type": "code",
   "execution_count": 53,
   "id": "7f5e887a-227b-4b56-b87d-3acaafc5d28d",
   "metadata": {},
   "outputs": [],
   "source": [
    "x[-1] = \"Umar\""
   ]
  },
  {
   "cell_type": "code",
   "execution_count": 54,
   "id": "5ae6dddd-2787-421b-b4bc-fd091ac14957",
   "metadata": {},
   "outputs": [
    {
     "data": {
      "text/plain": [
       "[2, 6, 7, 8, 'Umar']"
      ]
     },
     "execution_count": 54,
     "metadata": {},
     "output_type": "execute_result"
    }
   ],
   "source": [
    "x"
   ]
  },
  {
   "cell_type": "code",
   "execution_count": 56,
   "id": "6d4f7122-cb70-4635-b631-fe4e98b8ee3f",
   "metadata": {},
   "outputs": [],
   "source": [
    "x[-3:] = (0, 0, 0)"
   ]
  },
  {
   "cell_type": "code",
   "execution_count": 57,
   "id": "d2afffd4-cab5-442b-ad6d-c31817c04334",
   "metadata": {},
   "outputs": [
    {
     "data": {
      "text/plain": [
       "[2, 6, 0, 0, 0]"
      ]
     },
     "execution_count": 57,
     "metadata": {},
     "output_type": "execute_result"
    }
   ],
   "source": [
    "x"
   ]
  },
  {
   "cell_type": "code",
   "execution_count": null,
   "id": "546ca013-0478-4964-a254-7e710aec04d1",
   "metadata": {},
   "outputs": [],
   "source": []
  },
  {
   "cell_type": "markdown",
   "id": "3bc1c0e9-f7ab-4aac-b68c-2e8d7835c989",
   "metadata": {},
   "source": [
    "### Happy Learning :)"
   ]
  }
 ],
 "metadata": {
  "kernelspec": {
   "display_name": "Python 3 (ipykernel)",
   "language": "python",
   "name": "python3"
  },
  "language_info": {
   "codemirror_mode": {
    "name": "ipython",
    "version": 3
   },
   "file_extension": ".py",
   "mimetype": "text/x-python",
   "name": "python",
   "nbconvert_exporter": "python",
   "pygments_lexer": "ipython3",
   "version": "3.9.7"
  }
 },
 "nbformat": 4,
 "nbformat_minor": 5
}
