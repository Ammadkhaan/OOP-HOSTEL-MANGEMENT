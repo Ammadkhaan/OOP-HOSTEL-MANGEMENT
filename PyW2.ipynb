{
 "cells": [
  {
   "cell_type": "markdown",
   "metadata": {},
   "source": [
    "## dictonary"
   ]
  },
  {
   "cell_type": "code",
   "execution_count": 4,
   "metadata": {},
   "outputs": [],
   "source": [
    "prodextension ct_info={\"id\":5,\"name\":\"laptop\",\"key\":986748}"
   ]
  },
  {
   "cell_type": "markdown",
   "metadata": {},
   "source": [
    "## compund statment"
   ]
  },
  {
   "cell_type": "code",
   "execution_count": 10,
   "metadata": {},
   "outputs": [
    {
     "name": "stdout",
     "output_type": "stream",
     "text": [
      "pass\n"
     ]
    }
   ],
   "source": [
    "marks=78\n",
    "resextension lt= \"pass\" if marks>39 and marks<101 else \"fail\" if marks>-1 and marks<40 else \"invalid\"\n",
    "print(resextension lt)"
   ]
  },
  {
   "cell_type": "markdown",
   "metadata": {},
   "source": [
    "### while"
   ]
  },
  {
   "cell_type": "code",
   "execution_count": 13,
   "metadata": {},
   "outputs": [
    {
     "name": "stdout",
     "output_type": "stream",
     "text": [
      "Ahmad\n",
      "Qasim\n",
      "Abdullah\n"
     ]
    }
   ],
   "source": [
    "extension ser=[\"extension m\",\"ahmad\",\"qasim\",\"abdullah\"]\n",
    "x=0\n",
    "while x<len(user):\n",
    "    if len(user[x])>2:\n",
    "        print(user[x].title())\n",
    "    x+=1        \n"
   ]
  },
  {
   "cell_type": "code",
   "execution_count": 33,
   "metadata": {},
   "outputs": [
    {
     "name": "stdout",
     "output_type": "stream",
     "text": [
      "Qasab\n",
      "Abdullab\n"
     ]
    }
   ],
   "source": [
    "user=[\"um\",\"ahmad\",\"qasab\",\"abdullab\"]\n",
    "x=0\n",
    "while x<len(user):\n",
    "    if user[x].endswith(\"ab\"):\n",
    "        print(user[x].title())\n",
    "    x+=1\n",
    "\n",
    "    "
   ]
  },
  {
   "cell_type": "code",
   "execution_count": 82,
   "metadata": {},
   "outputs": [],
   "source": [
    "username=\"\"\n",
    "domain=\"\"\n",
    "extension=\"\"\n",
    "x=\"ammad@apple.com\"\n",
    "i=0\n",
    "while i<x.index(\"@\"):\n",
    "    username=username+x[i]     \n",
    "        \n",
    "    i+=1\n",
    "i+=1\n",
    "while i<len(x):\n",
    "    domain=domain+x[i]     \n",
    "    if x[i]==\".\":\n",
    "        y=i+1    \n",
    "    i+=1\n",
    "\n",
    "while y<len(x):\n",
    "    extension =extension +x[y]     \n",
    "        \n",
    "    y+=1"
   ]
  },
  {
   "cell_type": "code",
   "execution_count": 83,
   "metadata": {},
   "outputs": [
    {
     "data": {
      "text/plain": [
       "'ammad'"
      ]
     },
     "execution_count": 83,
     "metadata": {},
     "output_type": "execute_result"
    }
   ],
   "source": [
    "username"
   ]
  },
  {
   "cell_type": "code",
   "execution_count": 84,
   "metadata": {},
   "outputs": [
    {
     "data": {
      "text/plain": [
       "'apple.com'"
      ]
     },
     "execution_count": 84,
     "metadata": {},
     "output_type": "execute_result"
    }
   ],
   "source": [
    "domain"
   ]
  },
  {
   "cell_type": "code",
   "execution_count": 85,
   "metadata": {},
   "outputs": [
    {
     "data": {
      "text/plain": [
       "'com'"
      ]
     },
     "execution_count": 85,
     "metadata": {},
     "output_type": "execute_result"
    }
   ],
   "source": [
    "extension "
   ]
  },
  {
   "cell_type": "code",
   "execution_count": 88,
   "metadata": {},
   "outputs": [],
   "source": [
    "user=[]\n",
    "\n",
    "i=0\n",
    "while i<5:\n",
    "    x=input(\"enter name:\")\n",
    "    user.append(x)\n",
    "    i+=1\n"
   ]
  },
  {
   "cell_type": "code",
   "execution_count": 89,
   "metadata": {},
   "outputs": [
    {
     "data": {
      "text/plain": [
       "['ammad', 'ali', 'ahmed', 'akhtar', 'asgar']"
      ]
     },
     "execution_count": 89,
     "metadata": {},
     "output_type": "execute_result"
    }
   ],
   "source": [
    "user"
   ]
  },
  {
   "cell_type": "code",
   "execution_count": 1,
   "metadata": {},
   "outputs": [],
   "source": [
    "user={\"a\":10,\"b\":20}"
   ]
  },
  {
   "cell_type": "code",
   "execution_count": 9,
   "metadata": {},
   "outputs": [
    {
     "name": "stdout",
     "output_type": "stream",
     "text": [
      "a\n",
      "b\n"
     ]
    }
   ],
   "source": [
    "for data in user:\n",
    "    print(data)"
   ]
  },
  {
   "cell_type": "code",
   "execution_count": null,
   "metadata": {},
   "outputs": [],
   "source": []
  }
 ],
 "metadata": {
  "interpreter": {
   "hash": "aa3b17c5bcbac93dc37329ca1291726c22c083c23d4a5b5063e852deca1402fd"
  },
  "kernelspec": {
   "display_name": "Python 3.10.2 64-bit",
   "language": "python",
   "name": "python3"
  },
  "language_info": {
   "codemirror_mode": {
    "name": "ipython",
    "version": 3
   },
   "file_extension": ".py",
   "mimetype": "text/x-python",
   "name": "python",
   "nbconvert_exporter": "python",
   "pygments_lexer": "ipython3",
   "version": "3.10.2"
  },
  "orig_nbformat": 4
 },
 "nbformat": 4,
 "nbformat_minor": 2
}
