{
 "cells": [
  {
   "cell_type": "markdown",
   "metadata": {},
   "source": [
    "## dictonary"
   ]
  },
  {
   "cell_type": "code",
   "execution_count": 4,
   "metadata": {},
   "outputs": [],
   "source": [
    "product_info={\"id\":5,\"name\":\"laptop\",\"key\":986748}"
   ]
  },
  {
   "cell_type": "markdown",
   "metadata": {},
   "source": [
    "## compund statment"
   ]
  },
  {
   "cell_type": "code",
   "execution_count": 10,
   "metadata": {},
   "outputs": [
    {
     "name": "stdout",
     "output_type": "stream",
     "text": [
      "pass\n"
     ]
    }
   ],
   "source": [
    "marks=78\n",
    "result= \"pass\" if marks>39 and marks<101 else \"fail\" if marks>-1 and marks<40 else \"invalid\"\n",
    "print(result)"
   ]
  },
  {
   "cell_type": "markdown",
   "metadata": {},
   "source": [
    "### while"
   ]
  },
  {
   "cell_type": "code",
   "execution_count": 13,
   "metadata": {},
   "outputs": [
    {
     "name": "stdout",
     "output_type": "stream",
     "text": [
      "Ahmad\n",
      "Qasim\n",
      "Abdullah\n"
     ]
    }
   ],
   "source": [
    "user=[\"um\",\"ahmad\",\"qasim\",\"abdullah\"]\n",
    "x=0\n",
    "while x<len(user):\n",
    "    if len(user[x])>2:\n",
    "        print(user[x].title())\n",
    "    x+=1        \n"
   ]
  },
  {
   "cell_type": "code",
   "execution_count": null,
   "metadata": {},
   "outputs": [],
   "source": []
  }
 ],
 "metadata": {
  "interpreter": {
   "hash": "aa3b17c5bcbac93dc37329ca1291726c22c083c23d4a5b5063e852deca1402fd"
  },
  "kernelspec": {
   "display_name": "Python 3.10.2 64-bit",
   "language": "python",
   "name": "python3"
  },
  "language_info": {
   "codemirror_mode": {
    "name": "ipython",
    "version": 3
   },
   "file_extension": ".py",
   "mimetype": "text/x-python",
   "name": "python",
   "nbconvert_exporter": "python",
   "pygments_lexer": "ipython3",
   "version": "3.10.2"
  },
  "orig_nbformat": 4
 },
 "nbformat": 4,
 "nbformat_minor": 2
}
