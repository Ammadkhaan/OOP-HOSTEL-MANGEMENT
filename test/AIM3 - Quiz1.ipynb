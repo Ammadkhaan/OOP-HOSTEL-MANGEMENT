{
 "cells": [
  {
   "cell_type": "markdown",
   "metadata": {},
   "source": [
    "### Programming Fundamentals - Quiz 1"
   ]
  },
  {
   "cell_type": "code",
   "execution_count": null,
   "metadata": {},
   "outputs": [],
   "source": []
  },
  {
   "cell_type": "markdown",
   "metadata": {},
   "source": [
    "#### Python String Practice Exercises"
   ]
  },
  {
   "cell_type": "markdown",
   "metadata": {},
   "source": [
    "Target String - <code><b>Python 3.x Programming for Data Science & ML.</b></code>"
   ]
  },
  {
   "cell_type": "markdown",
   "metadata": {},
   "source": [
    "<u>Exercise 1:</u>"
   ]
  },
  {
   "cell_type": "markdown",
   "metadata": {},
   "source": [
    "Write a program that displays \"Python 3.x Programming for Data Science & ML.\" stored in a string variable name."
   ]
  },
  {
   "cell_type": "code",
   "execution_count": 123,
   "metadata": {},
   "outputs": [
    {
     "name": "stdout",
     "output_type": "stream",
     "text": [
      "Python 3.x Programming for Data Science & ML.\n"
     ]
    }
   ],
   "source": [
    "name=\"Python 3.x Programming for Data Science & ML.\"\n",
    "print(name)"
   ]
  },
  {
   "cell_type": "code",
   "execution_count": null,
   "metadata": {},
   "outputs": [],
   "source": []
  },
  {
   "cell_type": "markdown",
   "metadata": {},
   "source": [
    "<u>Exercise 2:</u>"
   ]
  },
  {
   "cell_type": "markdown",
   "metadata": {},
   "source": [
    "Write a program that displays \"Python 3.x Programming for Data Science\" stored in a existing string variable name."
   ]
  },
  {
   "cell_type": "code",
   "execution_count": 124,
   "metadata": {},
   "outputs": [
    {
     "name": "stdout",
     "output_type": "stream",
     "text": [
      "Python 3.x Programming for Data Science\n"
     ]
    }
   ],
   "source": [
    "name=\"Python 3.x Programming for Data Science\"\n",
    "print(name)"
   ]
  },
  {
   "cell_type": "code",
   "execution_count": null,
   "metadata": {},
   "outputs": [],
   "source": []
  },
  {
   "cell_type": "markdown",
   "metadata": {},
   "source": [
    "<u>Exercise 3:</u>"
   ]
  },
  {
   "cell_type": "markdown",
   "metadata": {},
   "source": [
    "Write a program that displays the type of a existing string variable name."
   ]
  },
  {
   "cell_type": "code",
   "execution_count": 125,
   "metadata": {},
   "outputs": [
    {
     "data": {
      "text/plain": [
       "str"
      ]
     },
     "execution_count": 125,
     "metadata": {},
     "output_type": "execute_result"
    }
   ],
   "source": [
    "type(name)"
   ]
  },
  {
   "cell_type": "markdown",
   "metadata": {},
   "source": [
    "<u>Exercise 4:</u>"
   ]
  },
  {
   "cell_type": "markdown",
   "metadata": {},
   "source": [
    "Write a program to calculate the length of a existing string variable name. "
   ]
  },
  {
   "cell_type": "code",
   "execution_count": 126,
   "metadata": {},
   "outputs": [
    {
     "data": {
      "text/plain": [
       "39"
      ]
     },
     "execution_count": 126,
     "metadata": {},
     "output_type": "execute_result"
    }
   ],
   "source": [
    "len(name)"
   ]
  },
  {
   "cell_type": "markdown",
   "metadata": {},
   "source": [
    "<u>Exercise 5:</u>"
   ]
  },
  {
   "cell_type": "markdown",
   "metadata": {},
   "source": [
    "Target String - Python 3.x Programming for Data Science & ML.\n",
    "\n",
    "Expected Result - Python"
   ]
  },
  {
   "cell_type": "code",
   "execution_count": 127,
   "metadata": {},
   "outputs": [
    {
     "name": "stdout",
     "output_type": "stream",
     "text": [
      "Python\n"
     ]
    }
   ],
   "source": [
    "str=\"Python 3.x Programming for Data Science & ML.\"\n",
    "print(str.split()[0])"
   ]
  },
  {
   "cell_type": "code",
   "execution_count": null,
   "metadata": {},
   "outputs": [],
   "source": []
  },
  {
   "cell_type": "markdown",
   "metadata": {},
   "source": [
    "<u>Exercise 6:</u>"
   ]
  },
  {
   "cell_type": "markdown",
   "metadata": {},
   "source": [
    "Target String - Python 3.x Programming for Data Science & ML.\n",
    "\n",
    "Expected Result - Programming for Data Science & ML."
   ]
  },
  {
   "cell_type": "code",
   "execution_count": 128,
   "metadata": {},
   "outputs": [
    {
     "name": "stdout",
     "output_type": "stream",
     "text": [
      "Programming for Data Science & ML.\n"
     ]
    }
   ],
   "source": [
    "String = \"Python 3.x Programming for Data Science & ML.\"\n",
    "print(String[String.find(\"Programming\"):])"
   ]
  },
  {
   "cell_type": "code",
   "execution_count": null,
   "metadata": {},
   "outputs": [],
   "source": []
  },
  {
   "cell_type": "markdown",
   "metadata": {},
   "source": [
    "<u>Exercise 7:</u>"
   ]
  },
  {
   "cell_type": "markdown",
   "metadata": {},
   "source": [
    "Target String - Python 3.x Programming for Data Science & ML.\n",
    "\n",
    "Expected Result - Python 3.x Programming for Data Science"
   ]
  },
  {
   "cell_type": "code",
   "execution_count": 129,
   "metadata": {},
   "outputs": [
    {
     "name": "stdout",
     "output_type": "stream",
     "text": [
      "Python 3.x Programming for Data Science \n"
     ]
    }
   ],
   "source": [
    "String = \"Python 3.x Programming for Data Science & ML.\"\n",
    "print(String[:String.find(\"&\")])"
   ]
  },
  {
   "cell_type": "code",
   "execution_count": null,
   "metadata": {},
   "outputs": [],
   "source": []
  },
  {
   "cell_type": "markdown",
   "metadata": {},
   "source": [
    "<u>Exercise 8:</u>\n",
    "\n",
    "Target String - Python 3.x Programming for Data Science & ML.\n",
    "\n",
    "Expected Result - ML"
   ]
  },
  {
   "cell_type": "code",
   "execution_count": 130,
   "metadata": {},
   "outputs": [
    {
     "name": "stdout",
     "output_type": "stream",
     "text": [
      " ML.\n"
     ]
    }
   ],
   "source": [
    "String =\"Python 3.x Programming for Data Science & ML.\"\n",
    "print(String[String.find(\"&\")+1:])"
   ]
  },
  {
   "cell_type": "code",
   "execution_count": null,
   "metadata": {},
   "outputs": [],
   "source": []
  },
  {
   "cell_type": "markdown",
   "metadata": {},
   "source": [
    "<u>Exercise 9:</u>\n",
    "\n",
    "Target String - Python 3.x Programming for Data Science & ML.\n",
    "\n",
    "Expected Result - .LM & ecneicS ataD rof gnimmargorP x.3 nohtyP"
   ]
  },
  {
   "cell_type": "code",
   "execution_count": 131,
   "metadata": {},
   "outputs": [
    {
     "name": "stdout",
     "output_type": "stream",
     "text": [
      ".LM & ecneicS ataD rof gnimmargorP x.3 nohtyP\n"
     ]
    }
   ],
   "source": [
    "String = \"Python 3.x Programming for Data Science & ML.\"\n",
    "print(String[::-1])"
   ]
  },
  {
   "cell_type": "code",
   "execution_count": null,
   "metadata": {},
   "outputs": [],
   "source": []
  },
  {
   "cell_type": "markdown",
   "metadata": {},
   "source": [
    "<u>Exercise 10:</u>\n",
    "\n",
    "Target String - Python 3.x Programming for Data Science & ML.\n",
    "\n",
    "Expected Result - python 3.x programming for data science & ml."
   ]
  },
  {
   "cell_type": "code",
   "execution_count": 132,
   "metadata": {},
   "outputs": [
    {
     "name": "stdout",
     "output_type": "stream",
     "text": [
      "python 3.x programming for data science & ml.\n"
     ]
    }
   ],
   "source": [
    "print(String.lower())"
   ]
  },
  {
   "cell_type": "code",
   "execution_count": null,
   "metadata": {},
   "outputs": [],
   "source": []
  },
  {
   "cell_type": "markdown",
   "metadata": {},
   "source": [
    "<u>Exercise 11:</u>\n",
    "\n",
    "Target String - Python 3.x Programming for Data Science & ML.\n",
    "\n",
    "Expected Result - PYTHON 3.X PROGRAMMING FOR DATA SCIENCE & ML."
   ]
  },
  {
   "cell_type": "code",
   "execution_count": 133,
   "metadata": {},
   "outputs": [
    {
     "name": "stdout",
     "output_type": "stream",
     "text": [
      "PYTHON 3.X PROGRAMMING FOR DATA SCIENCE & ML.\n"
     ]
    }
   ],
   "source": [
    "print(String.upper())"
   ]
  },
  {
   "cell_type": "code",
   "execution_count": null,
   "metadata": {},
   "outputs": [],
   "source": []
  },
  {
   "cell_type": "markdown",
   "metadata": {},
   "source": [
    "<u>Exercise 12:</u>\n",
    "\n",
    "Target String - Python 3.x Programming for Data Science & ML.\n",
    "\n",
    "Expected Result - Python 3.x programming for data science & ml."
   ]
  },
  {
   "cell_type": "code",
   "execution_count": 134,
   "metadata": {},
   "outputs": [
    {
     "name": "stdout",
     "output_type": "stream",
     "text": [
      "Python 3.x programming for data science & ml.\n"
     ]
    }
   ],
   "source": [
    "print(String.capitalize())"
   ]
  },
  {
   "cell_type": "code",
   "execution_count": null,
   "metadata": {},
   "outputs": [],
   "source": []
  },
  {
   "cell_type": "markdown",
   "metadata": {},
   "source": [
    "<u>Exercise 13:</u>\n",
    "\n",
    "Target String - Python 3.x Programming for Data Science & ML.\n",
    "\n",
    "Expected Result - Python 3.X Programming For Data Science & Ml."
   ]
  },
  {
   "cell_type": "code",
   "execution_count": 135,
   "metadata": {},
   "outputs": [
    {
     "name": "stdout",
     "output_type": "stream",
     "text": [
      "Python 3.X Programming for Data Science & ML.\n"
     ]
    }
   ],
   "source": [
    "String = \"Python 3.x Programming for Data Science & ML.\"\n",
    "print(String.replace(\"x\",\"X\"))\n",
    "\n",
    "\n"
   ]
  },
  {
   "cell_type": "code",
   "execution_count": null,
   "metadata": {},
   "outputs": [],
   "source": []
  },
  {
   "cell_type": "markdown",
   "metadata": {},
   "source": [
    "<u>Exercise 14:</u>\n",
    "\n",
    "Target String - Python 3.x Programming for Data Science & ML.\n",
    "\n",
    "Count Total P"
   ]
  },
  {
   "cell_type": "code",
   "execution_count": 136,
   "metadata": {},
   "outputs": [
    {
     "data": {
      "text/plain": [
       "2"
      ]
     },
     "execution_count": 136,
     "metadata": {},
     "output_type": "execute_result"
    }
   ],
   "source": [
    "String = \"Python 3.x Programming for Data Science & ML.\"\n",
    "a=String.count(\"P\")\n",
    "a"
   ]
  },
  {
   "cell_type": "code",
   "execution_count": null,
   "metadata": {},
   "outputs": [],
   "source": []
  },
  {
   "cell_type": "markdown",
   "metadata": {},
   "source": [
    "<u>Exercise 15:</u>\n",
    "\n",
    "Target String - Python 3.x Programming for Data Science & ML.\n",
    "\n",
    "Change Data Science with AI"
   ]
  },
  {
   "cell_type": "code",
   "execution_count": 137,
   "metadata": {},
   "outputs": [
    {
     "name": "stdout",
     "output_type": "stream",
     "text": [
      "Python 3.x Programming for AI & ML.\n"
     ]
    }
   ],
   "source": [
    "String = \"Python 3.x Programming for Data Science & ML.\"\n",
    "print(String.replace(\"Data Science\",\"AI\"))"
   ]
  },
  {
   "cell_type": "code",
   "execution_count": null,
   "metadata": {},
   "outputs": [],
   "source": []
  },
  {
   "cell_type": "markdown",
   "metadata": {},
   "source": [
    "<u>Exercise 16:</u>\n",
    "\n",
    "Target String - Python 3.x Programming for Data Science & ML.   \n",
    "\n",
    "Expected Result - ['Python', '3.x', 'Programming', 'for', 'Data', 'Science', '&', 'ML.']"
   ]
  },
  {
   "cell_type": "code",
   "execution_count": 138,
   "metadata": {},
   "outputs": [
    {
     "name": "stdout",
     "output_type": "stream",
     "text": [
      "['Python', '3.x', 'Programming', 'for', 'Data', 'Science', '&', 'ML.']\n"
     ]
    }
   ],
   "source": [
    "String = \"Python 3.x Programming for Data Science & ML.\"\n",
    "print(String.split())"
   ]
  },
  {
   "cell_type": "code",
   "execution_count": null,
   "metadata": {},
   "outputs": [],
   "source": []
  },
  {
   "cell_type": "markdown",
   "metadata": {},
   "source": [
    "<u>Exercise 17:</u>\n",
    "\n",
    "Target String - Python 3.x Programming for Data Science & ML.   \n",
    "\n",
    "Expected Result - Python_3.x_Programming_for_Data_Science_&_ML.   "
   ]
  },
  {
   "cell_type": "code",
   "execution_count": 139,
   "metadata": {},
   "outputs": [
    {
     "name": "stdout",
     "output_type": "stream",
     "text": [
      "Python_3.x_Programming_for_Data_Science_&_ML.\n"
     ]
    }
   ],
   "source": [
    "print(String.replace(\" \",\"_\"))"
   ]
  },
  {
   "cell_type": "code",
   "execution_count": null,
   "metadata": {},
   "outputs": [],
   "source": []
  },
  {
   "cell_type": "markdown",
   "metadata": {},
   "source": [
    "<u>Exercise 18:</u>\n",
    "\n",
    "Target String - Python 3.x Programming for Data Science & ML.\n",
    "\n",
    "Find Position of ML"
   ]
  },
  {
   "cell_type": "code",
   "execution_count": 140,
   "metadata": {},
   "outputs": [
    {
     "data": {
      "text/plain": [
       "42"
      ]
     },
     "execution_count": 140,
     "metadata": {},
     "output_type": "execute_result"
    }
   ],
   "source": [
    "String.find(\"ML\")"
   ]
  },
  {
   "cell_type": "code",
   "execution_count": null,
   "metadata": {},
   "outputs": [],
   "source": []
  },
  {
   "cell_type": "markdown",
   "metadata": {},
   "source": [
    "<u>Exercise 19:</u>\n",
    "\n",
    "Target String - Python 3.x Programming for Data Science & ML.\n",
    "\n",
    "Expected Result - Python3.XProgrammingForDataScience&Ml."
   ]
  },
  {
   "cell_type": "code",
   "execution_count": 141,
   "metadata": {},
   "outputs": [
    {
     "name": "stdout",
     "output_type": "stream",
     "text": [
      "Python3.XProgrammingForDataScience&Ml.\n"
     ]
    }
   ],
   "source": [
    "print(String.title().replace(\" \",\"\"))"
   ]
  },
  {
   "cell_type": "code",
   "execution_count": null,
   "metadata": {},
   "outputs": [],
   "source": []
  },
  {
   "cell_type": "markdown",
   "metadata": {},
   "source": [
    "<u>Exercise 20:</u>\n",
    "\n",
    "Target String - Python 3.x Programming for Data Science & ML.\n",
    "\n",
    "Check ML existing in target string"
   ]
  },
  {
   "cell_type": "code",
   "execution_count": 142,
   "metadata": {},
   "outputs": [
    {
     "data": {
      "text/plain": [
       "True"
      ]
     },
     "execution_count": 142,
     "metadata": {},
     "output_type": "execute_result"
    }
   ],
   "source": [
    "\"ML\" in String"
   ]
  },
  {
   "cell_type": "code",
   "execution_count": null,
   "metadata": {},
   "outputs": [],
   "source": []
  },
  {
   "cell_type": "markdown",
   "metadata": {},
   "source": [
    "<u>Exercise 21:</u>\n",
    "\n",
    "Display Python five times"
   ]
  },
  {
   "cell_type": "code",
   "execution_count": 143,
   "metadata": {},
   "outputs": [
    {
     "name": "stdout",
     "output_type": "stream",
     "text": [
      "Python Python Python Python Python \n"
     ]
    }
   ],
   "source": [
    "a=\"Python \"\n",
    "print(a*5)"
   ]
  },
  {
   "cell_type": "markdown",
   "metadata": {},
   "source": [
    "<u>Exercise 22:</u>\n",
    "\n",
    "Target String - 33103-0000000-1\n",
    "\n",
    "Expected Result - ['33103', '0000000', '1']"
   ]
  },
  {
   "cell_type": "code",
   "execution_count": 144,
   "metadata": {},
   "outputs": [
    {
     "data": {
      "text/plain": [
       "['33103', '0000000', '1']"
      ]
     },
     "execution_count": 144,
     "metadata": {},
     "output_type": "execute_result"
    }
   ],
   "source": [
    "String = \"33103-0000000-1\"\n",
    "String.split(\"-\")"
   ]
  },
  {
   "cell_type": "code",
   "execution_count": null,
   "metadata": {},
   "outputs": [],
   "source": []
  },
  {
   "cell_type": "markdown",
   "metadata": {},
   "source": [
    "<u>Exercise 23:</u>\n",
    "\n",
    "Target - \n",
    "\n",
    "Name: Ahmad\n",
    "\n",
    "Course: AI/AP\n",
    "\n",
    "Learning Speed: 95%\n",
    "\n",
    "Expected Result - My Info - Name : Ahamd, Course : AP/AP, Learning Speed : 95%"
   ]
  },
  {
   "cell_type": "code",
   "execution_count": 145,
   "metadata": {},
   "outputs": [
    {
     "name": "stdout",
     "output_type": "stream",
     "text": [
      "My Info - Name : Ahmad, Course : AI/AP, Learning Speed : 95%\n"
     ]
    }
   ],
   "source": [
    "Name= \"Ahmad\"\n",
    "\n",
    "Course= \"AI/AP\"\n",
    "\n",
    "Learning_Speed=\"95%\"\n",
    "data=\"My Info - Name : {}, Course : {}, Learning Speed : {}\".format(Name,Course,Learning_Speed)\n",
    "print(data)\n"
   ]
  },
  {
   "cell_type": "code",
   "execution_count": null,
   "metadata": {},
   "outputs": [],
   "source": []
  },
  {
   "cell_type": "markdown",
   "metadata": {},
   "source": [
    "<u>Exercise 24:</u>\n",
    "    \n",
    "Target String - Python 3.x Programming for Data Science & ML.\n",
    "\n",
    "Expected Result - \n",
    "\n",
    "Python\n",
    "\n",
    "3.x\n",
    "\n",
    "Programming\n",
    "\n",
    "for \n",
    "\n",
    "Data Science \n",
    "\n",
    "& \n",
    "\n",
    "ML"
   ]
  },
  {
   "cell_type": "code",
   "execution_count": 146,
   "metadata": {},
   "outputs": [
    {
     "name": "stdout",
     "output_type": "stream",
     "text": [
      "Python\n",
      "3.x\n",
      "Programming\n",
      "for\n",
      "Data\n",
      "Science\n",
      "&\n",
      "ML.\n"
     ]
    }
   ],
   "source": [
    "String = \"Python 3.x Programming for Data Science & ML.\"\n",
    "print(String.replace(\" \",\"\\n\"))\n"
   ]
  },
  {
   "cell_type": "code",
   "execution_count": null,
   "metadata": {},
   "outputs": [],
   "source": []
  },
  {
   "cell_type": "markdown",
   "metadata": {},
   "source": [
    "<u>Exercise 25:</u>\n",
    "    \n",
    "Display the following output:\n",
    "\n",
    "C:\\Users\\MRizwan>"
   ]
  },
  {
   "cell_type": "code",
   "execution_count": 147,
   "metadata": {},
   "outputs": [
    {
     "name": "stdout",
     "output_type": "stream",
     "text": [
      "C:/Users/MRizwan>\n"
     ]
    }
   ],
   "source": [
    "a=\"C: Users MRizwan>\"\n",
    "a=a.split()\n",
    "print(a[0],a[1],a[2],sep=\"/\")"
   ]
  },
  {
   "cell_type": "markdown",
   "metadata": {},
   "source": [
    "<u>Exercise 26:</u>\n",
    "\n",
    "Write a program that stored first name and last name in two strings, concatenate both strings in third string and then displays it.\n",
    "\n",
    "Expected Ouput - Your full name is : M.Rizwan Mughal "
   ]
  },
  {
   "cell_type": "code",
   "execution_count": 148,
   "metadata": {},
   "outputs": [
    {
     "name": "stdout",
     "output_type": "stream",
     "text": [
      "Your full name is: Ammad Tehseen\n"
     ]
    }
   ],
   "source": [
    "first_name=input(\"enter first name:\")\n",
    "last_name=input(\"enter last name:\")\n",
    "full_name=first_name+\" \"+last_name\n",
    "print(\"Your full name is:\",full_name)\n",
    "\n"
   ]
  },
  {
   "cell_type": "code",
   "execution_count": null,
   "metadata": {},
   "outputs": [],
   "source": []
  },
  {
   "cell_type": "code",
   "execution_count": null,
   "metadata": {},
   "outputs": [],
   "source": []
  },
  {
   "cell_type": "markdown",
   "metadata": {},
   "source": [
    "#### Happy Learning 😊"
   ]
  }
 ],
 "metadata": {
  "kernelspec": {
   "display_name": "Python 3 (ipykernel)",
   "language": "python",
   "name": "python3"
  },
  "language_info": {
   "codemirror_mode": {
    "name": "ipython",
    "version": 3
   },
   "file_extension": ".py",
   "mimetype": "text/x-python",
   "name": "python",
   "nbconvert_exporter": "python",
   "pygments_lexer": "ipython3",
   "version": "3.9.7"
  }
 },
 "nbformat": 4,
 "nbformat_minor": 4
}
