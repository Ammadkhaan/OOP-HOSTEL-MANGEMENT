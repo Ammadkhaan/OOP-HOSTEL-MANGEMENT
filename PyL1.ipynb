{
 "cells": [
  {
   "cell_type": "code",
   "execution_count": 21,
   "id": "43cb37c4",
   "metadata": {},
   "outputs": [
    {
     "name": "stdout",
     "output_type": "stream",
     "text": [
      "7\n"
     ]
    }
   ],
   "source": [
    "print(2+5) "
   ]
  },
  {
   "cell_type": "code",
   "execution_count": 22,
   "id": "e0afcd2d",
   "metadata": {},
   "outputs": [
    {
     "data": {
      "text/plain": [
       "3"
      ]
     },
     "execution_count": 22,
     "metadata": {},
     "output_type": "execute_result"
    }
   ],
   "source": [
    "len(\"xyz\")"
   ]
  },
  {
   "cell_type": "code",
   "execution_count": 23,
   "id": "7eda0822",
   "metadata": {},
   "outputs": [
    {
     "data": {
      "text/plain": [
       "'0x18ded8669b0'"
      ]
     },
     "execution_count": 23,
     "metadata": {},
     "output_type": "execute_result"
    }
   ],
   "source": [
    "x=5\n",
    "hex(id(x))"
   ]
  },
  {
   "cell_type": "code",
   "execution_count": 24,
   "id": "c5db970f",
   "metadata": {},
   "outputs": [],
   "source": [
    "x=10"
   ]
  },
  {
   "cell_type": "code",
   "execution_count": 25,
   "id": "86522735",
   "metadata": {},
   "outputs": [
    {
     "data": {
      "text/plain": [
       "'0x18ded866a50'"
      ]
     },
     "execution_count": 25,
     "metadata": {},
     "output_type": "execute_result"
    }
   ],
   "source": [
    "hex(id(x))"
   ]
  },
  {
   "cell_type": "code",
   "execution_count": 27,
   "id": "74a8dcf4",
   "metadata": {},
   "outputs": [
    {
     "data": {
      "text/plain": [
       "10"
      ]
     },
     "execution_count": 27,
     "metadata": {},
     "output_type": "execute_result"
    }
   ],
   "source": [
    "x"
   ]
  },
  {
   "cell_type": "markdown",
   "id": "35f9ec11",
   "metadata": {},
   "source": [
    "# Python data types\n"
   ]
  },
  {
   "cell_type": "code",
   "execution_count": 28,
   "id": "26847661",
   "metadata": {},
   "outputs": [],
   "source": [
    "x=43"
   ]
  },
  {
   "cell_type": "code",
   "execution_count": 30,
   "id": "a2b055f2",
   "metadata": {},
   "outputs": [
    {
     "data": {
      "text/plain": [
       "int"
      ]
     },
     "execution_count": 30,
     "metadata": {},
     "output_type": "execute_result"
    }
   ],
   "source": [
    "type(x)"
   ]
  },
  {
   "cell_type": "code",
   "execution_count": 31,
   "id": "9ad67d35",
   "metadata": {},
   "outputs": [],
   "source": [
    "obj=float(x)"
   ]
  },
  {
   "cell_type": "code",
   "execution_count": 32,
   "id": "47e7db83",
   "metadata": {},
   "outputs": [
    {
     "data": {
      "text/plain": [
       "float"
      ]
     },
     "execution_count": 32,
     "metadata": {},
     "output_type": "execute_result"
    }
   ],
   "source": [
    "type(obj)"
   ]
  },
  {
   "cell_type": "code",
   "execution_count": 1,
   "id": "07a96786",
   "metadata": {},
   "outputs": [
    {
     "data": {
      "text/plain": [
       "0.30000000000000004"
      ]
     },
     "execution_count": 1,
     "metadata": {},
     "output_type": "execute_result"
    }
   ],
   "source": [
    "0.2+0.1"
   ]
  },
  {
   "cell_type": "code",
   "execution_count": 2,
   "id": "8c21e86c",
   "metadata": {},
   "outputs": [
    {
     "name": "stdout",
     "output_type": "stream",
     "text": [
      "Ali Raza\n"
     ]
    }
   ],
   "source": [
    "name=\"ali raza\"\n",
    "print(name.title())"
   ]
  },
  {
   "cell_type": "code",
   "execution_count": 3,
   "id": "f08ddb43",
   "metadata": {},
   "outputs": [
    {
     "name": "stdout",
     "output_type": "stream",
     "text": [
      "ALI RAZA\n"
     ]
    }
   ],
   "source": [
    "print(name.upper())"
   ]
  },
  {
   "cell_type": "code",
   "execution_count": 11,
   "id": "cb44387d",
   "metadata": {},
   "outputs": [],
   "source": [
    "x,y,z=3,4,5"
   ]
  },
  {
   "cell_type": "code",
   "execution_count": 12,
   "id": "e6f32498",
   "metadata": {},
   "outputs": [
    {
     "data": {
      "text/plain": [
       "3"
      ]
     },
     "execution_count": 12,
     "metadata": {},
     "output_type": "execute_result"
    }
   ],
   "source": [
    "x"
   ]
  },
  {
   "cell_type": "code",
   "execution_count": null,
   "id": "f5a669b3",
   "metadata": {},
   "outputs": [],
   "source": [
    "x,y,z=\"\""
   ]
  },
  {
   "cell_type": "code",
   "execution_count": 6,
   "id": "5e22cef5",
   "metadata": {},
   "outputs": [],
   "source": [
    "x=5;y=3;z=4"
   ]
  },
  {
   "cell_type": "code",
   "execution_count": 7,
   "id": "df3e7503",
   "metadata": {},
   "outputs": [
    {
     "data": {
      "text/plain": [
       "4"
      ]
     },
     "execution_count": 7,
     "metadata": {},
     "output_type": "execute_result"
    }
   ],
   "source": [
    "z"
   ]
  },
  {
   "cell_type": "code",
   "execution_count": 8,
   "id": "a0cd9c3c",
   "metadata": {},
   "outputs": [],
   "source": [
    "a=b=c=15"
   ]
  },
  {
   "cell_type": "code",
   "execution_count": 9,
   "id": "76b2c54e",
   "metadata": {},
   "outputs": [
    {
     "data": {
      "text/plain": [
       "15"
      ]
     },
     "execution_count": 9,
     "metadata": {},
     "output_type": "execute_result"
    }
   ],
   "source": [
    "a"
   ]
  },
  {
   "cell_type": "code",
   "execution_count": 13,
   "id": "180009ad",
   "metadata": {},
   "outputs": [
    {
     "data": {
      "text/plain": [
       "int"
      ]
     },
     "execution_count": 13,
     "metadata": {},
     "output_type": "execute_result"
    }
   ],
   "source": [
    "type(x)"
   ]
  },
  {
   "cell_type": "code",
   "execution_count": 20,
   "id": "b6c07578",
   "metadata": {},
   "outputs": [],
   "source": [
    "x,y,z=3,4,5"
   ]
  },
  {
   "cell_type": "code",
   "execution_count": 21,
   "id": "9d26850f",
   "metadata": {},
   "outputs": [
    {
     "data": {
      "text/plain": [
       "int"
      ]
     },
     "execution_count": 21,
     "metadata": {},
     "output_type": "execute_result"
    }
   ],
   "source": [
    "type(x)"
   ]
  },
  {
   "cell_type": "code",
   "execution_count": 23,
   "id": "0ca472bc",
   "metadata": {},
   "outputs": [],
   "source": [
    "# kklk;"
   ]
  },
  {
   "cell_type": "code",
   "execution_count": 26,
   "id": "ce9a9658",
   "metadata": {},
   "outputs": [
    {
     "name": "stdout",
     "output_type": "stream",
     "text": [
      "\n"
     ]
    },
    {
     "data": {
      "text/plain": [
       "'svssv\\nsv'"
      ]
     },
     "execution_count": 26,
     "metadata": {},
     "output_type": "execute_result"
    }
   ],
   "source": [
    "print() \n",
    "'''svssv\n",
    "sv'''"
   ]
  },
  {
   "cell_type": "code",
   "execution_count": 27,
   "id": "ea233c27",
   "metadata": {},
   "outputs": [],
   "source": [
    "def func():\n",
    "    \n",
    "    \"\"\"my simple method\"\"\"\n",
    "    print(\"some data\")\n"
   ]
  },
  {
   "cell_type": "code",
   "execution_count": 28,
   "id": "c7ddbea9",
   "metadata": {},
   "outputs": [
    {
     "name": "stdout",
     "output_type": "stream",
     "text": [
      "some data\n"
     ]
    }
   ],
   "source": [
    "func()"
   ]
  },
  {
   "cell_type": "code",
   "execution_count": null,
   "id": "d2ea0f71",
   "metadata": {},
   "outputs": [],
   "source": [
    "|"
   ]
  }
 ],
 "metadata": {
  "kernelspec": {
   "display_name": "Python 3 (ipykernel)",
   "language": "python",
   "name": "python3"
  },
  "language_info": {
   "codemirror_mode": {
    "name": "ipython",
    "version": 3
   },
   "file_extension": ".py",
   "mimetype": "text/x-python",
   "name": "python",
   "nbconvert_exporter": "python",
   "pygments_lexer": "ipython3",
   "version": "3.9.7"
  }
 },
 "nbformat": 4,
 "nbformat_minor": 5
}
