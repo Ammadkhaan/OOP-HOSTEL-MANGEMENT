{
 "cells": [
  {
   "cell_type": "code",
   "execution_count": 50,
   "id": "43cb37c4",
   "metadata": {},
   "outputs": [
    {
     "name": "stdout",
     "output_type": "stream",
     "text": [
      "7\n"
     ]
    }
   ],
   "source": [
    "print(2+5) "
   ]
  },
  {
   "cell_type": "code",
   "execution_count": 51,
   "id": "e0afcd2d",
   "metadata": {},
   "outputs": [
    {
     "data": {
      "text/plain": [
       "3"
      ]
     },
     "execution_count": 51,
     "metadata": {},
     "output_type": "execute_result"
    }
   ],
   "source": [
    "len(\"xyz\")"
   ]
  },
  {
   "cell_type": "code",
   "execution_count": 52,
   "id": "7eda0822",
   "metadata": {},
   "outputs": [
    {
     "data": {
      "text/plain": [
       "'0x1b65e0969b0'"
      ]
     },
     "execution_count": 52,
     "metadata": {},
     "output_type": "execute_result"
    }
   ],
   "source": [
    "x=5\n",
    "hex(id(x))"
   ]
  },
  {
   "cell_type": "code",
   "execution_count": 53,
   "id": "c5db970f",
   "metadata": {},
   "outputs": [],
   "source": [
    "x=10"
   ]
  },
  {
   "cell_type": "code",
   "execution_count": 54,
   "id": "86522735",
   "metadata": {},
   "outputs": [
    {
     "data": {
      "text/plain": [
       "'0x1b65e096a50'"
      ]
     },
     "execution_count": 54,
     "metadata": {},
     "output_type": "execute_result"
    }
   ],
   "source": [
    "hex(id(x))"
   ]
  },
  {
   "cell_type": "code",
   "execution_count": 55,
   "id": "74a8dcf4",
   "metadata": {},
   "outputs": [
    {
     "data": {
      "text/plain": [
       "10"
      ]
     },
     "execution_count": 55,
     "metadata": {},
     "output_type": "execute_result"
    }
   ],
   "source": [
    "x"
   ]
  },
  {
   "cell_type": "markdown",
   "id": "35f9ec11",
   "metadata": {},
   "source": [
    "# Python data types\n"
   ]
  },
  {
   "cell_type": "code",
   "execution_count": 56,
   "id": "26847661",
   "metadata": {},
   "outputs": [],
   "source": [
    "x=43"
   ]
  },
  {
   "cell_type": "code",
   "execution_count": 57,
   "id": "a2b055f2",
   "metadata": {},
   "outputs": [
    {
     "data": {
      "text/plain": [
       "int"
      ]
     },
     "execution_count": 57,
     "metadata": {},
     "output_type": "execute_result"
    }
   ],
   "source": [
    "type(x)"
   ]
  },
  {
   "cell_type": "code",
   "execution_count": 58,
   "id": "9ad67d35",
   "metadata": {},
   "outputs": [],
   "source": [
    "obj=float(x)"
   ]
  },
  {
   "cell_type": "code",
   "execution_count": 59,
   "id": "47e7db83",
   "metadata": {},
   "outputs": [
    {
     "data": {
      "text/plain": [
       "float"
      ]
     },
     "execution_count": 59,
     "metadata": {},
     "output_type": "execute_result"
    }
   ],
   "source": [
    "type(obj)"
   ]
  },
  {
   "cell_type": "code",
   "execution_count": 60,
   "id": "07a96786",
   "metadata": {},
   "outputs": [
    {
     "data": {
      "text/plain": [
       "0.30000000000000004"
      ]
     },
     "execution_count": 60,
     "metadata": {},
     "output_type": "execute_result"
    }
   ],
   "source": [
    "0.2+0.1"
   ]
  },
  {
   "cell_type": "code",
   "execution_count": 61,
   "id": "8c21e86c",
   "metadata": {},
   "outputs": [
    {
     "name": "stdout",
     "output_type": "stream",
     "text": [
      "Ali Raza\n"
     ]
    }
   ],
   "source": [
    "name=\"ali raza\"\n",
    "print(name.title())"
   ]
  },
  {
   "cell_type": "code",
   "execution_count": 62,
   "id": "f08ddb43",
   "metadata": {},
   "outputs": [
    {
     "name": "stdout",
     "output_type": "stream",
     "text": [
      "ALI RAZA\n"
     ]
    }
   ],
   "source": [
    "print(name.upper())"
   ]
  },
  {
   "cell_type": "code",
   "execution_count": 63,
   "id": "cb44387d",
   "metadata": {},
   "outputs": [],
   "source": [
    "x,y,z=3,4,5"
   ]
  },
  {
   "cell_type": "code",
   "execution_count": 64,
   "id": "e6f32498",
   "metadata": {},
   "outputs": [
    {
     "data": {
      "text/plain": [
       "3"
      ]
     },
     "execution_count": 64,
     "metadata": {},
     "output_type": "execute_result"
    }
   ],
   "source": [
    "x"
   ]
  },
  {
   "cell_type": "code",
   "execution_count": 65,
   "id": "f5a669b3",
   "metadata": {},
   "outputs": [],
   "source": [
    "x,y,z=1,2,3"
   ]
  },
  {
   "cell_type": "code",
   "execution_count": 66,
   "id": "5e22cef5",
   "metadata": {},
   "outputs": [],
   "source": [
    "x=5;y=3;z=4"
   ]
  },
  {
   "cell_type": "code",
   "execution_count": 67,
   "id": "df3e7503",
   "metadata": {},
   "outputs": [
    {
     "data": {
      "text/plain": [
       "4"
      ]
     },
     "execution_count": 67,
     "metadata": {},
     "output_type": "execute_result"
    }
   ],
   "source": [
    "z"
   ]
  },
  {
   "cell_type": "code",
   "execution_count": 68,
   "id": "a0cd9c3c",
   "metadata": {},
   "outputs": [],
   "source": [
    "a=b=c=15"
   ]
  },
  {
   "cell_type": "code",
   "execution_count": 69,
   "id": "76b2c54e",
   "metadata": {},
   "outputs": [
    {
     "data": {
      "text/plain": [
       "15"
      ]
     },
     "execution_count": 69,
     "metadata": {},
     "output_type": "execute_result"
    }
   ],
   "source": [
    "a"
   ]
  },
  {
   "cell_type": "code",
   "execution_count": 70,
   "id": "180009ad",
   "metadata": {},
   "outputs": [
    {
     "data": {
      "text/plain": [
       "int"
      ]
     },
     "execution_count": 70,
     "metadata": {},
     "output_type": "execute_result"
    }
   ],
   "source": [
    "type(x)"
   ]
  },
  {
   "cell_type": "code",
   "execution_count": 71,
   "id": "b6c07578",
   "metadata": {},
   "outputs": [],
   "source": [
    "x,y,z=3,4,5"
   ]
  },
  {
   "cell_type": "code",
   "execution_count": 72,
   "id": "9d26850f",
   "metadata": {},
   "outputs": [
    {
     "data": {
      "text/plain": [
       "int"
      ]
     },
     "execution_count": 72,
     "metadata": {},
     "output_type": "execute_result"
    }
   ],
   "source": [
    "type(x)"
   ]
  },
  {
   "cell_type": "code",
   "execution_count": 73,
   "id": "0ca472bc",
   "metadata": {},
   "outputs": [],
   "source": [
    "# kklk;"
   ]
  },
  {
   "cell_type": "code",
   "execution_count": 74,
   "id": "ce9a9658",
   "metadata": {},
   "outputs": [
    {
     "name": "stdout",
     "output_type": "stream",
     "text": [
      "\n"
     ]
    },
    {
     "data": {
      "text/plain": [
       "'svssv\\nsv'"
      ]
     },
     "execution_count": 74,
     "metadata": {},
     "output_type": "execute_result"
    }
   ],
   "source": [
    "print() \n",
    "'''svssv\n",
    "sv'''"
   ]
  },
  {
   "cell_type": "code",
   "execution_count": 75,
   "id": "ea233c27",
   "metadata": {},
   "outputs": [],
   "source": [
    "def func():\n",
    "    \n",
    "    \"\"\"my simple method\"\"\"\n",
    "    print(\"some data\")\n"
   ]
  },
  {
   "cell_type": "code",
   "execution_count": 76,
   "id": "c7ddbea9",
   "metadata": {},
   "outputs": [
    {
     "name": "stdout",
     "output_type": "stream",
     "text": [
      "some data\n"
     ]
    }
   ],
   "source": [
    "func()"
   ]
  },
  {
   "cell_type": "code",
   "execution_count": 77,
   "id": "d2ea0f71",
   "metadata": {},
   "outputs": [],
   "source": [
    "x=bin(10) "
   ]
  },
  {
   "cell_type": "code",
   "execution_count": 78,
   "id": "dc8fc0a0",
   "metadata": {},
   "outputs": [
    {
     "data": {
      "text/plain": [
       "'0b1010'"
      ]
     },
     "execution_count": 78,
     "metadata": {},
     "output_type": "execute_result"
    }
   ],
   "source": [
    "x"
   ]
  },
  {
   "cell_type": "code",
   "execution_count": 79,
   "id": "a5ddfb9c",
   "metadata": {},
   "outputs": [],
   "source": [
    "# False,None\n",
    "# 0,0.0,0j\n",
    "# \"\"\n",
    "# {},[],()\n",
    "# set()"
   ]
  },
  {
   "cell_type": "markdown",
   "id": "d6fdada7",
   "metadata": {},
   "source": [
    "python type conversion \n",
    "\n"
   ]
  },
  {
   "cell_type": "code",
   "execution_count": 80,
   "id": "0eab5e79",
   "metadata": {},
   "outputs": [],
   "source": [
    "name=float(input(\"Enter name:\"))"
   ]
  },
  {
   "cell_type": "code",
   "execution_count": 81,
   "id": "b7d8712e",
   "metadata": {},
   "outputs": [
    {
     "data": {
      "text/plain": [
       "17.0"
      ]
     },
     "execution_count": 81,
     "metadata": {},
     "output_type": "execute_result"
    }
   ],
   "source": [
    " name+9"
   ]
  },
  {
   "cell_type": "code",
   "execution_count": 82,
   "id": "118fa85f",
   "metadata": {},
   "outputs": [],
   "source": [
    "name=\"ammaad\""
   ]
  },
  {
   "cell_type": "code",
   "execution_count": 83,
   "id": "43ff440c",
   "metadata": {},
   "outputs": [
    {
     "data": {
      "text/plain": [
       "str"
      ]
     },
     "execution_count": 83,
     "metadata": {},
     "output_type": "execute_result"
    }
   ],
   "source": [
    "type(name)"
   ]
  },
  {
   "cell_type": "code",
   "execution_count": 84,
   "id": "9ace3d4b",
   "metadata": {},
   "outputs": [
    {
     "name": "stdout",
     "output_type": "stream",
     "text": [
      "pto\n"
     ]
    }
   ],
   "source": [
    "lang='python'\n",
    "print(lang[::2])"
   ]
  },
  {
   "cell_type": "code",
   "execution_count": 85,
   "id": "1f5e811a",
   "metadata": {},
   "outputs": [
    {
     "data": {
      "text/plain": [
       "'ohtyp'"
      ]
     },
     "execution_count": 85,
     "metadata": {},
     "output_type": "execute_result"
    }
   ],
   "source": [
    "lang[-2::-1]"
   ]
  },
  {
   "cell_type": "code",
   "execution_count": null,
   "id": "92aabeea",
   "metadata": {},
   "outputs": [],
   "source": []
  },
  {
   "cell_type": "code",
   "execution_count": null,
   "id": "3cd78597",
   "metadata": {},
   "outputs": [],
   "source": []
  },
  {
   "cell_type": "code",
   "execution_count": 86,
   "id": "fa570b00",
   "metadata": {},
   "outputs": [],
   "source": [
    "x='h'\n",
    "y='xyz'\n",
    "z=9.000000009"
   ]
  },
  {
   "cell_type": "markdown",
   "id": "8d464ac5",
   "metadata": {},
   "source": [
    "f-string"
   ]
  },
  {
   "cell_type": "code",
   "execution_count": 87,
   "id": "c215e775",
   "metadata": {},
   "outputs": [],
   "source": [
    " data=f'{x} {z:.3f}'"
   ]
  },
  {
   "cell_type": "code",
   "execution_count": 88,
   "id": "ffbec01e",
   "metadata": {},
   "outputs": [
    {
     "data": {
      "text/plain": [
       "'h 9.000'"
      ]
     },
     "execution_count": 88,
     "metadata": {},
     "output_type": "execute_result"
    }
   ],
   "source": [
    "data"
   ]
  },
  {
   "cell_type": "code",
   "execution_count": 89,
   "id": "b1319e31",
   "metadata": {},
   "outputs": [],
   "source": [
    "lang='python programming is great'"
   ]
  },
  {
   "cell_type": "code",
   "execution_count": 90,
   "id": "165b8221",
   "metadata": {},
   "outputs": [
    {
     "data": {
      "text/plain": [
       "'python@programming@is@great'"
      ]
     },
     "execution_count": 90,
     "metadata": {},
     "output_type": "execute_result"
    }
   ],
   "source": [
    "lang.replace(\" \",\"@\")"
   ]
  },
  {
   "cell_type": "code",
   "execution_count": 91,
   "id": "6e5e3625",
   "metadata": {},
   "outputs": [
    {
     "data": {
      "text/plain": [
       "9"
      ]
     },
     "execution_count": 91,
     "metadata": {},
     "output_type": "execute_result"
    }
   ],
   "source": [
    "lang.find(\"o\",5,len(lang))"
   ]
  },
  {
   "cell_type": "code",
   "execution_count": 92,
   "id": "6f125c2b",
   "metadata": {},
   "outputs": [
    {
     "data": {
      "text/plain": [
       "9"
      ]
     },
     "execution_count": 92,
     "metadata": {},
     "output_type": "execute_result"
    }
   ],
   "source": [
    "lang.rfind(\"o\")"
   ]
  },
  {
   "cell_type": "code",
   "execution_count": 93,
   "id": "fe19adf8",
   "metadata": {},
   "outputs": [
    {
     "data": {
      "text/plain": [
       "''"
      ]
     },
     "execution_count": 93,
     "metadata": {},
     "output_type": "execute_result"
    }
   ],
   "source": [
    "lang[a:b]"
   ]
  },
  {
   "cell_type": "code",
   "execution_count": 94,
   "id": "a84d29fe",
   "metadata": {},
   "outputs": [],
   "source": [
    "msg=\"rizwan ammmad@gmail.com tue\""
   ]
  },
  {
   "cell_type": "code",
   "execution_count": 95,
   "id": "73a36e6f",
   "metadata": {},
   "outputs": [],
   "source": [
    "a=msg.find(\"@\")"
   ]
  },
  {
   "cell_type": "code",
   "execution_count": 96,
   "id": "de2c3717",
   "metadata": {},
   "outputs": [],
   "source": [
    "b=msg.find(\" \",a)"
   ]
  },
  {
   "cell_type": "code",
   "execution_count": 97,
   "id": "345500cd",
   "metadata": {},
   "outputs": [
    {
     "data": {
      "text/plain": [
       "'gmail.com'"
      ]
     },
     "execution_count": 97,
     "metadata": {},
     "output_type": "execute_result"
    }
   ],
   "source": [
    "msg[a+1:b]"
   ]
  },
  {
   "cell_type": "code",
   "execution_count": 100,
   "id": "9afad049",
   "metadata": {},
   "outputs": [
    {
     "ename": "AttributeError",
     "evalue": "'list' object has no attribute 'split'",
     "output_type": "error",
     "traceback": [
      "\u001b[1;31m---------------------------------------------------------------------------\u001b[0m",
      "\u001b[1;31mAttributeError\u001b[0m                            Traceback (most recent call last)",
      "\u001b[1;32mC:\\Users\\AMMAAD~1\\AppData\\Local\\Temp/ipykernel_1388/2571468061.py\u001b[0m in \u001b[0;36m<module>\u001b[1;34m\u001b[0m\n\u001b[1;32m----> 1\u001b[1;33m \u001b[0mmsg\u001b[0m\u001b[1;33m=\u001b[0m\u001b[0mmsg\u001b[0m\u001b[1;33m.\u001b[0m\u001b[0msplit\u001b[0m\u001b[1;33m(\u001b[0m\u001b[1;34m\"@\"\u001b[0m\u001b[1;33m)\u001b[0m\u001b[1;33m\u001b[0m\u001b[1;33m\u001b[0m\u001b[0m\n\u001b[0m",
      "\u001b[1;31mAttributeError\u001b[0m: 'list' object has no attribute 'split'"
     ]
    }
   ],
   "source": [
    "msg=msg.split(\"@\")"
   ]
  },
  {
   "cell_type": "markdown",
   "id": "ea3d06ea",
   "metadata": {},
   "source": [
    "# Python sequence type "
   ]
  },
  {
   "cell_type": "markdown",
   "id": "3026acdb",
   "metadata": {},
   "source": [
    "## - list"
   ]
  },
  {
   "cell_type": "code",
   "execution_count": 101,
   "id": "ade93b1b",
   "metadata": {},
   "outputs": [
    {
     "data": {
      "text/plain": [
       "[]"
      ]
     },
     "execution_count": 101,
     "metadata": {},
     "output_type": "execute_result"
    }
   ],
   "source": [
    "# creating a list ,defining a list , making a list\n",
    "data_1=[]\n",
    "data_1"
   ]
  },
  {
   "cell_type": "code",
   "execution_count": 102,
   "id": "910a0d03",
   "metadata": {},
   "outputs": [
    {
     "data": {
      "text/plain": [
       "list"
      ]
     },
     "execution_count": 102,
     "metadata": {},
     "output_type": "execute_result"
    }
   ],
   "source": [
    "type(data_1)"
   ]
  },
  {
   "cell_type": "code",
   "execution_count": 104,
   "id": "5bfc728f",
   "metadata": {},
   "outputs": [],
   "source": [
    "data_3=[2,3,4,[4,7,5,6],{a:1,b:3}]"
   ]
  },
  {
   "cell_type": "code",
   "execution_count": 105,
   "id": "d3754da9",
   "metadata": {},
   "outputs": [
    {
     "data": {
      "text/plain": [
       "[2, 3, 4, [4, 7, 5, 6], {13: 1, 23: 3}]"
      ]
     },
     "execution_count": 105,
     "metadata": {},
     "output_type": "execute_result"
    }
   ],
   "source": [
    "data_3"
   ]
  },
  {
   "cell_type": "code",
   "execution_count": 106,
   "id": "90f1744a",
   "metadata": {},
   "outputs": [],
   "source": [
    "data_4=[[1,2,3],[23,34,45],[345,143,235]]"
   ]
  },
  {
   "cell_type": "code",
   "execution_count": 11,
   "id": "aa4cdefa",
   "metadata": {},
   "outputs": [],
   "source": [
    "data_7=[2,3,4,5,6,1,9,3]"
   ]
  },
  {
   "cell_type": "code",
   "execution_count": 3,
   "id": "da2d8664",
   "metadata": {},
   "outputs": [],
   "source": [
    "data_7.append(\"ali\")"
   ]
  },
  {
   "cell_type": "code",
   "execution_count": 12,
   "id": "31c0cf06",
   "metadata": {},
   "outputs": [
    {
     "data": {
      "text/plain": [
       "[2, 3, 4, 5, 6, 1, 9, 3]"
      ]
     },
     "execution_count": 12,
     "metadata": {},
     "output_type": "execute_result"
    }
   ],
   "source": [
    "data_7"
   ]
  },
  {
   "cell_type": "code",
   "execution_count": 13,
   "id": "c0e26536",
   "metadata": {},
   "outputs": [],
   "source": [
    "#copy list elements\n",
    "a=data_7"
   ]
  },
  {
   "cell_type": "code",
   "execution_count": 14,
   "id": "42c124da",
   "metadata": {},
   "outputs": [
    {
     "data": {
      "text/plain": [
       "[2, 3, 4, 5, 6, 1, 9, 3]"
      ]
     },
     "execution_count": 14,
     "metadata": {},
     "output_type": "execute_result"
    }
   ],
   "source": [
    "a"
   ]
  },
  {
   "cell_type": "code",
   "execution_count": 15,
   "id": "79a7f12f",
   "metadata": {},
   "outputs": [],
   "source": [
    "a.sort()"
   ]
  },
  {
   "cell_type": "code",
   "execution_count": 16,
   "id": "dbc5ea13",
   "metadata": {},
   "outputs": [
    {
     "data": {
      "text/plain": [
       "[1, 2, 3, 3, 4, 5, 6, 9]"
      ]
     },
     "execution_count": 16,
     "metadata": {},
     "output_type": "execute_result"
    }
   ],
   "source": [
    "a"
   ]
  },
  {
   "cell_type": "code",
   "execution_count": 18,
   "id": "44719477",
   "metadata": {},
   "outputs": [],
   "source": [
    "a=[7,63,2,1,6,6,1,8,99,9,5454,2]\n",
    "b=sorted(a)"
   ]
  },
  {
   "cell_type": "code",
   "execution_count": 19,
   "id": "7ab29fa8",
   "metadata": {},
   "outputs": [
    {
     "data": {
      "text/plain": [
       "[1, 1, 2, 2, 6, 6, 7, 8, 9, 63, 99, 5454]"
      ]
     },
     "execution_count": 19,
     "metadata": {},
     "output_type": "execute_result"
    }
   ],
   "source": [
    "b"
   ]
  },
  {
   "cell_type": "code",
   "execution_count": 20,
   "id": "a05647f5",
   "metadata": {},
   "outputs": [],
   "source": [
    "b.reverse()"
   ]
  },
  {
   "cell_type": "code",
   "execution_count": 21,
   "id": "5ec4b3cc",
   "metadata": {},
   "outputs": [
    {
     "data": {
      "text/plain": [
       "[5454, 99, 63, 9, 8, 7, 6, 6, 2, 2, 1, 1]"
      ]
     },
     "execution_count": 21,
     "metadata": {},
     "output_type": "execute_result"
    }
   ],
   "source": [
    "b"
   ]
  },
  {
   "cell_type": "code",
   "execution_count": null,
   "id": "20593f7e",
   "metadata": {},
   "outputs": [],
   "source": []
  }
 ],
 "metadata": {
  "kernelspec": {
   "display_name": "Python 3 (ipykernel)",
   "language": "python",
   "name": "python3"
  },
  "language_info": {
   "codemirror_mode": {
    "name": "ipython",
    "version": 3
   },
   "file_extension": ".py",
   "mimetype": "text/x-python",
   "name": "python",
   "nbconvert_exporter": "python",
   "pygments_lexer": "ipython3",
   "version": "3.9.7"
  }
 },
 "nbformat": 4,
 "nbformat_minor": 5
}
