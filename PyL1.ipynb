{
 "cells": [
  {
   "cell_type": "code",
   "execution_count": 17,
   "id": "43cb37c4",
   "metadata": {},
   "outputs": [
    {
     "name": "stdout",
     "output_type": "stream",
     "text": [
      "7\n"
     ]
    }
   ],
   "source": [
    "print(2+5) "
   ]
  },
  {
   "cell_type": "code",
   "execution_count": 18,
   "id": "e0afcd2d",
   "metadata": {},
   "outputs": [
    {
     "data": {
      "text/plain": [
       "3"
      ]
     },
     "execution_count": 18,
     "metadata": {},
     "output_type": "execute_result"
    }
   ],
   "source": [
    "len(\"xyz\")"
   ]
  },
  {
   "cell_type": "code",
   "execution_count": 19,
   "id": "7eda0822",
   "metadata": {},
   "outputs": [
    {
     "data": {
      "text/plain": [
       "'0x1e95a5969b0'"
      ]
     },
     "execution_count": 19,
     "metadata": {},
     "output_type": "execute_result"
    }
   ],
   "source": [
    "x=5\n",
    "hex(id(x))"
   ]
  },
  {
   "cell_type": "code",
   "execution_count": 20,
   "id": "c5db970f",
   "metadata": {},
   "outputs": [],
   "source": [
    "x=10"
   ]
  },
  {
   "cell_type": "code",
   "execution_count": 21,
   "id": "86522735",
   "metadata": {},
   "outputs": [
    {
     "data": {
      "text/plain": [
       "'0x1e95a596a50'"
      ]
     },
     "execution_count": 21,
     "metadata": {},
     "output_type": "execute_result"
    }
   ],
   "source": [
    "hex(id(x))"
   ]
  },
  {
   "cell_type": "code",
   "execution_count": 22,
   "id": "74a8dcf4",
   "metadata": {},
   "outputs": [
    {
     "data": {
      "text/plain": [
       "10"
      ]
     },
     "execution_count": 22,
     "metadata": {},
     "output_type": "execute_result"
    }
   ],
   "source": [
    "x"
   ]
  },
  {
   "cell_type": "markdown",
   "id": "35f9ec11",
   "metadata": {},
   "source": [
    "# Python data types\n"
   ]
  },
  {
   "cell_type": "code",
   "execution_count": 23,
   "id": "26847661",
   "metadata": {},
   "outputs": [],
   "source": [
    "x=43"
   ]
  },
  {
   "cell_type": "code",
   "execution_count": 24,
   "id": "a2b055f2",
   "metadata": {},
   "outputs": [
    {
     "data": {
      "text/plain": [
       "int"
      ]
     },
     "execution_count": 24,
     "metadata": {},
     "output_type": "execute_result"
    }
   ],
   "source": [
    "type(x)"
   ]
  },
  {
   "cell_type": "code",
   "execution_count": 25,
   "id": "9ad67d35",
   "metadata": {},
   "outputs": [],
   "source": [
    "obj=float(x)"
   ]
  },
  {
   "cell_type": "code",
   "execution_count": 26,
   "id": "47e7db83",
   "metadata": {},
   "outputs": [
    {
     "data": {
      "text/plain": [
       "float"
      ]
     },
     "execution_count": 26,
     "metadata": {},
     "output_type": "execute_result"
    }
   ],
   "source": [
    "type(obj)"
   ]
  },
  {
   "cell_type": "code",
   "execution_count": 27,
   "id": "07a96786",
   "metadata": {},
   "outputs": [
    {
     "data": {
      "text/plain": [
       "0.30000000000000004"
      ]
     },
     "execution_count": 27,
     "metadata": {},
     "output_type": "execute_result"
    }
   ],
   "source": [
    "0.2+0.1"
   ]
  },
  {
   "cell_type": "code",
   "execution_count": 28,
   "id": "8c21e86c",
   "metadata": {},
   "outputs": [
    {
     "name": "stdout",
     "output_type": "stream",
     "text": [
      "Ali Raza\n"
     ]
    }
   ],
   "source": [
    "name=\"ali raza\"\n",
    "print(name.title())"
   ]
  },
  {
   "cell_type": "code",
   "execution_count": 29,
   "id": "f08ddb43",
   "metadata": {},
   "outputs": [
    {
     "name": "stdout",
     "output_type": "stream",
     "text": [
      "ALI RAZA\n"
     ]
    }
   ],
   "source": [
    "print(name.upper())"
   ]
  },
  {
   "cell_type": "code",
   "execution_count": 30,
   "id": "cb44387d",
   "metadata": {},
   "outputs": [],
   "source": [
    "x,y,z=3,4,5"
   ]
  },
  {
   "cell_type": "code",
   "execution_count": 31,
   "id": "e6f32498",
   "metadata": {},
   "outputs": [
    {
     "data": {
      "text/plain": [
       "3"
      ]
     },
     "execution_count": 31,
     "metadata": {},
     "output_type": "execute_result"
    }
   ],
   "source": [
    "x"
   ]
  },
  {
   "cell_type": "code",
   "execution_count": 32,
   "id": "f5a669b3",
   "metadata": {},
   "outputs": [],
   "source": [
    "x,y,z=1,2,3"
   ]
  },
  {
   "cell_type": "code",
   "execution_count": 33,
   "id": "5e22cef5",
   "metadata": {},
   "outputs": [],
   "source": [
    "x=5;y=3;z=4"
   ]
  },
  {
   "cell_type": "code",
   "execution_count": 34,
   "id": "df3e7503",
   "metadata": {},
   "outputs": [
    {
     "data": {
      "text/plain": [
       "4"
      ]
     },
     "execution_count": 34,
     "metadata": {},
     "output_type": "execute_result"
    }
   ],
   "source": [
    "z"
   ]
  },
  {
   "cell_type": "code",
   "execution_count": 35,
   "id": "a0cd9c3c",
   "metadata": {},
   "outputs": [],
   "source": [
    "a=b=c=15"
   ]
  },
  {
   "cell_type": "code",
   "execution_count": 36,
   "id": "76b2c54e",
   "metadata": {},
   "outputs": [
    {
     "data": {
      "text/plain": [
       "15"
      ]
     },
     "execution_count": 36,
     "metadata": {},
     "output_type": "execute_result"
    }
   ],
   "source": [
    "a"
   ]
  },
  {
   "cell_type": "code",
   "execution_count": 37,
   "id": "180009ad",
   "metadata": {},
   "outputs": [
    {
     "data": {
      "text/plain": [
       "int"
      ]
     },
     "execution_count": 37,
     "metadata": {},
     "output_type": "execute_result"
    }
   ],
   "source": [
    "type(x)"
   ]
  },
  {
   "cell_type": "code",
   "execution_count": 38,
   "id": "b6c07578",
   "metadata": {},
   "outputs": [],
   "source": [
    "x,y,z=3,4,5"
   ]
  },
  {
   "cell_type": "code",
   "execution_count": 39,
   "id": "9d26850f",
   "metadata": {},
   "outputs": [
    {
     "data": {
      "text/plain": [
       "int"
      ]
     },
     "execution_count": 39,
     "metadata": {},
     "output_type": "execute_result"
    }
   ],
   "source": [
    "type(x)"
   ]
  },
  {
   "cell_type": "code",
   "execution_count": 40,
   "id": "0ca472bc",
   "metadata": {},
   "outputs": [],
   "source": [
    "# kklk;"
   ]
  },
  {
   "cell_type": "code",
   "execution_count": 41,
   "id": "ce9a9658",
   "metadata": {},
   "outputs": [
    {
     "name": "stdout",
     "output_type": "stream",
     "text": [
      "\n"
     ]
    },
    {
     "data": {
      "text/plain": [
       "'svssv\\nsv'"
      ]
     },
     "execution_count": 41,
     "metadata": {},
     "output_type": "execute_result"
    }
   ],
   "source": [
    "print() \n",
    "'''svssv\n",
    "sv'''"
   ]
  },
  {
   "cell_type": "code",
   "execution_count": 42,
   "id": "ea233c27",
   "metadata": {},
   "outputs": [],
   "source": [
    "def func():\n",
    "    \n",
    "    \"\"\"my simple method\"\"\"\n",
    "    print(\"some data\")\n"
   ]
  },
  {
   "cell_type": "code",
   "execution_count": 43,
   "id": "c7ddbea9",
   "metadata": {},
   "outputs": [
    {
     "name": "stdout",
     "output_type": "stream",
     "text": [
      "some data\n"
     ]
    }
   ],
   "source": [
    "func()"
   ]
  },
  {
   "cell_type": "code",
   "execution_count": 44,
   "id": "d2ea0f71",
   "metadata": {},
   "outputs": [],
   "source": [
    "x=bin(10) "
   ]
  },
  {
   "cell_type": "code",
   "execution_count": 45,
   "id": "dc8fc0a0",
   "metadata": {},
   "outputs": [
    {
     "data": {
      "text/plain": [
       "'0b1010'"
      ]
     },
     "execution_count": 45,
     "metadata": {},
     "output_type": "execute_result"
    }
   ],
   "source": [
    "x"
   ]
  },
  {
   "cell_type": "code",
   "execution_count": 46,
   "id": "a5ddfb9c",
   "metadata": {},
   "outputs": [],
   "source": [
    "# False,None\n",
    "# 0,0.0,0j\n",
    "# \"\"\n",
    "# {},[],()\n",
    "# set()"
   ]
  },
  {
   "cell_type": "markdown",
   "id": "d6fdada7",
   "metadata": {},
   "source": [
    "python type conversion \n",
    "\n"
   ]
  },
  {
   "cell_type": "code",
   "execution_count": 47,
   "id": "0eab5e79",
   "metadata": {},
   "outputs": [
    {
     "ename": "ValueError",
     "evalue": "could not convert string to float: 'Ammad'",
     "output_type": "error",
     "traceback": [
      "\u001b[1;31m---------------------------------------------------------------------------\u001b[0m",
      "\u001b[1;31mValueError\u001b[0m                                Traceback (most recent call last)",
      "\u001b[1;32mC:\\Users\\AMMAAD~1\\AppData\\Local\\Temp/ipykernel_10648/2977191331.py\u001b[0m in \u001b[0;36m<module>\u001b[1;34m\u001b[0m\n\u001b[1;32m----> 1\u001b[1;33m \u001b[0mname\u001b[0m\u001b[1;33m=\u001b[0m\u001b[0mfloat\u001b[0m\u001b[1;33m(\u001b[0m\u001b[0minput\u001b[0m\u001b[1;33m(\u001b[0m\u001b[1;34m\"Enter name:\"\u001b[0m\u001b[1;33m)\u001b[0m\u001b[1;33m)\u001b[0m\u001b[1;33m\u001b[0m\u001b[1;33m\u001b[0m\u001b[0m\n\u001b[0m",
      "\u001b[1;31mValueError\u001b[0m: could not convert string to float: 'Ammad'"
     ]
    }
   ],
   "source": [
    "name=float(input(\"Enter name:\"))"
   ]
  },
  {
   "cell_type": "code",
   "execution_count": null,
   "id": "b7d8712e",
   "metadata": {},
   "outputs": [
    {
     "data": {
      "text/plain": [
       "12.4"
      ]
     },
     "execution_count": 43,
     "metadata": {},
     "output_type": "execute_result"
    }
   ],
   "source": [
    " name+9"
   ]
  },
  {
   "cell_type": "code",
   "execution_count": null,
   "id": "118fa85f",
   "metadata": {},
   "outputs": [],
   "source": [
    "name=\"ammaad\""
   ]
  },
  {
   "cell_type": "code",
   "execution_count": null,
   "id": "43ff440c",
   "metadata": {},
   "outputs": [
    {
     "data": {
      "text/plain": [
       "str"
      ]
     },
     "execution_count": 48,
     "metadata": {},
     "output_type": "execute_result"
    }
   ],
   "source": [
    "type(name)"
   ]
  },
  {
   "cell_type": "code",
   "execution_count": 57,
   "id": "9ace3d4b",
   "metadata": {},
   "outputs": [
    {
     "name": "stdout",
     "output_type": "stream",
     "text": [
      "pto\n"
     ]
    }
   ],
   "source": [
    "lang='python'\n",
    "print(lang[::2])"
   ]
  },
  {
   "cell_type": "code",
   "execution_count": 61,
   "id": "1f5e811a",
   "metadata": {},
   "outputs": [
    {
     "data": {
      "text/plain": [
       "'ohtyp'"
      ]
     },
     "execution_count": 61,
     "metadata": {},
     "output_type": "execute_result"
    }
   ],
   "source": [
    "lang[-2::-1]"
   ]
  },
  {
   "cell_type": "code",
   "execution_count": 68,
   "id": "92aabeea",
   "metadata": {},
   "outputs": [
    {
     "ename": "SyntaxError",
     "evalue": "invalid syntax (Temp/ipykernel_10648/1072525751.py, line 2)",
     "output_type": "error",
     "traceback": [
      "\u001b[1;36m  File \u001b[1;32m\"C:\\Users\\AMMAAD~1\\AppData\\Local\\Temp/ipykernel_10648/1072525751.py\"\u001b[1;36m, line \u001b[1;32m2\u001b[0m\n\u001b[1;33m    a=\"ammad %s\", %(lang)\u001b[0m\n\u001b[1;37m                  ^\u001b[0m\n\u001b[1;31mSyntaxError\u001b[0m\u001b[1;31m:\u001b[0m invalid syntax\n"
     ]
    }
   ],
   "source": []
  },
  {
   "cell_type": "code",
   "execution_count": 67,
   "id": "3cd78597",
   "metadata": {},
   "outputs": [
    {
     "data": {
      "text/plain": [
       "15"
      ]
     },
     "execution_count": 67,
     "metadata": {},
     "output_type": "execute_result"
    }
   ],
   "source": []
  },
  {
   "cell_type": "code",
   "execution_count": 116,
   "id": "fa570b00",
   "metadata": {},
   "outputs": [],
   "source": [
    "x='h'\n",
    "y='xyz'\n",
    "z=9.000000009"
   ]
  },
  {
   "cell_type": "markdown",
   "id": "8d464ac5",
   "metadata": {},
   "source": [
    "f-string"
   ]
  },
  {
   "cell_type": "code",
   "execution_count": 117,
   "id": "c215e775",
   "metadata": {},
   "outputs": [],
   "source": [
    " data=f'{x} {z:.3f}'"
   ]
  },
  {
   "cell_type": "code",
   "execution_count": 118,
   "id": "ffbec01e",
   "metadata": {},
   "outputs": [
    {
     "data": {
      "text/plain": [
       "'h 9.000'"
      ]
     },
     "execution_count": 118,
     "metadata": {},
     "output_type": "execute_result"
    }
   ],
   "source": [
    "data"
   ]
  },
  {
   "cell_type": "code",
   "execution_count": 119,
   "id": "b1319e31",
   "metadata": {},
   "outputs": [],
   "source": [
    "lang='python programming is great'"
   ]
  },
  {
   "cell_type": "code",
   "execution_count": 120,
   "id": "165b8221",
   "metadata": {},
   "outputs": [
    {
     "data": {
      "text/plain": [
       "'python@programming@is@great'"
      ]
     },
     "execution_count": 120,
     "metadata": {},
     "output_type": "execute_result"
    }
   ],
   "source": [
    "lang.replace(\" \",\"@\")"
   ]
  },
  {
   "cell_type": "code",
   "execution_count": 126,
   "id": "6e5e3625",
   "metadata": {},
   "outputs": [
    {
     "data": {
      "text/plain": [
       "9"
      ]
     },
     "execution_count": 126,
     "metadata": {},
     "output_type": "execute_result"
    }
   ],
   "source": [
    "lang.find(\"o\",5,len(lang))"
   ]
  },
  {
   "cell_type": "code",
   "execution_count": 127,
   "id": "6f125c2b",
   "metadata": {},
   "outputs": [
    {
     "data": {
      "text/plain": [
       "9"
      ]
     },
     "execution_count": 127,
     "metadata": {},
     "output_type": "execute_result"
    }
   ],
   "source": [
    "lang.rfind(\"o\")"
   ]
  },
  {
   "cell_type": "code",
   "execution_count": 140,
   "id": "fe19adf8",
   "metadata": {},
   "outputs": [
    {
     "data": {
      "text/plain": [
       "'amming is '"
      ]
     },
     "execution_count": 140,
     "metadata": {},
     "output_type": "execute_result"
    }
   ],
   "source": [
    "lang[a:b]"
   ]
  },
  {
   "cell_type": "code",
   "execution_count": 150,
   "id": "a84d29fe",
   "metadata": {},
   "outputs": [],
   "source": [
    "msg=\"rizwan ammmad@gmail.com tue\""
   ]
  },
  {
   "cell_type": "code",
   "execution_count": 151,
   "id": "73a36e6f",
   "metadata": {},
   "outputs": [],
   "source": [
    "a=msg.find(\"@\")"
   ]
  },
  {
   "cell_type": "code",
   "execution_count": 152,
   "id": "de2c3717",
   "metadata": {},
   "outputs": [],
   "source": [
    "b=msg.find(\" \",a)"
   ]
  },
  {
   "cell_type": "code",
   "execution_count": 153,
   "id": "345500cd",
   "metadata": {},
   "outputs": [
    {
     "data": {
      "text/plain": [
       "'gmail.com'"
      ]
     },
     "execution_count": 153,
     "metadata": {},
     "output_type": "execute_result"
    }
   ],
   "source": [
    "msg[a+1:b]"
   ]
  },
  {
   "cell_type": "code",
   "execution_count": 147,
   "id": "9afad049",
   "metadata": {},
   "outputs": [],
   "source": [
    "msg=msg.split(\"@\")"
   ]
  },
  {
   "cell_type": "code",
   "execution_count": 149,
   "id": "ea3d06ea",
   "metadata": {},
   "outputs": [
    {
     "data": {
      "text/plain": [
       "'gmail.com tue'"
      ]
     },
     "execution_count": 149,
     "metadata": {},
     "output_type": "execute_result"
    }
   ],
   "source": []
  },
  {
   "cell_type": "code",
   "execution_count": null,
   "id": "3026acdb",
   "metadata": {},
   "outputs": [],
   "source": []
  }
 ],
 "metadata": {
  "kernelspec": {
   "display_name": "Python 3 (ipykernel)",
   "language": "python",
   "name": "python3"
  },
  "language_info": {
   "codemirror_mode": {
    "name": "ipython",
    "version": 3
   },
   "file_extension": ".py",
   "mimetype": "text/x-python",
   "name": "python",
   "nbconvert_exporter": "python",
   "pygments_lexer": "ipython3",
   "version": "3.9.7"
  }
 },
 "nbformat": 4,
 "nbformat_minor": 5
}
