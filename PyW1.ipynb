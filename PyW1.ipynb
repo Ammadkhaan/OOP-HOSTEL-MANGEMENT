{
 "cells": [
  {
   "cell_type": "code",
   "execution_count": 104,
   "id": "43cb37c4",
   "metadata": {},
   "outputs": [
    {
     "name": "stdout",
     "output_type": "stream",
     "text": [
      "7\n"
     ]
    }
   ],
   "source": [
    "print(2+5) "
   ]
  },
  {
   "cell_type": "code",
   "execution_count": 105,
   "id": "e0afcd2d",
   "metadata": {},
   "outputs": [
    {
     "data": {
      "text/plain": [
       "3"
      ]
     },
     "execution_count": 105,
     "metadata": {},
     "output_type": "execute_result"
    }
   ],
   "source": [
    "len(\"xyz\")"
   ]
  },
  {
   "cell_type": "code",
   "execution_count": 106,
   "id": "7eda0822",
   "metadata": {},
   "outputs": [
    {
     "data": {
      "text/plain": [
       "'0x20155a169b0'"
      ]
     },
     "execution_count": 106,
     "metadata": {},
     "output_type": "execute_result"
    }
   ],
   "source": [
    "x=5\n",
    "hex(id(x))"
   ]
  },
  {
   "cell_type": "code",
   "execution_count": 107,
   "id": "c5db970f",
   "metadata": {},
   "outputs": [],
   "source": [
    "x=10"
   ]
  },
  {
   "cell_type": "code",
   "execution_count": 108,
   "id": "86522735",
   "metadata": {},
   "outputs": [
    {
     "data": {
      "text/plain": [
       "'0x20155a16a50'"
      ]
     },
     "execution_count": 108,
     "metadata": {},
     "output_type": "execute_result"
    }
   ],
   "source": [
    "hex(id(x))"
   ]
  },
  {
   "cell_type": "code",
   "execution_count": 109,
   "id": "74a8dcf4",
   "metadata": {},
   "outputs": [
    {
     "data": {
      "text/plain": [
       "10"
      ]
     },
     "execution_count": 109,
     "metadata": {},
     "output_type": "execute_result"
    }
   ],
   "source": [
    "x"
   ]
  },
  {
   "cell_type": "markdown",
   "id": "35f9ec11",
   "metadata": {},
   "source": [
    "# Python data types\n"
   ]
  },
  {
   "cell_type": "code",
   "execution_count": 110,
   "id": "26847661",
   "metadata": {},
   "outputs": [],
   "source": [
    "x=43"
   ]
  },
  {
   "cell_type": "code",
   "execution_count": 111,
   "id": "a2b055f2",
   "metadata": {},
   "outputs": [
    {
     "data": {
      "text/plain": [
       "int"
      ]
     },
     "execution_count": 111,
     "metadata": {},
     "output_type": "execute_result"
    }
   ],
   "source": [
    "type(x)"
   ]
  },
  {
   "cell_type": "code",
   "execution_count": 112,
   "id": "9ad67d35",
   "metadata": {},
   "outputs": [],
   "source": [
    "obj=float(x)"
   ]
  },
  {
   "cell_type": "code",
   "execution_count": 113,
   "id": "47e7db83",
   "metadata": {},
   "outputs": [
    {
     "data": {
      "text/plain": [
       "float"
      ]
     },
     "execution_count": 113,
     "metadata": {},
     "output_type": "execute_result"
    }
   ],
   "source": [
    "type(obj)"
   ]
  },
  {
   "cell_type": "code",
   "execution_count": 114,
   "id": "07a96786",
   "metadata": {},
   "outputs": [
    {
     "data": {
      "text/plain": [
       "0.30000000000000004"
      ]
     },
     "execution_count": 114,
     "metadata": {},
     "output_type": "execute_result"
    }
   ],
   "source": [
    "0.2+0.1"
   ]
  },
  {
   "cell_type": "code",
   "execution_count": 115,
   "id": "8c21e86c",
   "metadata": {},
   "outputs": [
    {
     "name": "stdout",
     "output_type": "stream",
     "text": [
      "Ali Raza\n"
     ]
    }
   ],
   "source": [
    "name=\"ali raza\"\n",
    "print(name.title())"
   ]
  },
  {
   "cell_type": "code",
   "execution_count": 116,
   "id": "f08ddb43",
   "metadata": {},
   "outputs": [
    {
     "name": "stdout",
     "output_type": "stream",
     "text": [
      "ALI RAZA\n"
     ]
    }
   ],
   "source": [
    "print(name.upper())"
   ]
  },
  {
   "cell_type": "code",
   "execution_count": 117,
   "id": "cb44387d",
   "metadata": {},
   "outputs": [],
   "source": [
    "x,y,z=3,4,5"
   ]
  },
  {
   "cell_type": "code",
   "execution_count": 118,
   "id": "e6f32498",
   "metadata": {},
   "outputs": [
    {
     "data": {
      "text/plain": [
       "3"
      ]
     },
     "execution_count": 118,
     "metadata": {},
     "output_type": "execute_result"
    }
   ],
   "source": [
    "x"
   ]
  },
  {
   "cell_type": "code",
   "execution_count": 119,
   "id": "f5a669b3",
   "metadata": {},
   "outputs": [],
   "source": [
    "x,y,z=1,2,3"
   ]
  },
  {
   "cell_type": "code",
   "execution_count": 120,
   "id": "5e22cef5",
   "metadata": {},
   "outputs": [],
   "source": [
    "x=5;y=3;z=4"
   ]
  },
  {
   "cell_type": "code",
   "execution_count": 121,
   "id": "df3e7503",
   "metadata": {},
   "outputs": [
    {
     "data": {
      "text/plain": [
       "4"
      ]
     },
     "execution_count": 121,
     "metadata": {},
     "output_type": "execute_result"
    }
   ],
   "source": [
    "z"
   ]
  },
  {
   "cell_type": "code",
   "execution_count": 122,
   "id": "a0cd9c3c",
   "metadata": {},
   "outputs": [],
   "source": [
    "a=b=c=15"
   ]
  },
  {
   "cell_type": "code",
   "execution_count": 123,
   "id": "76b2c54e",
   "metadata": {},
   "outputs": [
    {
     "data": {
      "text/plain": [
       "15"
      ]
     },
     "execution_count": 123,
     "metadata": {},
     "output_type": "execute_result"
    }
   ],
   "source": [
    "a"
   ]
  },
  {
   "cell_type": "code",
   "execution_count": 124,
   "id": "180009ad",
   "metadata": {},
   "outputs": [
    {
     "data": {
      "text/plain": [
       "int"
      ]
     },
     "execution_count": 124,
     "metadata": {},
     "output_type": "execute_result"
    }
   ],
   "source": [
    "type(x)"
   ]
  },
  {
   "cell_type": "code",
   "execution_count": 125,
   "id": "b6c07578",
   "metadata": {},
   "outputs": [],
   "source": [
    "x,y,z=3,4,5"
   ]
  },
  {
   "cell_type": "code",
   "execution_count": 126,
   "id": "9d26850f",
   "metadata": {},
   "outputs": [
    {
     "data": {
      "text/plain": [
       "int"
      ]
     },
     "execution_count": 126,
     "metadata": {},
     "output_type": "execute_result"
    }
   ],
   "source": [
    "type(x)"
   ]
  },
  {
   "cell_type": "code",
   "execution_count": 127,
   "id": "0ca472bc",
   "metadata": {},
   "outputs": [],
   "source": [
    "# kklk;"
   ]
  },
  {
   "cell_type": "code",
   "execution_count": 128,
   "id": "ce9a9658",
   "metadata": {},
   "outputs": [
    {
     "name": "stdout",
     "output_type": "stream",
     "text": [
      "\n"
     ]
    },
    {
     "data": {
      "text/plain": [
       "'svssv\\nsv'"
      ]
     },
     "execution_count": 128,
     "metadata": {},
     "output_type": "execute_result"
    }
   ],
   "source": [
    "print() \n",
    "'''svssv\n",
    "sv'''"
   ]
  },
  {
   "cell_type": "code",
   "execution_count": 129,
   "id": "ea233c27",
   "metadata": {},
   "outputs": [],
   "source": [
    "def func():\n",
    "    \n",
    "    \"\"\"my simple method\"\"\"\n",
    "    print(\"some data\")\n"
   ]
  },
  {
   "cell_type": "code",
   "execution_count": 130,
   "id": "c7ddbea9",
   "metadata": {},
   "outputs": [
    {
     "name": "stdout",
     "output_type": "stream",
     "text": [
      "some data\n"
     ]
    }
   ],
   "source": [
    "func()"
   ]
  },
  {
   "cell_type": "code",
   "execution_count": 131,
   "id": "d2ea0f71",
   "metadata": {},
   "outputs": [],
   "source": [
    "x=bin(10) "
   ]
  },
  {
   "cell_type": "code",
   "execution_count": 132,
   "id": "dc8fc0a0",
   "metadata": {},
   "outputs": [
    {
     "data": {
      "text/plain": [
       "'0b1010'"
      ]
     },
     "execution_count": 132,
     "metadata": {},
     "output_type": "execute_result"
    }
   ],
   "source": [
    "x"
   ]
  },
  {
   "cell_type": "code",
   "execution_count": 133,
   "id": "a5ddfb9c",
   "metadata": {},
   "outputs": [],
   "source": [
    "# False,None\n",
    "# 0,0.0,0j\n",
    "# \"\"\n",
    "# {},[],()\n",
    "# set()"
   ]
  },
  {
   "cell_type": "markdown",
   "id": "d6fdada7",
   "metadata": {},
   "source": [
    "python type conversion \n",
    "\n"
   ]
  },
  {
   "cell_type": "code",
   "execution_count": 134,
   "id": "0eab5e79",
   "metadata": {},
   "outputs": [],
   "source": [
    "name=float(input(\"Enter name:\"))"
   ]
  },
  {
   "cell_type": "code",
   "execution_count": 135,
   "id": "b7d8712e",
   "metadata": {},
   "outputs": [
    {
     "data": {
      "text/plain": [
       "11.0"
      ]
     },
     "execution_count": 135,
     "metadata": {},
     "output_type": "execute_result"
    }
   ],
   "source": [
    " name+9"
   ]
  },
  {
   "cell_type": "code",
   "execution_count": 136,
   "id": "118fa85f",
   "metadata": {},
   "outputs": [],
   "source": [
    "name=\"ammaad\""
   ]
  },
  {
   "cell_type": "code",
   "execution_count": 137,
   "id": "43ff440c",
   "metadata": {},
   "outputs": [
    {
     "data": {
      "text/plain": [
       "str"
      ]
     },
     "execution_count": 137,
     "metadata": {},
     "output_type": "execute_result"
    }
   ],
   "source": [
    "type(name)"
   ]
  },
  {
   "cell_type": "code",
   "execution_count": 138,
   "id": "9ace3d4b",
   "metadata": {},
   "outputs": [
    {
     "name": "stdout",
     "output_type": "stream",
     "text": [
      "pto\n"
     ]
    }
   ],
   "source": [
    "lang='python'\n",
    "print(lang[::2])"
   ]
  },
  {
   "cell_type": "code",
   "execution_count": 139,
   "id": "1f5e811a",
   "metadata": {},
   "outputs": [
    {
     "data": {
      "text/plain": [
       "'ohtyp'"
      ]
     },
     "execution_count": 139,
     "metadata": {},
     "output_type": "execute_result"
    }
   ],
   "source": [
    "lang[-2::-1]"
   ]
  },
  {
   "cell_type": "code",
   "execution_count": null,
   "id": "92aabeea",
   "metadata": {},
   "outputs": [],
   "source": []
  },
  {
   "cell_type": "code",
   "execution_count": null,
   "id": "3cd78597",
   "metadata": {},
   "outputs": [],
   "source": []
  },
  {
   "cell_type": "code",
   "execution_count": 140,
   "id": "fa570b00",
   "metadata": {},
   "outputs": [],
   "source": [
    "x='h'\n",
    "y='xyz'\n",
    "z=9.000000009"
   ]
  },
  {
   "cell_type": "markdown",
   "id": "8d464ac5",
   "metadata": {},
   "source": [
    "f-string"
   ]
  },
  {
   "cell_type": "code",
   "execution_count": 141,
   "id": "c215e775",
   "metadata": {},
   "outputs": [],
   "source": [
    " data=f'{x} {z:.3f}'"
   ]
  },
  {
   "cell_type": "code",
   "execution_count": 142,
   "id": "ffbec01e",
   "metadata": {},
   "outputs": [
    {
     "data": {
      "text/plain": [
       "'h 9.000'"
      ]
     },
     "execution_count": 142,
     "metadata": {},
     "output_type": "execute_result"
    }
   ],
   "source": [
    "data"
   ]
  },
  {
   "cell_type": "code",
   "execution_count": 143,
   "id": "b1319e31",
   "metadata": {},
   "outputs": [],
   "source": [
    "lang='python programming is great'"
   ]
  },
  {
   "cell_type": "code",
   "execution_count": 144,
   "id": "165b8221",
   "metadata": {},
   "outputs": [
    {
     "data": {
      "text/plain": [
       "'python@programming@is@great'"
      ]
     },
     "execution_count": 144,
     "metadata": {},
     "output_type": "execute_result"
    }
   ],
   "source": [
    "lang.replace(\" \",\"@\")"
   ]
  },
  {
   "cell_type": "code",
   "execution_count": 145,
   "id": "6e5e3625",
   "metadata": {},
   "outputs": [
    {
     "data": {
      "text/plain": [
       "9"
      ]
     },
     "execution_count": 145,
     "metadata": {},
     "output_type": "execute_result"
    }
   ],
   "source": [
    "lang.find(\"o\",5,len(lang))"
   ]
  },
  {
   "cell_type": "code",
   "execution_count": 146,
   "id": "6f125c2b",
   "metadata": {},
   "outputs": [
    {
     "data": {
      "text/plain": [
       "9"
      ]
     },
     "execution_count": 146,
     "metadata": {},
     "output_type": "execute_result"
    }
   ],
   "source": [
    "lang.rfind(\"o\")"
   ]
  },
  {
   "cell_type": "code",
   "execution_count": 147,
   "id": "fe19adf8",
   "metadata": {},
   "outputs": [
    {
     "data": {
      "text/plain": [
       "''"
      ]
     },
     "execution_count": 147,
     "metadata": {},
     "output_type": "execute_result"
    }
   ],
   "source": [
    "lang[a:b]"
   ]
  },
  {
   "cell_type": "code",
   "execution_count": 148,
   "id": "a84d29fe",
   "metadata": {},
   "outputs": [],
   "source": [
    "msg=\"rizwan ammmad@gmail.com tue\""
   ]
  },
  {
   "cell_type": "code",
   "execution_count": 149,
   "id": "73a36e6f",
   "metadata": {},
   "outputs": [],
   "source": [
    "a=msg.find(\"@\")"
   ]
  },
  {
   "cell_type": "code",
   "execution_count": 150,
   "id": "de2c3717",
   "metadata": {},
   "outputs": [],
   "source": [
    "b=msg.find(\" \",a)"
   ]
  },
  {
   "cell_type": "code",
   "execution_count": 151,
   "id": "345500cd",
   "metadata": {},
   "outputs": [
    {
     "data": {
      "text/plain": [
       "'gmail.com'"
      ]
     },
     "execution_count": 151,
     "metadata": {},
     "output_type": "execute_result"
    }
   ],
   "source": [
    "msg[a+1:b]"
   ]
  },
  {
   "cell_type": "code",
   "execution_count": 152,
   "id": "9afad049",
   "metadata": {},
   "outputs": [],
   "source": [
    "msg=msg.split(\"@\")"
   ]
  },
  {
   "cell_type": "markdown",
   "id": "ea3d06ea",
   "metadata": {},
   "source": [
    "# Python sequence type "
   ]
  },
  {
   "cell_type": "markdown",
   "id": "3026acdb",
   "metadata": {},
   "source": [
    "## - list"
   ]
  },
  {
   "cell_type": "code",
   "execution_count": 153,
   "id": "ade93b1b",
   "metadata": {},
   "outputs": [
    {
     "data": {
      "text/plain": [
       "[]"
      ]
     },
     "execution_count": 153,
     "metadata": {},
     "output_type": "execute_result"
    }
   ],
   "source": [
    "# creating a list ,defining a list , making a list\n",
    "data_1=[]\n",
    "data_1"
   ]
  },
  {
   "cell_type": "code",
   "execution_count": 154,
   "id": "910a0d03",
   "metadata": {},
   "outputs": [
    {
     "data": {
      "text/plain": [
       "list"
      ]
     },
     "execution_count": 154,
     "metadata": {},
     "output_type": "execute_result"
    }
   ],
   "source": [
    "type(data_1)"
   ]
  },
  {
   "cell_type": "code",
   "execution_count": 155,
   "id": "5bfc728f",
   "metadata": {},
   "outputs": [],
   "source": [
    "data_3=[2,3,4,[4,7,5,6],{a:1,b:3}]"
   ]
  },
  {
   "cell_type": "code",
   "execution_count": 156,
   "id": "d3754da9",
   "metadata": {},
   "outputs": [
    {
     "data": {
      "text/plain": [
       "[2, 3, 4, [4, 7, 5, 6], {13: 1, 23: 3}]"
      ]
     },
     "execution_count": 156,
     "metadata": {},
     "output_type": "execute_result"
    }
   ],
   "source": [
    "data_3"
   ]
  },
  {
   "cell_type": "code",
   "execution_count": 157,
   "id": "90f1744a",
   "metadata": {},
   "outputs": [],
   "source": [
    "data_4=[[1,2,3],[23,34,45],[345,143,235]]"
   ]
  },
  {
   "cell_type": "code",
   "execution_count": 158,
   "id": "aa4cdefa",
   "metadata": {},
   "outputs": [],
   "source": [
    "data_7=[2,3,4,5,6,1,9,3]"
   ]
  },
  {
   "cell_type": "code",
   "execution_count": 159,
   "id": "da2d8664",
   "metadata": {},
   "outputs": [],
   "source": [
    "data_7.append(\"ali\")"
   ]
  },
  {
   "cell_type": "code",
   "execution_count": 160,
   "id": "31c0cf06",
   "metadata": {},
   "outputs": [
    {
     "data": {
      "text/plain": [
       "[2, 3, 4, 5, 6, 1, 9, 3, 'ali']"
      ]
     },
     "execution_count": 160,
     "metadata": {},
     "output_type": "execute_result"
    }
   ],
   "source": [
    "data_7"
   ]
  },
  {
   "cell_type": "code",
   "execution_count": 161,
   "id": "c0e26536",
   "metadata": {},
   "outputs": [],
   "source": [
    "#copy list elements\n",
    "a=data_7"
   ]
  },
  {
   "cell_type": "code",
   "execution_count": 162,
   "id": "42c124da",
   "metadata": {},
   "outputs": [
    {
     "data": {
      "text/plain": [
       "[2, 3, 4, 5, 6, 1, 9, 3, 'ali']"
      ]
     },
     "execution_count": 162,
     "metadata": {},
     "output_type": "execute_result"
    }
   ],
   "source": [
    "a"
   ]
  },
  {
   "cell_type": "code",
   "execution_count": 163,
   "id": "79a7f12f",
   "metadata": {},
   "outputs": [
    {
     "ename": "TypeError",
     "evalue": "'<' not supported between instances of 'str' and 'int'",
     "output_type": "error",
     "traceback": [
      "\u001b[1;31m---------------------------------------------------------------------------\u001b[0m",
      "\u001b[1;31mTypeError\u001b[0m                                 Traceback (most recent call last)",
      "\u001b[1;32mC:\\Users\\AMMAAD~1\\AppData\\Local\\Temp/ipykernel_8908/2629139315.py\u001b[0m in \u001b[0;36m<module>\u001b[1;34m\u001b[0m\n\u001b[1;32m----> 1\u001b[1;33m \u001b[0ma\u001b[0m\u001b[1;33m.\u001b[0m\u001b[0msort\u001b[0m\u001b[1;33m(\u001b[0m\u001b[1;33m)\u001b[0m\u001b[1;33m\u001b[0m\u001b[1;33m\u001b[0m\u001b[0m\n\u001b[0m",
      "\u001b[1;31mTypeError\u001b[0m: '<' not supported between instances of 'str' and 'int'"
     ]
    }
   ],
   "source": [
    "a.sort()"
   ]
  },
  {
   "cell_type": "code",
   "execution_count": null,
   "id": "dbc5ea13",
   "metadata": {},
   "outputs": [
    {
     "data": {
      "text/plain": [
       "[1, 2, 3, 3, 4, 5, 6, 9]"
      ]
     },
     "execution_count": 16,
     "metadata": {},
     "output_type": "execute_result"
    }
   ],
   "source": [
    "a"
   ]
  },
  {
   "cell_type": "code",
   "execution_count": null,
   "id": "44719477",
   "metadata": {},
   "outputs": [],
   "source": [
    "a=[7,63,2,1,6,6,1,8,99,9,5454,2]\n",
    "b=sorted(a)"
   ]
  },
  {
   "cell_type": "code",
   "execution_count": null,
   "id": "7ab29fa8",
   "metadata": {},
   "outputs": [
    {
     "data": {
      "text/plain": [
       "[1, 1, 2, 2, 6, 6, 7, 8, 9, 63, 99, 5454]"
      ]
     },
     "execution_count": 19,
     "metadata": {},
     "output_type": "execute_result"
    }
   ],
   "source": [
    "b"
   ]
  },
  {
   "cell_type": "code",
   "execution_count": null,
   "id": "a05647f5",
   "metadata": {},
   "outputs": [],
   "source": [
    "b.reverse()"
   ]
  },
  {
   "cell_type": "code",
   "execution_count": null,
   "id": "5ec4b3cc",
   "metadata": {},
   "outputs": [
    {
     "data": {
      "text/plain": [
       "[5454, 99, 63, 9, 8, 7, 6, 6, 2, 2, 1, 1]"
      ]
     },
     "execution_count": 21,
     "metadata": {},
     "output_type": "execute_result"
    }
   ],
   "source": [
    "b"
   ]
  },
  {
   "cell_type": "code",
   "execution_count": null,
   "id": "20593f7e",
   "metadata": {},
   "outputs": [],
   "source": [
    "x=[[1,64,3,54,3],[5,6,4,7,8,9],[1,54,32,5,4]]"
   ]
  },
  {
   "cell_type": "code",
   "execution_count": null,
   "id": "a3aed440",
   "metadata": {},
   "outputs": [],
   "source": [
    "x.sort(key=lambda x:x[4])"
   ]
  },
  {
   "cell_type": "code",
   "execution_count": null,
   "id": "6999eb15",
   "metadata": {},
   "outputs": [
    {
     "data": {
      "text/plain": [
       "[[5, 6, 4, 7, 8, 9], [1, 54, 32, 5, 4], [1, 64, 3, 54, 3]]"
      ]
     },
     "execution_count": 33,
     "metadata": {},
     "output_type": "execute_result"
    }
   ],
   "source": [
    "x"
   ]
  },
  {
   "cell_type": "markdown",
   "id": "228bdd5c",
   "metadata": {},
   "source": [
    "### insert"
   ]
  },
  {
   "cell_type": "code",
   "execution_count": null,
   "id": "f5a705a8",
   "metadata": {},
   "outputs": [],
   "source": [
    "x=[1,2,3,4,6,32,6,3]\n",
    "x.insert(4,\"g\")"
   ]
  },
  {
   "cell_type": "code",
   "execution_count": null,
   "id": "ab92ec50",
   "metadata": {},
   "outputs": [
    {
     "data": {
      "text/plain": [
       "[1, 2, 3, 4, 'g', 6, 32, 6, 3]"
      ]
     },
     "execution_count": 40,
     "metadata": {},
     "output_type": "execute_result"
    }
   ],
   "source": [
    "x"
   ]
  },
  {
   "cell_type": "markdown",
   "id": "9c3185de",
   "metadata": {},
   "source": [
    "### extending"
   ]
  },
  {
   "cell_type": "code",
   "execution_count": null,
   "id": "3b6ad6dc",
   "metadata": {},
   "outputs": [],
   "source": [
    "y=[1,2,3]"
   ]
  },
  {
   "cell_type": "code",
   "execution_count": null,
   "id": "c845af14",
   "metadata": {},
   "outputs": [],
   "source": [
    "x.extend(y)"
   ]
  },
  {
   "cell_type": "code",
   "execution_count": null,
   "id": "9efb5ffe",
   "metadata": {},
   "outputs": [
    {
     "data": {
      "text/plain": [
       "[1, 2, 3, 4, 'g', 6, 32, 6, 3, 1, 2, 3]"
      ]
     },
     "execution_count": 43,
     "metadata": {},
     "output_type": "execute_result"
    }
   ],
   "source": [
    "x"
   ]
  },
  {
   "cell_type": "markdown",
   "id": "69e5f0ee",
   "metadata": {},
   "source": [
    "### removing"
   ]
  },
  {
   "cell_type": "code",
   "execution_count": 168,
   "id": "54cf8334",
   "metadata": {},
   "outputs": [],
   "source": [
    "x=[1,2,3,4,5,6,7,7,8,8]\n",
    "x.remove(8)"
   ]
  },
  {
   "cell_type": "code",
   "execution_count": 169,
   "id": "52f8f7ab",
   "metadata": {},
   "outputs": [
    {
     "data": {
      "text/plain": [
       "[1, 2, 3, 4, 5, 6, 7, 7, 8]"
      ]
     },
     "execution_count": 169,
     "metadata": {},
     "output_type": "execute_result"
    }
   ],
   "source": [
    "x"
   ]
  },
  {
   "cell_type": "code",
   "execution_count": 175,
   "id": "515ee90e",
   "metadata": {},
   "outputs": [],
   "source": [
    "del x[:4]"
   ]
  },
  {
   "cell_type": "code",
   "execution_count": 176,
   "id": "5f361abf",
   "metadata": {},
   "outputs": [
    {
     "data": {
      "text/plain": [
       "[]"
      ]
     },
     "execution_count": 176,
     "metadata": {},
     "output_type": "execute_result"
    }
   ],
   "source": [
    "x"
   ]
  },
  {
   "cell_type": "markdown",
   "id": "00fe0596",
   "metadata": {},
   "source": [
    "### poping elements"
   ]
  },
  {
   "cell_type": "code",
   "execution_count": 179,
   "id": "e3327cfb",
   "metadata": {},
   "outputs": [],
   "source": [
    "x=[1,2,34,4,6,67,7,788,4]"
   ]
  },
  {
   "cell_type": "code",
   "execution_count": 182,
   "id": "d27ef939",
   "metadata": {},
   "outputs": [
    {
     "data": {
      "text/plain": [
       "2"
      ]
     },
     "execution_count": 182,
     "metadata": {},
     "output_type": "execute_result"
    }
   ],
   "source": [
    "x.pop(1)"
   ]
  },
  {
   "cell_type": "code",
   "execution_count": 183,
   "id": "c969f663",
   "metadata": {},
   "outputs": [
    {
     "data": {
      "text/plain": [
       "[1, 34, 4, 6, 67, 7, 788]"
      ]
     },
     "execution_count": 183,
     "metadata": {},
     "output_type": "execute_result"
    }
   ],
   "source": [
    "x"
   ]
  },
  {
   "cell_type": "markdown",
   "id": "390769eb",
   "metadata": {},
   "source": [
    "### searching\n",
    "- seqential search\n",
    "- binary search\n"
   ]
  },
  {
   "cell_type": "code",
   "execution_count": 185,
   "id": "219bc575",
   "metadata": {},
   "outputs": [],
   "source": [
    "x=[1,5,4,6,2,8,90,3,4,3,2,2]"
   ]
  },
  {
   "cell_type": "code",
   "execution_count": 186,
   "id": "4e62066b",
   "metadata": {},
   "outputs": [
    {
     "data": {
      "text/plain": [
       "3"
      ]
     },
     "execution_count": 186,
     "metadata": {},
     "output_type": "execute_result"
    }
   ],
   "source": [
    "x.index(6)"
   ]
  },
  {
   "cell_type": "code",
   "execution_count": 187,
   "id": "4d87ebf0",
   "metadata": {},
   "outputs": [
    {
     "data": {
      "text/plain": [
       "True"
      ]
     },
     "execution_count": 187,
     "metadata": {},
     "output_type": "execute_result"
    }
   ],
   "source": [
    "5 in x"
   ]
  },
  {
   "cell_type": "code",
   "execution_count": 188,
   "id": "cd0f387c",
   "metadata": {},
   "outputs": [
    {
     "data": {
      "text/plain": [
       "False"
      ]
     },
     "execution_count": 188,
     "metadata": {},
     "output_type": "execute_result"
    }
   ],
   "source": [
    "x is list"
   ]
  },
  {
   "cell_type": "markdown",
   "id": "f45352a0",
   "metadata": {},
   "source": [
    "## array"
   ]
  },
  {
   "cell_type": "code",
   "execution_count": 5,
   "id": "1a9d53b9",
   "metadata": {},
   "outputs": [],
   "source": [
    "users=[\"ammad\",\"ali\",\"hassan\"]\n",
    "users.sort(key=lambda x: len(x))"
   ]
  },
  {
   "cell_type": "code",
   "execution_count": 6,
   "id": "35cde733",
   "metadata": {},
   "outputs": [
    {
     "data": {
      "text/plain": [
       "['ali', 'ammad', 'hassan']"
      ]
     },
     "execution_count": 6,
     "metadata": {},
     "output_type": "execute_result"
    }
   ],
   "source": [
    "users"
   ]
  },
  {
   "cell_type": "code",
   "execution_count": 10,
   "id": "31ff24e7",
   "metadata": {},
   "outputs": [],
   "source": [
    "users=[\"ammad\",\"ali\",\"hassan\"]\n",
    "users.sort(key=lambda x: ord(x[0]))"
   ]
  },
  {
   "cell_type": "code",
   "execution_count": 11,
   "id": "d863d461",
   "metadata": {},
   "outputs": [
    {
     "data": {
      "text/plain": [
       "['ammad', 'ali', 'hassan']"
      ]
     },
     "execution_count": 11,
     "metadata": {},
     "output_type": "execute_result"
    }
   ],
   "source": [
    "users"
   ]
  },
  {
   "cell_type": "markdown",
   "id": "53bf6f7b",
   "metadata": {},
   "source": [
    "### Python array"
   ]
  },
  {
   "cell_type": "code",
   "execution_count": 17,
   "id": "5041c162",
   "metadata": {},
   "outputs": [],
   "source": [
    "from array import array as arr"
   ]
  },
  {
   "cell_type": "code",
   "execution_count": 19,
   "id": "1f9dfeb0",
   "metadata": {},
   "outputs": [
    {
     "data": {
      "text/plain": [
       "type"
      ]
     },
     "execution_count": 19,
     "metadata": {},
     "output_type": "execute_result"
    }
   ],
   "source": [
    "type(arr)"
   ]
  },
  {
   "cell_type": "code",
   "execution_count": 20,
   "id": "48d7280a",
   "metadata": {},
   "outputs": [],
   "source": [
    "arr_1=arr('b',[6,7,8,9])"
   ]
  },
  {
   "cell_type": "code",
   "execution_count": 21,
   "id": "8504b5cb",
   "metadata": {},
   "outputs": [
    {
     "name": "stdout",
     "output_type": "stream",
     "text": [
      "array('b', [6, 7, 8, 9])\n"
     ]
    }
   ],
   "source": [
    "print(arr_1)"
   ]
  },
  {
   "cell_type": "markdown",
   "id": "725707c3",
   "metadata": {},
   "source": [
    "### pthon range"
   ]
  },
  {
   "cell_type": "code",
   "execution_count": 24,
   "id": "2cc44b26",
   "metadata": {},
   "outputs": [],
   "source": [
    "x=range(5,99)"
   ]
  },
  {
   "cell_type": "code",
   "execution_count": 6,
   "id": "ee1fca02",
   "metadata": {},
   "outputs": [],
   "source": [
    "x=[1,2,3,4]\n",
    "x=tuple(x)"
   ]
  },
  {
   "cell_type": "code",
   "execution_count": 31,
   "id": "56aaccc7",
   "metadata": {},
   "outputs": [
    {
     "data": {
      "text/plain": [
       "[10, 9, 8, 7, 6, 5, 4, 3, 2, 1]"
      ]
     },
     "execution_count": 31,
     "metadata": {},
     "output_type": "execute_result"
    }
   ],
   "source": [
    "x=range(10,0,-1)\n",
    "list(x)"
   ]
  },
  {
   "cell_type": "markdown",
   "id": "144b4177",
   "metadata": {},
   "source": [
    "## tuple"
   ]
  },
  {
   "cell_type": "code",
   "execution_count": 3,
   "id": "d461d591",
   "metadata": {},
   "outputs": [],
   "source": [
    "a=(2,3,4,5,6)"
   ]
  },
  {
   "cell_type": "code",
   "execution_count": 5,
   "id": "e3970189",
   "metadata": {},
   "outputs": [
    {
     "data": {
      "text/plain": [
       "0"
      ]
     },
     "execution_count": 5,
     "metadata": {},
     "output_type": "execute_result"
    }
   ],
   "source": [
    "type(a)\n",
    "a.index(2)"
   ]
  },
  {
   "cell_type": "markdown",
   "id": "dccb6931",
   "metadata": {},
   "source": [
    "## sets"
   ]
  },
  {
   "cell_type": "code",
   "execution_count": 38,
   "id": "1fbe10cd",
   "metadata": {},
   "outputs": [],
   "source": [
    "s1={2,3,4,5,56}"
   ]
  },
  {
   "cell_type": "code",
   "execution_count": 40,
   "id": "5a51b720",
   "metadata": {},
   "outputs": [
    {
     "data": {
      "text/plain": [
       "set"
      ]
     },
     "execution_count": 40,
     "metadata": {},
     "output_type": "execute_result"
    }
   ],
   "source": [
    "s1."
   ]
  },
  {
   "cell_type": "markdown",
   "id": "b9996ad0",
   "metadata": {},
   "source": [
    "## frozen set"
   ]
  },
  {
   "cell_type": "code",
   "execution_count": null,
   "id": "660e649f",
   "metadata": {},
   "outputs": [],
   "source": [
    "s1=frozenset({\"ali\",})"
   ]
  },
  {
   "cell_type": "code",
   "execution_count": null,
   "id": "4f6709d5",
   "metadata": {},
   "outputs": [],
   "source": []
  },
  {
   "cell_type": "code",
   "execution_count": null,
   "id": "2a094cdd",
   "metadata": {},
   "outputs": [],
   "source": []
  }
 ],
 "metadata": {
  "kernelspec": {
   "display_name": "Python 3 (ipykernel)",
   "language": "python",
   "name": "python3"
  },
  "language_info": {
   "codemirror_mode": {
    "name": "ipython",
    "version": 3
   },
   "file_extension": ".py",
   "mimetype": "text/x-python",
   "name": "python",
   "nbconvert_exporter": "python",
   "pygments_lexer": "ipython3",
   "version": "3.10.2"
  }
 },
 "nbformat": 4,
 "nbformat_minor": 5
}
